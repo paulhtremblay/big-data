{
 "cells": [
  {
   "cell_type": "code",
   "execution_count": 16,
   "metadata": {},
   "outputs": [],
   "source": [
    "import pandas as pd\n",
    "from scipy import stats\n",
    "from statsmodels.formula.api import ols\n",
    "from statsmodels.stats.anova import anova_lm"
   ]
  },
  {
   "cell_type": "code",
   "execution_count": 2,
   "metadata": {},
   "outputs": [],
   "source": [
    "def get_age_data():\n",
    "    d = [\n",
    "    ['b', 4, '10'],\n",
    "    ['b', 6, '10'],\n",
    "    ['b', 8, '10'],\n",
    "    ['g', 4, '10'],\n",
    "    ['g', 8, '10'],\n",
    "    ['g', 9, '10'],\n",
    "    ['b', 6, '11'],\n",
    "    ['b', 6, '11'],\n",
    "    ['b', 9, '11'],\n",
    "    ['g', 7, '11'],\n",
    "    ['g', 10, '11'],\n",
    "    ['g', 13, '11'],\n",
    "    ['b', 8, '12'],\n",
    "    ['b', 9, '12'],\n",
    "    ['b', 13, '12'],\n",
    "    ['g', 12, '12'],\n",
    "    ['g', 14, '12'],\n",
    "    ['g', 16, '12'],\n",
    "\n",
    "    ]\n",
    "    df = pd.DataFrame(d,   \n",
    "                     columns = ['gender', 'score', 'age'])\n",
    "    \n",
    "    return df\n",
    "def get_means_table():\n",
    "    df = get_age_data()\n",
    "    df_means = df.groupby(by = ['age','gender']).mean()\n",
    "    return df_means\n",
    "\n"
   ]
  },
  {
   "cell_type": "code",
   "execution_count": 3,
   "metadata": {},
   "outputs": [],
   "source": [
    "def get_ss_gender():\n",
    "    s = 0\n",
    "    def by_gender(gender):\n",
    "        df = get_age_data()\n",
    "        df_means = df.groupby(by = ['gender','age']).mean()\n",
    "        g_means = df_means.loc[gender].mean()\n",
    "        grand_mean = df.mean()\n",
    "        s_gender = sum([(g_means - grand_mean)**2 for x in df[df.gender==gender].score])\n",
    "        return s_gender\n",
    "    s += by_gender('b')\n",
    "    s += by_gender('g')\n",
    "    return s"
   ]
  },
  {
   "cell_type": "code",
   "execution_count": 4,
   "metadata": {},
   "outputs": [],
   "source": [
    "def get_ss_by_factor(df, factor_main, factor_second):\n",
    "    df_means = df.groupby(by = [factor_main, factor_second]).mean()\n",
    "    g_m = df.mean()\n",
    "    total = 0\n",
    "    for i in df[factor_main].unique():\n",
    "        mean_age = df[df[factor_main]==i].mean()\n",
    "        total +=  sum([(g_m - mean_age)**2 for x in df[df[factor_main]==i].score])\n",
    "    return total  \n"
   ]
  },
  {
   "cell_type": "code",
   "execution_count": 5,
   "metadata": {},
   "outputs": [],
   "source": [
    "def get_ss_age():\n",
    "    df = get_age_data()\n",
    "    df_means = df.groupby(by = ['gender','age']).mean()\n",
    "    g_m = df.mean()\n",
    "    total = 0\n",
    "    for i in df['age'].unique():\n",
    "        mean_age = df[df.age==i].mean()\n",
    "        total +=  sum([(g_m - mean_age)**2 for x in df[df.age==i].score])\n",
    "    return total  \n",
    "\n"
   ]
  },
  {
   "cell_type": "code",
   "execution_count": 6,
   "metadata": {},
   "outputs": [],
   "source": [
    "def get_ss_within():\n",
    "    s = 0\n",
    "    df = get_age_data()\n",
    "    def get_mean(age, gender):\n",
    "        f = df[df['age']==age]\n",
    "        s = f[f['gender']==gender]\n",
    "        return s\n",
    "    data = [('10', 'b'), ('11', 'b'), ('12','b'), ('10', 'g'), ('11', 'g'), ('12', 'g')]\n",
    "    for i in data:\n",
    "        df_age = get_mean(i[0], i[1])\n",
    "        mean = df_age.mean()\n",
    "        s += sum([(x - mean)**2 for x in df_age.score])\n",
    "    return s\n"
   ]
  },
  {
   "cell_type": "code",
   "execution_count": null,
   "metadata": {},
   "outputs": [],
   "source": [
    "def get_ss_within_gen(df, first_factor, second_factor, target):\n",
    "    s = 0\n",
    "    def get_combos():\n",
    "        first = df[first_factor].unique()\n",
    "        second = df[second_factor].unique()\n",
    "        combos = []\n",
    "        for i in first:\n",
    "            for j in second:\n",
    "                combos.append((i,j))\n",
    "        return combos\n",
    "    def get_mean(age, gender):\n",
    "        f = df[df[first_factor]==age]\n",
    "        s = f[f[second_factor]==gender]\n",
    "        return s\n",
    "    data = get_combos()\n",
    "    for i in data:\n",
    "        df_first = get_mean(i[0], i[1])\n",
    "        mean = df_first.mean()\n",
    "        s += sum([(x - mean)**2 for x in df_first[target]])\n",
    "    return s\n"
   ]
  },
  {
   "cell_type": "code",
   "execution_count": 7,
   "metadata": {},
   "outputs": [],
   "source": [
    "def get_sum_squares_total():\n",
    "    df = get_age_data()\n",
    "    g_m = df.mean()\n",
    "    return sum([(x-g_m)**2 for x in df.score])"
   ]
  },
  {
   "cell_type": "code",
   "execution_count": null,
   "metadata": {},
   "outputs": [],
   "source": [
    "def get_sum_squares_total_gen(df, target):\n",
    "    g_m = df.mean()\n",
    "    return sum([(x-g_m)**2 for x in df[target]])"
   ]
  },
  {
   "cell_type": "code",
   "execution_count": 22,
   "metadata": {},
   "outputs": [
    {
     "name": "stdout",
     "output_type": "stream",
     "text": [
      "2\n"
     ]
    },
    {
     "ename": "AssertionError",
     "evalue": "",
     "output_type": "error",
     "traceback": [
      "\u001b[0;31m---------------------------------------------------------------------------\u001b[0m",
      "\u001b[0;31mAssertionError\u001b[0m                            Traceback (most recent call last)",
      "\u001b[0;32m<ipython-input-22-f0dcdffff035>\u001b[0m in \u001b[0;36m<module>\u001b[0;34m\u001b[0m\n\u001b[1;32m      9\u001b[0m \u001b[0mdf_both_factors\u001b[0m \u001b[0;34m=\u001b[0m \u001b[0mdf_gender\u001b[0m \u001b[0;34m*\u001b[0m \u001b[0mdf_age\u001b[0m\u001b[0;34m\u001b[0m\u001b[0;34m\u001b[0m\u001b[0m\n\u001b[1;32m     10\u001b[0m \u001b[0mprint\u001b[0m\u001b[0;34m(\u001b[0m\u001b[0mdf_both_factors\u001b[0m\u001b[0;34m)\u001b[0m\u001b[0;34m\u001b[0m\u001b[0;34m\u001b[0m\u001b[0m\n\u001b[0;32m---> 11\u001b[0;31m \u001b[0;32massert\u001b[0m \u001b[0;32mFalse\u001b[0m\u001b[0;34m\u001b[0m\u001b[0;34m\u001b[0m\u001b[0m\n\u001b[0m\u001b[1;32m     12\u001b[0m \u001b[0mdf\u001b[0m \u001b[0;34m=\u001b[0m \u001b[0mget_age_data\u001b[0m\u001b[0;34m(\u001b[0m\u001b[0;34m)\u001b[0m\u001b[0;34m\u001b[0m\u001b[0;34m\u001b[0m\u001b[0m\n\u001b[1;32m     13\u001b[0m \u001b[0mdf_total\u001b[0m \u001b[0;34m=\u001b[0m \u001b[0mlen\u001b[0m\u001b[0;34m(\u001b[0m\u001b[0mdf\u001b[0m\u001b[0;34m.\u001b[0m\u001b[0mscore\u001b[0m\u001b[0;34m)\u001b[0m \u001b[0;34m-\u001b[0m\u001b[0;36m1\u001b[0m\u001b[0;34m\u001b[0m\u001b[0;34m\u001b[0m\u001b[0m\n",
      "\u001b[0;31mAssertionError\u001b[0m: "
     ]
    }
   ],
   "source": [
    "ss_gender = get_ss_gender()\n",
    "ss_age = get_ss_age()\n",
    "ss_total  = get_sum_squares_total()\n",
    "ss_within = get_ss_within()\n",
    "ss_both_factors = ss_total - (ss_gender + ss_age + ss_within)\n",
    "df_gender = len(['b', 'g']) - 1\n",
    "df_age = len(['10', '11', '12']) -1\n",
    "df_within = 12\n",
    "df_both_factors = df_gender * df_age\n",
    "df = get_age_data()\n",
    "df_total = len(df.score) -1\n",
    "mean_ss_age = ss_age/df_age\n",
    "mean_ss_gender = ss_gender/df_gender\n",
    "mean_ss_within = ss_within/df_within\n",
    "mean_both_factors = ss_both_factors/df_both_factors\n",
    "gender_f_score = mean_ss_gender/mean_ss_within\n",
    "age_f_score = mean_ss_age/mean_ss_within\n",
    "both_factors_f_score = mean_both_factors/mean_ss_within\n",
    "gender_f_score\n",
    "#F(1, 12 )\n",
    "p_gender = stats.f.sf(gender_f_score, df_gender, df_within)\n",
    "p_age = stats.f.sf(age_f_score, df_age, df_within)\n",
    "p_both_factors = stats.f.sf(both_factors_f_score, df_both_factors, df_within)\n",
    "print(ss_gender)\n",
    "print(ss_total)\n",
    "print(mean_ss_within)\n",
    "print('p gender {p}'.format(p= p_gender))\n",
    "print('p age {p}'.format( p = p_age))"
   ]
  },
  {
   "cell_type": "code",
   "execution_count": 17,
   "metadata": {},
   "outputs": [
    {
     "data": {
      "text/html": [
       "<div>\n",
       "<style scoped>\n",
       "    .dataframe tbody tr th:only-of-type {\n",
       "        vertical-align: middle;\n",
       "    }\n",
       "\n",
       "    .dataframe tbody tr th {\n",
       "        vertical-align: top;\n",
       "    }\n",
       "\n",
       "    .dataframe thead th {\n",
       "        text-align: right;\n",
       "    }\n",
       "</style>\n",
       "<table border=\"1\" class=\"dataframe\">\n",
       "  <thead>\n",
       "    <tr style=\"text-align: right;\">\n",
       "      <th></th>\n",
       "      <th>sum_sq</th>\n",
       "      <th>df</th>\n",
       "      <th>F</th>\n",
       "      <th>PR(&gt;F)</th>\n",
       "    </tr>\n",
       "  </thead>\n",
       "  <tbody>\n",
       "    <tr>\n",
       "      <th>C(age)</th>\n",
       "      <td>93.0</td>\n",
       "      <td>2.0</td>\n",
       "      <td>8.680000</td>\n",
       "      <td>0.003534</td>\n",
       "    </tr>\n",
       "    <tr>\n",
       "      <th>C(gender)</th>\n",
       "      <td>32.0</td>\n",
       "      <td>1.0</td>\n",
       "      <td>5.973333</td>\n",
       "      <td>0.028367</td>\n",
       "    </tr>\n",
       "    <tr>\n",
       "      <th>Residual</th>\n",
       "      <td>75.0</td>\n",
       "      <td>14.0</td>\n",
       "      <td>NaN</td>\n",
       "      <td>NaN</td>\n",
       "    </tr>\n",
       "  </tbody>\n",
       "</table>\n",
       "</div>"
      ],
      "text/plain": [
       "           sum_sq    df         F    PR(>F)\n",
       "C(age)       93.0   2.0  8.680000  0.003534\n",
       "C(gender)    32.0   1.0  5.973333  0.028367\n",
       "Residual     75.0  14.0       NaN       NaN"
      ]
     },
     "execution_count": 17,
     "metadata": {},
     "output_type": "execute_result"
    }
   ],
   "source": [
    "def lib_test():\n",
    "    data = get_age_data()\n",
    "    formula = 'score ~ C(age) + C(gender)'\n",
    "    model = ols(formula, data).fit()\n",
    "    aov_table = anova_lm(model, typ=2)\n",
    "    return aov_table\n",
    "lib_test()"
   ]
  },
  {
   "cell_type": "code",
   "execution_count": null,
   "metadata": {},
   "outputs": [],
   "source": [
    "ss_gender = get_ss_by_factor(get_age_data(), 'gender', 'age')\n",
    "ss_age = get_ss_by_factor(get_age_data(), 'age', 'gender')\n",
    "ss_within = get_ss_within_gen(get_age_data(), 'age', 'gender', 'score')\n",
    "ss_total  = get_sum_squares_total()\n",
    "\n",
    "ss_gender_2 = get_ss_gender()\n",
    "ss_age_2 = get_ss_age()\n",
    "ss_within_2 = get_ss_within()\n",
    "ss_total_2 = get_sum_squares_total_gen(df, 'score')\n",
    "print(ss_age, ss_age_2)\n",
    "print(ss_gender, ss_gender_2)\n",
    "print(ss_within, ss_within_2)\n",
    "print(ss_total, ss_total_2)\n",
    "\n"
   ]
  },
  {
   "cell_type": "code",
   "execution_count": null,
   "metadata": {},
   "outputs": [],
   "source": []
  }
 ],
 "metadata": {
  "kernelspec": {
   "display_name": "Python 3",
   "language": "python",
   "name": "python3"
  },
  "language_info": {
   "codemirror_mode": {
    "name": "ipython",
    "version": 3
   },
   "file_extension": ".py",
   "mimetype": "text/x-python",
   "name": "python",
   "nbconvert_exporter": "python",
   "pygments_lexer": "ipython3",
   "version": "3.6.8"
  }
 },
 "nbformat": 4,
 "nbformat_minor": 2
}
