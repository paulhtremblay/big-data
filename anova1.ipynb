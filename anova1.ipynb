{
 "cells": [
  {
   "cell_type": "code",
   "execution_count": 2,
   "metadata": {},
   "outputs": [],
   "source": [
    "import numpy as np\n",
    "import math\n",
    "import pandas as pd\n",
    "from scipy import stats\n",
    "import random"
   ]
  },
  {
   "cell_type": "code",
   "execution_count": 5,
   "metadata": {},
   "outputs": [],
   "source": [
    "def get_data():\n",
    "    d1 = [.56, 1.12, .9, 1.07, .94]\n",
    "    d2 = [.72, .69, .87, .78, .91]\n",
    "    d3 = [.62, 1.08, 1.07, .99, .93]\n",
    "    df = pd.DataFrame([d1, d2, d3],  index = ['t1', 't2', 't3'])\n",
    "    return df\n",
    "data = get_data()"
   ]
  },
  {
   "cell_type": "code",
   "execution_count": null,
   "metadata": {},
   "outputs": [],
   "source": [
    "def get_sse(*kwargs):\n",
    "    _sse = []\n",
    "    for i in kwargs:\n",
    "        mean = np.mean(i)\n",
    "        _sse.append(sum([(x -mean) * (x -mean) for x in i]))\n",
    "    return sum(_sse)"
   ]
  },
  {
   "cell_type": "code",
   "execution_count": null,
   "metadata": {},
   "outputs": [],
   "source": [
    "def get_correction_factor(*kwargs):\n",
    "    n = 0 \n",
    "    s = 0\n",
    "    for i in kwargs:\n",
    "        n += len(i)\n",
    "        s += sum(i)\n",
    "    return 1/n * s * s\n",
    "#CF = get_correction_factor(data.loc['t1',], data.loc['t2'], data.loc['t3'])\n",
    "    "
   ]
  },
  {
   "cell_type": "code",
   "execution_count": null,
   "metadata": {},
   "outputs": [],
   "source": [
    "def get_sst(*kwargs):\n",
    "    s2 = 0\n",
    "    for i in kwargs:\n",
    "        for j in i:\n",
    "            s2 += j * j\n",
    "    CF = get_correction_factor(*kwargs)\n",
    "    return s2 - CF"
   ]
  },
  {
   "cell_type": "code",
   "execution_count": null,
   "metadata": {},
   "outputs": [],
   "source": [
    "def get_sstr(*kwargs):\n",
    "    s2 = 0\n",
    "    for i in kwargs:\n",
    "        s2 += sum(i) * sum(i)\n",
    "    CF = get_correction_factor(*kwargs)\n",
    "    return s2/len(kwargs[0]) - CF"
   ]
  },
  {
   "cell_type": "code",
   "execution_count": 9,
   "metadata": {},
   "outputs": [],
   "source": [
    "F, p = stats.f_oneway(data.loc['t1'], data.loc['t2'], data.loc['t3'])"
   ]
  },
  {
   "cell_type": "code",
   "execution_count": 62,
   "metadata": {},
   "outputs": [],
   "source": [
    "def do_test_rand_3():\n",
    "    s = [random.randint(1, 100) for x in range(99)]\n",
    "    t1 = s[0:33]\n",
    "    t2 = s[33:66]\n",
    "    t3 = s[66:99]\n",
    "    F, p = stats.f_oneway(t1, t2, t3)\n",
    "    print(p)\n",
    "    return F\n",
    "   "
   ]
  },
  {
   "cell_type": "code",
   "execution_count": 61,
   "metadata": {},
   "outputs": [
    {
     "name": "stdout",
     "output_type": "stream",
     "text": [
      "0.857365371020682\n"
     ]
    }
   ],
   "source": [
    "def test_100():\n",
    "    f = []\n",
    "    for i in range(100):\n",
    "        f.append(do_test_rand_3())\n",
    "    print(np.mean(f))\n",
    "test_100()\n",
    "\"\"\"The mean of the test will be 1. Need to prove why F will equal 1 and not 0\"\"\""
   ]
  },
  {
   "cell_type": "code",
   "execution_count": 4,
   "metadata": {},
   "outputs": [
    {
     "data": {
      "text/plain": [
       "0.5000000000000001"
      ]
     },
     "execution_count": 4,
     "metadata": {},
     "output_type": "execute_result"
    }
   ],
   "source": [
    "stats.f.cdf(1, 10, 10)"
   ]
  }
 ],
 "metadata": {
  "kernelspec": {
   "display_name": "Python 3",
   "language": "python",
   "name": "python3"
  },
  "language_info": {
   "codemirror_mode": {
    "name": "ipython",
    "version": 3
   },
   "file_extension": ".py",
   "mimetype": "text/x-python",
   "name": "python",
   "nbconvert_exporter": "python",
   "pygments_lexer": "ipython3",
   "version": "3.6.8"
  }
 },
 "nbformat": 4,
 "nbformat_minor": 2
}
