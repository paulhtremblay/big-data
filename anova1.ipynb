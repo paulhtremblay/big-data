{
 "cells": [
  {
   "cell_type": "code",
   "execution_count": 2,
   "metadata": {},
   "outputs": [],
   "source": [
    "import numpy as np\n",
    "import math"
   ]
  },
  {
   "cell_type": "code",
   "execution_count": 9,
   "metadata": {},
   "outputs": [
    {
     "name": "stdout",
     "output_type": "stream",
     "text": [
      "0.028728888888888894\n",
      "0.16949598487542086\n",
      "0.4309333333333334\n",
      "11.704166666666666\n",
      "12.1351\n"
     ]
    }
   ],
   "source": [
    "data = [.56, 1.12, .9, 1.07, .94, .72, .69, .87, .78, .91, .62, 1.08, 1.07, .99, .93]\n",
    "var = np.var(data)\n",
    "print(var)\n",
    "sd = math.sqrt(var)\n",
    "print(sd)\n",
    "sst = var * len(data)\n",
    "print(sst)\n",
    "sum_o = sum(data)\n",
    "I = 3\n",
    "J= 5\n",
    "correction_factor = 1/(I * J) * sum_o * sum_o\n",
    "print(correction_factor)\n",
    "#12.1351 - correction_factor\n",
    "mean = np.mean(data)\n",
    "#d2 = [(x - mean) * (x - mean) for x in data]\n",
    "#print(sum(d2))\n",
    "first_term = sum([x * x for x in data])\n",
    "print(first_term)"
   ]
  },
  {
   "cell_type": "code",
   "execution_count": null,
   "metadata": {},
   "outputs": [],
   "source": [
    "F, p = stats.f_oneway(df1.loc['t1'], df1.loc['t2'], df1.loc['t3'], df1.loc['t4'])"
   ]
  }
 ],
 "metadata": {
  "kernelspec": {
   "display_name": "Python 3",
   "language": "python",
   "name": "python3"
  },
  "language_info": {
   "codemirror_mode": {
    "name": "ipython",
    "version": 3
   },
   "file_extension": ".py",
   "mimetype": "text/x-python",
   "name": "python",
   "nbconvert_exporter": "python",
   "pygments_lexer": "ipython3",
   "version": "3.5.2"
  }
 },
 "nbformat": 4,
 "nbformat_minor": 2
}
