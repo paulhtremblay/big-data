{
 "cells": [
  {
   "cell_type": "code",
   "execution_count": 135,
   "metadata": {},
   "outputs": [],
   "source": [
    "import pandas as pd\n",
    "from scipy import stats\n",
    "from statsmodels.formula.api import ols\n",
    "from statsmodels.stats.anova import anova_lm"
   ]
  },
  {
   "cell_type": "code",
   "execution_count": 93,
   "metadata": {},
   "outputs": [],
   "source": [
    "def get_ss_by_factor(df, factor_main, factor_second, target):\n",
    "    df_means = df.groupby(by = [factor_main, factor_second]).mean()\n",
    "    g_m = df[target].mean()\n",
    "    total = 0\n",
    "    for i in df[factor_main].unique():\n",
    "        mean_g = df[df[factor_main]==i][target].mean()\n",
    "        total +=  sum([(g_m - mean_g)**2 for x in df[df[factor_main]==i][target]])\n",
    "    return total  \n"
   ]
  },
  {
   "cell_type": "code",
   "execution_count": 129,
   "metadata": {},
   "outputs": [],
   "source": [
    "def get_ss_within(df, first_factor, second_factor, target):\n",
    "    s = 0\n",
    "    def get_combos():\n",
    "        first = df[first_factor].unique()\n",
    "        second = df[second_factor].unique()\n",
    "        combos = []\n",
    "        for i in first:\n",
    "            for j in second:\n",
    "                combos.append((i,j))\n",
    "        return combos\n",
    "    def get_mean(age, gender):\n",
    "        f = df[df[first_factor]==age]\n",
    "        s = f[f[second_factor]==gender]\n",
    "        return s\n",
    "    for i in get_combos():\n",
    "        df_first = get_mean(i[0], i[1])\n",
    "        mean = df_first[target].mean()\n",
    "        print(mean)\n",
    "        print([x  for x in df_first[target]])\n",
    "        s += sum([(x - mean)**2 for x in df_first[target]])\n",
    "    return s"
   ]
  },
  {
   "cell_type": "code",
   "execution_count": 95,
   "metadata": {},
   "outputs": [],
   "source": [
    "def get_ss_total(df, target):\n",
    "    g_m = df[target].mean()\n",
    "    return sum([(x-g_m)**2 for x in df[target]])"
   ]
  },
  {
   "cell_type": "code",
   "execution_count": 96,
   "metadata": {},
   "outputs": [],
   "source": [
    "def get_ss_both_factors(df, ss_first, ss_second, ss_within, ss_total):\n",
    "    return ss_total - (ss_gender + ss_age + ss_within)\n"
   ]
  },
  {
   "cell_type": "code",
   "execution_count": 97,
   "metadata": {},
   "outputs": [],
   "source": [
    "def get_df(df, target):\n",
    "    cols = list(df.columns)\n",
    "    cols.remove(target)\n",
    "    df_first =  len(list(df[cols[0]].unique())) - 1\n",
    "    df_second = len(list(df[cols[1]].unique())) - 1\n",
    "    df_within = len(df[target]) - (len(df[cols[0]].unique())*len(df[cols[1]].unique()))\n",
    "    df_both_factors = df_first * df_second\n",
    "    return df_first, df_second, df_within, df_both_factors\n"
   ]
  },
  {
   "cell_type": "code",
   "execution_count": 98,
   "metadata": {},
   "outputs": [],
   "source": [
    "def do_anova(df, target):\n",
    "    cols = list(df.columns)\n",
    "    cols.remove(target)\n",
    "    ss_first = get_ss_by_factor(df, cols[0], cols[1], target)\n",
    "    print(ss_first)\n",
    "    ss_second = get_ss_by_factor(df, cols[1], cols[0], target)\n",
    "    print(ss_second)\n",
    "    ss_within = get_ss_within(df, cols[0], cols[1], target)\n",
    "    print(ss_within)\n",
    "    ss_total  = get_ss_total(df, target)\n",
    "    ss_both_factors = ss_total - (ss_first + ss_second + ss_within)\n",
    "    df_first, df_second, df_within, df_both_factors = get_df(df, target)\n",
    "    mean_first = ss_first/df_first\n",
    "    mean_second = ss_second/df_second\n",
    "    mean_ss_within = ss_within/df_within\n",
    "    mean_both_factors = ss_both_factors/df_both_factors\n",
    "    first_f_score = mean_first/mean_ss_within\n",
    "    second_f_score = mean_second/mean_ss_within\n",
    "    both_factors_f_score = mean_both_factors/mean_ss_within\n",
    "    p_first = stats.f.sf(first_f_score, df_first, df_within)\n",
    "    p_second = stats.f.sf(second_f_score, df_second, df_within)\n",
    "    p_both_factors = stats.f.sf(both_factors_f_score, df_both_factors, df_within)\n",
    "    return ('within', float(both_factors_f_score), float(p_both_factors)),\\\n",
    "        (cols[0], float(first_f_score), float(p_first)),\\\n",
    "        (cols[1], float(second_f_score), float(p_second))"
   ]
  },
  {
   "cell_type": "code",
   "execution_count": 140,
   "metadata": {},
   "outputs": [
    {
     "name": "stdout",
     "output_type": "stream",
     "text": [
      "32.0\n",
      "93.0\n",
      "6.0\n",
      "[4, 6, 8]\n",
      "7.0\n",
      "[6, 6, 9]\n",
      "10.0\n",
      "[8, 9, 13]\n",
      "7.0\n",
      "[4, 8, 9]\n",
      "10.0\n",
      "[7, 10, 13]\n",
      "14.0\n",
      "[12, 14, 16]\n",
      "68.0\n"
     ]
    },
    {
     "data": {
      "text/plain": [
       "(('within', 0.6176470588235293, 0.5555023440711991),\n",
       " ('gender', 5.647058823529411, 0.03499435061989512),\n",
       " ('age', 8.205882352941176, 0.005676729758203095))"
      ]
     },
     "execution_count": 140,
     "metadata": {},
     "output_type": "execute_result"
    }
   ],
   "source": [
    "\"\"\"TEST IT\"\"\"\n",
    "d = [\n",
    "    ['b', 4, '10'],\n",
    "    ['b', 6, '10'],\n",
    "    ['b', 8, '10'],\n",
    "    ['g', 4, '10'],\n",
    "    ['g', 8, '10'],\n",
    "    ['g', 9, '10'],\n",
    "    ['b', 6, '11'],\n",
    "    ['b', 6, '11'],\n",
    "    ['b', 9, '11'],\n",
    "    ['g', 7, '11'],\n",
    "    ['g', 10, '11'],\n",
    "    ['g', 13, '11'],\n",
    "    ['b', 8, '12'],\n",
    "    ['b', 9, '12'],\n",
    "    ['b', 13, '12'],\n",
    "    ['g', 12, '12'],\n",
    "    ['g', 14, '12'],\n",
    "    ['g', 16, '12'],\n",
    "\n",
    "    ]\n",
    "df = pd.DataFrame(d,   columns = ['gender', 'score', 'age'])\n",
    "do_anova(df, 'score')"
   ]
  },
  {
   "cell_type": "code",
   "execution_count": 141,
   "metadata": {},
   "outputs": [
    {
     "data": {
      "text/html": [
       "<div>\n",
       "<style scoped>\n",
       "    .dataframe tbody tr th:only-of-type {\n",
       "        vertical-align: middle;\n",
       "    }\n",
       "\n",
       "    .dataframe tbody tr th {\n",
       "        vertical-align: top;\n",
       "    }\n",
       "\n",
       "    .dataframe thead th {\n",
       "        text-align: right;\n",
       "    }\n",
       "</style>\n",
       "<table border=\"1\" class=\"dataframe\">\n",
       "  <thead>\n",
       "    <tr style=\"text-align: right;\">\n",
       "      <th></th>\n",
       "      <th>sum_sq</th>\n",
       "      <th>df</th>\n",
       "      <th>F</th>\n",
       "      <th>PR(&gt;F)</th>\n",
       "    </tr>\n",
       "  </thead>\n",
       "  <tbody>\n",
       "    <tr>\n",
       "      <th>C(age)</th>\n",
       "      <td>93.0</td>\n",
       "      <td>2.0</td>\n",
       "      <td>8.680000</td>\n",
       "      <td>0.003534</td>\n",
       "    </tr>\n",
       "    <tr>\n",
       "      <th>C(gender)</th>\n",
       "      <td>32.0</td>\n",
       "      <td>1.0</td>\n",
       "      <td>5.973333</td>\n",
       "      <td>0.028367</td>\n",
       "    </tr>\n",
       "    <tr>\n",
       "      <th>Residual</th>\n",
       "      <td>75.0</td>\n",
       "      <td>14.0</td>\n",
       "      <td>NaN</td>\n",
       "      <td>NaN</td>\n",
       "    </tr>\n",
       "  </tbody>\n",
       "</table>\n",
       "</div>"
      ],
      "text/plain": [
       "           sum_sq    df         F    PR(>F)\n",
       "C(age)       93.0   2.0  8.680000  0.003534\n",
       "C(gender)    32.0   1.0  5.973333  0.028367\n",
       "Residual     75.0  14.0       NaN       NaN"
      ]
     },
     "execution_count": 141,
     "metadata": {},
     "output_type": "execute_result"
    }
   ],
   "source": [
    "formula = 'score ~ C(age) + C(gender) '\n",
    "model = ols(formula, df).fit()\n",
    "aov_table = anova_lm(model, typ=2)\n",
    "aov_table"
   ]
  },
  {
   "cell_type": "code",
   "execution_count": 128,
   "metadata": {},
   "outputs": [
    {
     "name": "stdout",
     "output_type": "stream",
     "text": [
      "91.99999999999991\n",
      "98.66666666666667\n",
      "65.0\n",
      "[65]\n",
      "  coating soil  corrosion\n",
      "0       1    1         65\n",
      "49.0\n",
      "[49]\n",
      "  coating soil  corrosion\n",
      "1       1    2         49\n",
      "50.0\n",
      "[50]\n",
      "  coating soil  corrosion\n",
      "2       1    3         50\n",
      "53.0\n",
      "[53]\n",
      "  coating soil  corrosion\n",
      "3       2    1         53\n",
      "51.0\n",
      "[51]\n",
      "  coating soil  corrosion\n",
      "4       2    2         51\n",
      "48.0\n",
      "[48]\n",
      "  coating soil  corrosion\n",
      "5       2    3         48\n",
      "47.0\n",
      "[47]\n",
      "  coating soil  corrosion\n",
      "6       3    1         47\n",
      "45.0\n",
      "[45]\n",
      "  coating soil  corrosion\n",
      "7       3    2         45\n",
      "50.0\n",
      "[50]\n",
      "  coating soil  corrosion\n",
      "8       3    3         50\n",
      "51.0\n",
      "[51]\n",
      "  coating soil  corrosion\n",
      "9       4    1         51\n",
      "43.0\n",
      "[43]\n",
      "   coating soil  corrosion\n",
      "10       4    2         43\n",
      "52.0\n",
      "[52]\n",
      "   coating soil  corrosion\n",
      "11       4    3         52\n",
      "0.0\n"
     ]
    },
    {
     "name": "stderr",
     "output_type": "stream",
     "text": [
      "/home/henry/Envs/big_data/lib/python3.6/site-packages/ipykernel_launcher.py:15: RuntimeWarning: invalid value encountered in double_scalars\n",
      "  from ipykernel import kernelapp as app\n"
     ]
    },
    {
     "data": {
      "text/plain": [
       "(('within', nan, nan), ('coating', nan, nan), ('soil', nan, nan))"
      ]
     },
     "execution_count": 128,
     "metadata": {},
     "output_type": "execute_result"
    }
   ],
   "source": [
    "def get_data_2():\n",
    "    d = [\n",
    "        ['1', '1', 65],\n",
    "        ['1', '2', 49],\n",
    "        ['1', '3', 50],\n",
    "        ['2', '1', 53],\n",
    "        ['2', '2', 51],\n",
    "        ['2', '3', 48],\n",
    "        ['3', '1', 47],\n",
    "        ['3', '2', 45],\n",
    "        ['3', '3', 50],\n",
    "        ['4', '1', 51],\n",
    "        ['4', '2', 43],\n",
    "        ['4', '3', 52],\n",
    "    ]\n",
    "    df = pd.DataFrame(d,   \n",
    "                     columns = ['coating', 'soil', 'corrosion'])\n",
    "    return df\n",
    "do_anova(get_data_2(), 'corrosion')"
   ]
  },
  {
   "cell_type": "code",
   "execution_count": 138,
   "metadata": {},
   "outputs": [],
   "source": [
    "def get_data_pen():\n",
    "    d = [\n",
    "        ['1', '1', .97],\n",
    "        ['1', '2', .48],\n",
    "        ['1', '3', .48],\n",
    "        ['1', '4', .46],\n",
    "        ['2', '1', .77],\n",
    "        ['2', '2', .14],\n",
    "        ['2', '3', .22],\n",
    "        ['2', '4', .25],\n",
    "        ['3', '1', .67],\n",
    "        ['3', '2', .39],\n",
    "        ['3', '3', .57],\n",
    "        ['3', '4', .19],\n",
    "    ]\n",
    "    df = pd.DataFrame(d,   \n",
    "                     columns = ['brand', 'washing', 'color_change'])\n",
    "    return df\n",
    "df = get_data_pen()\n",
    "df.head()\n",
    "formula = 'color_change ~ C(brand) + C(washing) '\n",
    "model = ols(formula, df).fit()\n",
    "aov_table = anova_lm(model, typ=2)"
   ]
  },
  {
   "cell_type": "code",
   "execution_count": 139,
   "metadata": {},
   "outputs": [
    {
     "data": {
      "text/html": [
       "<div>\n",
       "<style scoped>\n",
       "    .dataframe tbody tr th:only-of-type {\n",
       "        vertical-align: middle;\n",
       "    }\n",
       "\n",
       "    .dataframe tbody tr th {\n",
       "        vertical-align: top;\n",
       "    }\n",
       "\n",
       "    .dataframe thead th {\n",
       "        text-align: right;\n",
       "    }\n",
       "</style>\n",
       "<table border=\"1\" class=\"dataframe\">\n",
       "  <thead>\n",
       "    <tr style=\"text-align: right;\">\n",
       "      <th></th>\n",
       "      <th>sum_sq</th>\n",
       "      <th>df</th>\n",
       "      <th>F</th>\n",
       "      <th>PR(&gt;F)</th>\n",
       "    </tr>\n",
       "  </thead>\n",
       "  <tbody>\n",
       "    <tr>\n",
       "      <th>C(brand)</th>\n",
       "      <td>0.128217</td>\n",
       "      <td>2.0</td>\n",
       "      <td>4.432303</td>\n",
       "      <td>0.065765</td>\n",
       "    </tr>\n",
       "    <tr>\n",
       "      <th>C(washing)</th>\n",
       "      <td>0.479692</td>\n",
       "      <td>3.0</td>\n",
       "      <td>11.054926</td>\n",
       "      <td>0.007399</td>\n",
       "    </tr>\n",
       "    <tr>\n",
       "      <th>Residual</th>\n",
       "      <td>0.086783</td>\n",
       "      <td>6.0</td>\n",
       "      <td>NaN</td>\n",
       "      <td>NaN</td>\n",
       "    </tr>\n",
       "  </tbody>\n",
       "</table>\n",
       "</div>"
      ],
      "text/plain": [
       "              sum_sq   df          F    PR(>F)\n",
       "C(brand)    0.128217  2.0   4.432303  0.065765\n",
       "C(washing)  0.479692  3.0  11.054926  0.007399\n",
       "Residual    0.086783  6.0        NaN       NaN"
      ]
     },
     "execution_count": 139,
     "metadata": {},
     "output_type": "execute_result"
    }
   ],
   "source": [
    "aov_table"
   ]
  }
 ],
 "metadata": {
  "kernelspec": {
   "display_name": "Python 3",
   "language": "python",
   "name": "python3"
  },
  "language_info": {
   "codemirror_mode": {
    "name": "ipython",
    "version": 3
   },
   "file_extension": ".py",
   "mimetype": "text/x-python",
   "name": "python",
   "nbconvert_exporter": "python",
   "pygments_lexer": "ipython3",
   "version": "3.6.8"
  }
 },
 "nbformat": 4,
 "nbformat_minor": 2
}
