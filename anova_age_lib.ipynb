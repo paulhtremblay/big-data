{
 "cells": [
  {
   "cell_type": "code",
   "execution_count": 2,
   "metadata": {},
   "outputs": [],
   "source": [
    "import pandas as pd\n",
    "from statsmodels.formula.api import ols\n",
    "from statsmodels.stats.anova import anova_lm"
   ]
  },
  {
   "cell_type": "code",
   "execution_count": 3,
   "metadata": {},
   "outputs": [],
   "source": [
    "def get_age_data():\n",
    "    d = [\n",
    "        \n",
    "    ['b', 4, '10'],\n",
    "    ['b', 6, '10'],\n",
    "    ['b', 8, '10'],\n",
    "    ['g', 4, '10'],\n",
    "    ['g', 8, '10'],\n",
    "    ['g', 9, '10'],\n",
    "    ['b', 6, '11'],\n",
    "    ['b', 6, '11'],\n",
    "    ['b', 9, '11'],\n",
    "    ['g', 7, '11'],\n",
    "    ['g', 10, '11'],\n",
    "    ['g', 13, '11'],\n",
    "    ['b', 8, '12'],\n",
    "    ['b', 9, '12'],\n",
    "    ['b', 13, '12'],\n",
    "    ['g', 12, '12'],\n",
    "    ['g', 14, '12'],\n",
    "    ['g', 16, '12'],\n",
    "\n",
    "    ]\n",
    "    df = pd.DataFrame(d,   \n",
    "                     columns = ['gender', 'score', 'age'])\n",
    "    return df"
   ]
  },
  {
   "cell_type": "code",
   "execution_count": 6,
   "metadata": {},
   "outputs": [],
   "source": [
    "df = get_age_data()"
   ]
  },
  {
   "cell_type": "code",
   "execution_count": 7,
   "metadata": {},
   "outputs": [],
   "source": [
    "formula = 'score ~ C(gender) + C(age) + C(gender):C(age)'\n",
    "model = ols(formula, df).fit()\n",
    "aov_table = anova_lm(model, typ=2)"
   ]
  },
  {
   "cell_type": "code",
   "execution_count": 8,
   "metadata": {},
   "outputs": [
    {
     "name": "stdout",
     "output_type": "stream",
     "text": [
      "                  sum_sq    df         F    PR(>F)\n",
      "C(gender)           32.0   1.0  5.647059  0.034994\n",
      "C(age)              93.0   2.0  8.205882  0.005677\n",
      "C(gender):C(age)     7.0   2.0  0.617647  0.555502\n",
      "Residual            68.0  12.0       NaN       NaN\n"
     ]
    }
   ],
   "source": [
    "print(aov_table)\n"
   ]
  },
  {
   "cell_type": "code",
   "execution_count": null,
   "metadata": {},
   "outputs": [],
   "source": []
  }
 ],
 "metadata": {
  "kernelspec": {
   "display_name": "Python 3",
   "language": "python",
   "name": "python3"
  },
  "language_info": {
   "codemirror_mode": {
    "name": "ipython",
    "version": 3
   },
   "file_extension": ".py",
   "mimetype": "text/x-python",
   "name": "python",
   "nbconvert_exporter": "python",
   "pygments_lexer": "ipython3",
   "version": "3.6.8"
  }
 },
 "nbformat": 4,
 "nbformat_minor": 2
}
