{
 "cells": [
  {
   "cell_type": "code",
   "execution_count": 18,
   "metadata": {},
   "outputs": [],
   "source": [
    "import random\n",
    "import numpy as np\n",
    "from  itertools import combinations\n"
   ]
  },
  {
   "cell_type": "code",
   "execution_count": 31,
   "metadata": {},
   "outputs": [],
   "source": [
    "def resample(l):\n",
    "    final = []\n",
    "    for i in range(len(l)):\n",
    "        final.append(random.choice(l))\n",
    "    return final\n",
    "def repeat_resample(sample_a, sample_b, num_iter = 1000):\n",
    "    difference_in_means = []#keep track of the difference in heights for each experiment\n",
    "    for i in range(num_iter):\n",
    "        resample_a = resample(sample_a)\n",
    "        resample_b = resample(sample_b)\n",
    "        difference = np.mean(resample_a) - np.mean(resample_b)\n",
    "        difference_in_means.append(difference)\n",
    "    return difference_in_means\n",
    "\n",
    "def get_p_value(s1, s2, resamps):\n",
    "    if np.mean(s1) > np.mean(s2):\n",
    "        return 1 - len([x for x in resamps if x > 0])/len(resamps)\n",
    "    return 1 - len([x for x in resamps if x < 0])/len(resamps)\n",
    "\n"
   ]
  },
  {
   "cell_type": "code",
   "execution_count": 235,
   "metadata": {},
   "outputs": [],
   "source": [
    "def comb_samples_to_pop(*args):\n",
    "    all_ = []\n",
    "    for i in args:\n",
    "        all_.extend(i)\n",
    "    return all_\n",
    "\n",
    "def diff_from_pop(*args, num_iter = 1000):\n",
    "    diffs = []\n",
    "    for i in args:\n",
    "        diffs.append([])\n",
    "    pop = comb_samples_to_pop(*args)\n",
    "    for i in range(num_iter):\n",
    "        random.shuffle(pop)\n",
    "        len_prev = 0\n",
    "        for counter, j in enumerate(args):\n",
    "            new_s = pop[len_prev:len(j) + len_prev]\n",
    "            len_prev = len(j)\n",
    "            diff = np.mean(j) - np.mean(new_s)\n",
    "            diffs[counter].append(diff)\n",
    "    return diffs\n",
    "\n",
    "def eval_pops(diffs):\n",
    "    r = []\n",
    "    for i in diffs:\n",
    "        p_value1 = len([x for x in i if x < 0])/len(i)\n",
    "        p_value2 = len([x for x in i if x > 0])/len(i)\n",
    "        if min(p_value1, p_value2) <= .01:\n",
    "            r.append(True)\n",
    "        else:\n",
    "            r.append(False)\n",
    "    return r"
   ]
  },
  {
   "cell_type": "code",
   "execution_count": 260,
   "metadata": {},
   "outputs": [
    {
     "name": "stdout",
     "output_type": "stream",
     "text": [
      "0.29587145682986776 -0.3093684894212786 0.295545108587036 -0.6860850927296207 -0.4271987761976114\n",
      "0.03300000000000003\n",
      "0.0030000000000000027\n",
      "0.018000000000000016\n",
      "0.01200000000000001\n",
      "0.0\n",
      "0.006000000000000005\n"
     ]
    }
   ],
   "source": [
    "def test1():\n",
    "    p_size = 100\n",
    "    pop = [random.gauss(0,1) for x in range(p_size)]\n",
    "    s1 = pop[0:20]\n",
    "    s2 = pop[20:40]\n",
    "    s3 = pop[40:60]\n",
    "    s4 = pop[60:80]\n",
    "    s5 = pop[80:100]\n",
    "    print(np.mean(s1), np.mean(s2), np.mean(s3), np.mean(s4), np.mean(s5))\n",
    "    combs = list(combinations([s1, s2, s3, s4, s5], 2))\n",
    "    d = diff_from_pop(s1, s2, s3, s4, s5)\n",
    "    f = True in eval_pops(d)\n",
    "\n",
    "    for i in combs:\n",
    "        resamps = repeat_resample(i[0], i[1])\n",
    "        p_value = get_p_value(i[0], i[1], resamps)\n",
    "        if p_value <= .05 and f:\n",
    "            print(p_value)\n",
    "\n",
    "test1()"
   ]
  },
  {
   "cell_type": "code",
   "execution_count": 271,
   "metadata": {},
   "outputs": [],
   "source": [
    "#want to test is combining sasples = ind test\n",
    "def test2(num_iter = 1000):\n",
    "    p_size = 100\n",
    "    s1 = [random.gauss(0,1) for x in range(p_size)]\n",
    "    s2 = [random.gauss(0,1) for x in range(p_size)]\n",
    "    resamp = comb_samples_to_pop(s1, s2)\n",
    "    for i in range(num_iter):\n",
    "        random.shuffle(resamp)\n",
    "        s1_ = resamp[:len(s1)]\n",
    "        s2_ = resamp[len(s2):]\n",
    "\n",
    "    \n",
    "\n",
    "test2()"
   ]
  }
 ],
 "metadata": {
  "kernelspec": {
   "display_name": "Python 3",
   "language": "python",
   "name": "python3"
  },
  "language_info": {
   "codemirror_mode": {
    "name": "ipython",
    "version": 3
   },
   "file_extension": ".py",
   "mimetype": "text/x-python",
   "name": "python",
   "nbconvert_exporter": "python",
   "pygments_lexer": "ipython3",
   "version": "3.6.9"
  }
 },
 "nbformat": 4,
 "nbformat_minor": 4
}
