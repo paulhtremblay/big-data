{
 "cells": [
  {
   "cell_type": "code",
   "execution_count": 4,
   "metadata": {},
   "outputs": [],
   "source": [
    "import random\n",
    "import numpy as np\n",
    "from  itertools import combinations\n"
   ]
  },
  {
   "cell_type": "code",
   "execution_count": 96,
   "metadata": {},
   "outputs": [],
   "source": [
    "import pandas as pd"
   ]
  },
  {
   "cell_type": "code",
   "execution_count": 8,
   "metadata": {},
   "outputs": [],
   "source": [
    "def resample(l):\n",
    "    final = []\n",
    "    for i in range(len(l)):\n",
    "        final.append(random.choice(l))\n",
    "    return final\n",
    "\n",
    "def repeat_resample(sample_a, sample_b, num_iter = 1000):\n",
    "    difference_in_means = []#keep track of the difference in heights for each experiment\n",
    "    for i in range(num_iter):\n",
    "        resample_a = resample(sample_a)\n",
    "        resample_b = resample(sample_b)\n",
    "        difference = np.mean(resample_a) - np.mean(resample_b)\n",
    "        difference_in_means.append(difference)\n",
    "    return difference_in_means\n",
    "\n",
    "def comb_samples_to_pop(*args):\n",
    "    all_ = []\n",
    "    for i in args:\n",
    "        all_.extend(i)\n",
    "    return all_\n"
   ]
  },
  {
   "cell_type": "code",
   "execution_count": 102,
   "metadata": {},
   "outputs": [
    {
     "name": "stdout",
     "output_type": "stream",
     "text": [
      "[-0.12098510801536408, 0.08711433643382663, 0.2804182941389678]\n",
      "0.026866276678400563\n"
     ]
    },
    {
     "data": {
      "text/plain": [
       "0.030000000000000027"
      ]
     },
     "execution_count": 102,
     "metadata": {},
     "output_type": "execute_result"
    }
   ],
   "source": [
    "def anova_omnibus( *args, num_iter = 1000, verbose = False):\n",
    "    pop = comb_samples_to_pop(*args)\n",
    "    all_means = []\n",
    "    for  i in args:\n",
    "        all_means.append(np.mean(i))\n",
    "    var_between_groups = np.var(all_means)\n",
    "    if verbose:\n",
    "        print(all_means)\n",
    "        print(var_between_groups)\n",
    "    resampled_vars = []\n",
    "    for i in range(num_iter):\n",
    "        random.shuffle(pop)\n",
    "        init = 0\n",
    "        means_of_groups = []\n",
    "        for i in args:\n",
    "            s = pop[init:len(i) + init]\n",
    "            means_of_groups.append(np.mean(s))\n",
    "            init = len(i)\n",
    "        resampled_vars.append(np.var(means_of_groups))\n",
    "    diff = [var_between_groups - x for x in resampled_vars]\n",
    "    p_value = 1 - len([x for x in diff if x > 0])/len(diff)\n",
    "    return p_value\n",
    "    \n",
    "\n",
    "    \n",
    "s1 = [random.gauss(0,1) for x in range(100)]\n",
    "s2 = [random.gauss(0,1) for x in range(100)]\n",
    "s3 = [random.gauss(.3,1) for x in range(100)]\n",
    "anova_omnibus(s1, s2, s3, verbose = True, num_iter = 100) "
   ]
  },
  {
   "cell_type": "code",
   "execution_count": 103,
   "metadata": {},
   "outputs": [
    {
     "data": {
      "text/plain": [
       "0.0"
      ]
     },
     "execution_count": 103,
     "metadata": {},
     "output_type": "execute_result"
    }
   ],
   "source": [
    "def get_data():\n",
    "    perm_mold = [45.5, 45.3, 45.4, 44.4, 44.6, 43.9, 44.6, 44.0]\n",
    "    die_casting = [44.2, 43.9, 44.7, 44.2, 44, 43.8, 44.6, 43.1]\n",
    "    plast_mold = [46, 45.9, 44.8, 46.2, 45.1, 45.5]\n",
    "    df = pd.DataFrame([perm_mold, die_casting, plast_mold ],  index = ['perm_mold', 'die_casting', 'plast_mold'])\n",
    "    return df\n",
    "data = get_data()\n",
    "s1 = data.loc['perm_mold']\n",
    "s2 = data.loc['die_casting']\n",
    "s3 = data.loc['plast_mold'].dropna()\n",
    "p_value = anova_omnibus(s1, s2, s3)\n",
    "p_value"
   ]
  }
 ],
 "metadata": {
  "kernelspec": {
   "display_name": "Python 3",
   "language": "python",
   "name": "python3"
  },
  "language_info": {
   "codemirror_mode": {
    "name": "ipython",
    "version": 3
   },
   "file_extension": ".py",
   "mimetype": "text/x-python",
   "name": "python",
   "nbconvert_exporter": "python",
   "pygments_lexer": "ipython3",
   "version": "3.8.5"
  }
 },
 "nbformat": 4,
 "nbformat_minor": 4
}
