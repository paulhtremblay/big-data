{
 "cells": [
  {
   "cell_type": "code",
   "execution_count": 103,
   "metadata": {},
   "outputs": [],
   "source": [
    "import random\n",
    "import numpy as np\n",
    "from  itertools import combinations\n",
    "from scipy import stats\n",
    "import statsmodels\n",
    "import statsmodels.stats\n"
   ]
  },
  {
   "cell_type": "code",
   "execution_count": 146,
   "metadata": {},
   "outputs": [
    {
     "data": {
      "text/plain": [
       "(array([ True,  True]), array([0.05, 0.05]), 0.025320565519103666, 0.025)"
      ]
     },
     "execution_count": 146,
     "metadata": {},
     "output_type": "execute_result"
    }
   ],
   "source": [
    "import statsmodels.stats.multitest as sm\n",
    "sm.multipletests([.05, .05], method = 'fdr_bh')"
   ]
  },
  {
   "cell_type": "code",
   "execution_count": 2,
   "metadata": {},
   "outputs": [],
   "source": [
    "import pandas as pd"
   ]
  },
  {
   "cell_type": "code",
   "execution_count": 3,
   "metadata": {},
   "outputs": [],
   "source": [
    "def resample(l):\n",
    "    final = []\n",
    "    for i in range(len(l)):\n",
    "        final.append(random.choice(l))\n",
    "    return final\n",
    "\n",
    "def repeat_resample(sample_a, sample_b, num_iter = 1000):\n",
    "    difference_in_means = []#keep track of the difference in heights for each experiment\n",
    "    for i in range(num_iter):\n",
    "        resample_a = resample(sample_a)\n",
    "        resample_b = resample(sample_b)\n",
    "        difference = np.mean(resample_a) - np.mean(resample_b)\n",
    "        difference_in_means.append(difference)\n",
    "    return difference_in_means\n",
    "\n",
    "def comb_samples_to_pop(*args):\n",
    "    all_ = []\n",
    "    for i in args:\n",
    "        all_.extend(i)\n",
    "    return all_\n"
   ]
  },
  {
   "cell_type": "code",
   "execution_count": 113,
   "metadata": {},
   "outputs": [
    {
     "name": "stdout",
     "output_type": "stream",
     "text": [
      "[0.3196406600709537, 0.003332635805666363, 0.28101497095264366]\n",
      "0.01985002103635024\n",
      "0.01 0.05\n",
      "0.0 0.014 0.986 0.023\n"
     ]
    },
    {
     "data": {
      "text/plain": [
       "(array([ True, False, False]),\n",
       " array([0.042, 1.   , 0.069]),\n",
       " 0.016952427508441503,\n",
       " 0.016666666666666666)"
      ]
     },
     "execution_count": 113,
     "metadata": {},
     "output_type": "execute_result"
    }
   ],
   "source": [
    "def anova_omnibus( *args, num_iter = 1000, verbose = False):\n",
    "    pop = comb_samples_to_pop(*args)\n",
    "    all_means = []\n",
    "    for  i in args:\n",
    "        all_means.append(np.mean(i))\n",
    "    var_between_groups = np.var(all_means)\n",
    "    if verbose:\n",
    "        print(all_means)\n",
    "        print(var_between_groups)\n",
    "    resampled_vars = []\n",
    "    for i in range(num_iter):\n",
    "        random.shuffle(pop)\n",
    "        init = 0\n",
    "        means_of_groups = []\n",
    "        for i in args:\n",
    "            s = pop[init:len(i) + init]\n",
    "            means_of_groups.append(np.mean(s))\n",
    "            init = len(i)\n",
    "        resampled_vars.append(np.var(means_of_groups))\n",
    "    diff = [var_between_groups - x for x in resampled_vars]\n",
    "    p_value =  1 - len([x for x in diff if x > 0])/len(diff)\n",
    "    return p_value\n",
    "    \n",
    "\n",
    "    \n",
    "s1 = [random.gauss(0,1) for x in range(100)]\n",
    "s2 = [random.gauss(0,1) for x in range(100)]\n",
    "s3 = [random.gauss(.3,1) for x in range(100)]\n",
    "p_mine = anova_omnibus(s1, s2, s3, verbose = True, num_iter = 100) \n",
    "F, p = stats.f_oneway(s1, s2, s3 )\n",
    "print(round(p_mine,2), round(p, 2) )\n",
    "resamps = repeat_resample(s1, s2)\n",
    "p_value1 = len([x for x in resamps if x < 0])/len(resamps)\n",
    "p_value2 = len([x for x in resamps if x > 0])/len(resamps)\n",
    "resamps = repeat_resample(s2, s3)\n",
    "p_value3 = len([x for x in resamps if x > 0])/len(resamps)\n",
    "\n",
    "print(p_value, p_value1, p_value2,\n",
    "      p_value3)\n",
    "method = 'bonferroni'\n",
    "#method = 'fdr_by'\n",
    "p_adjusted = multipletests([p_value1, p_value2, p_value3], method=method)\n",
    "p_adjusted"
   ]
  },
  {
   "cell_type": "code",
   "execution_count": 107,
   "metadata": {},
   "outputs": [
    {
     "name": "stdout",
     "output_type": "stream",
     "text": [
      "0.0 0.002 0.03762203344387319 0.002 0.002 0.01882889108209598 0.0\n"
     ]
    },
    {
     "data": {
      "text/plain": [
       "(array([ True,  True,  True]),\n",
       " array([0.006, 0.   , 0.   ]),\n",
       " 0.016952427508441503,\n",
       " 0.016666666666666666)"
      ]
     },
     "execution_count": 107,
     "metadata": {},
     "output_type": "execute_result"
    }
   ],
   "source": [
    "def get_data():\n",
    "    perm_mold = [45.5, 45.3, 45.4, 44.4, 44.6, 43.9, 44.6, 44.0]\n",
    "    die_casting = [44.2, 43.9, 44.7, 44.2, 44, 43.8, 44.6, 43.1]\n",
    "    plast_mold = [46, 45.9, 44.8, 46.2, 45.1, 45.5]\n",
    "    df = pd.DataFrame([perm_mold, die_casting, plast_mold ],  index = ['perm_mold', 'die_casting', 'plast_mold'])\n",
    "    return df\n",
    "data = get_data()\n",
    "s1 = data.loc['perm_mold']\n",
    "s2 = data.loc['die_casting']\n",
    "s3 = data.loc['plast_mold'].dropna()\n",
    "p_value = anova_omnibus(s1, s2, s3)\n",
    "p_value\n",
    "#let compare\n",
    "resamps = repeat_resample(s1, s2)\n",
    "p_value1 = len([x for x in resamps if x < 0])/len(resamps)\n",
    "resamps = repeat_resample(s1, s3)\n",
    "p_value2 = len([x for x in resamps if x > 0])/len(resamps)\n",
    "resamps = repeat_resample(s2, s3)\n",
    "p_value3 = len([x for x in resamps if x > 0])/len(resamps)\n",
    "\n",
    "print(p_value, p_value1,stats.ttest_ind(s1, s2)[1], p_value2, p_value1,stats.ttest_ind(s1, s3)[1],\n",
    "      p_value3)\n",
    "method = 'bonferroni'\n",
    "#method = 'fdr_by'\n",
    "p_adjusted = multipletests([p_value1, p_value, p_value3], method=method)\n",
    "p_adjusted\n"
   ]
  },
  {
   "cell_type": "code",
   "execution_count": 76,
   "metadata": {},
   "outputs": [
    {
     "data": {
      "text/plain": [
       "0.15000000000000002"
      ]
     },
     "execution_count": 76,
     "metadata": {},
     "output_type": "execute_result"
    }
   ],
   "source": [
    ".05 * 3"
   ]
  },
  {
   "cell_type": "code",
   "execution_count": 7,
   "metadata": {},
   "outputs": [
    {
     "data": {
      "text/plain": [
       "0.0003336160734123371"
      ]
     },
     "execution_count": 7,
     "metadata": {},
     "output_type": "execute_result"
    }
   ],
   "source": [
    "F, p = stats.f_oneway(data.loc['perm_mold'], data.loc['die_casting'], \n",
    "                      data.loc['plast_mold'].dropna() )\n",
    "p"
   ]
  },
  {
   "cell_type": "code",
   "execution_count": 80,
   "metadata": {},
   "outputs": [
    {
     "data": {
      "text/plain": [
       "Ttest_indResult(statistic=-1.3096970309327995, pvalue=0.19181594508231287)"
      ]
     },
     "execution_count": 80,
     "metadata": {},
     "output_type": "execute_result"
    }
   ],
   "source": [
    "s1 = [random.gauss(0,1) for x in range(100)]\n",
    "s2 = [random.gauss(0,1) for x in range(100)]\n",
    "s3 = [random.gauss(.3,1) for x in range(100)]\n",
    "pm = anova_omnibus(s1, s2, s3, verbose = False, num_iter = 100) \n",
    "\n"
   ]
  },
  {
   "cell_type": "code",
   "execution_count": 85,
   "metadata": {},
   "outputs": [
    {
     "name": "stdout",
     "output_type": "stream",
     "text": [
      "Ttest_indResult(statistic=-1.3096970309327995, pvalue=0.19181594508231287)\n"
     ]
    },
    {
     "data": {
      "text/plain": [
       "0.11099999999999999"
      ]
     },
     "execution_count": 85,
     "metadata": {},
     "output_type": "execute_result"
    }
   ],
   "source": [
    "print(stats.ttest_ind(s1, s2))\n",
    "resamps =  repeat_resample(s1, s2, num_iter = 1000)\n",
    "1 - len([x for x in resamps if x < 0])/len(resamps)\n",
    "\n"
   ]
  },
  {
   "cell_type": "code",
   "execution_count": 102,
   "metadata": {},
   "outputs": [
    {
     "name": "stdout",
     "output_type": "stream",
     "text": [
      "(array([False, False, False]), array([0.09166667, 0.09166667, 0.09166667]), 0.016952427508441503, 0.016666666666666666)\n"
     ]
    }
   ],
   "source": [
    "from statsmodels.sandbox.stats.multicomp import multipletests\n",
    "p_adjusted = multipletests([.05, .05, .05], method='fdr_by')\n",
    "print(p_adjusted)\n"
   ]
  },
  {
   "cell_type": "code",
   "execution_count": 183,
   "metadata": {},
   "outputs": [
    {
     "name": "stdout",
     "output_type": "stream",
     "text": [
      "(array([False,  True,  True, False, False, False]), array([0.088, 0.006, 0.009, 0.088, 0.088, 0.088]), 0.008512444610847103, 0.008333333333333333)\n",
      "0.001 0.01 0.006\n",
      "0.003 0.02 0.009\n",
      "0.05 0.03 0.1\n",
      "0.06 0.03 0.09\n",
      "0.08 0.04 0.096\n",
      "0.088 0.05 0.088\n",
      "[True, True, False, False, False, False]\n"
     ]
    }
   ],
   "source": [
    "def fdr(p_values, alpha = .05):\n",
    "    final = []\n",
    "    s = sorted(p_values)\n",
    "    for counter, i in enumerate(s):\n",
    "        a_p = round(alpha * (counter + 1)/len(p_values),2)\n",
    "        tp = round(i * len(p_values)/(counter + 1),4)\n",
    "        if i < a_p:\n",
    "            final.append(True)\n",
    "        else:\n",
    "            final.append(False)\n",
    "        print(i, a_p, tp)\n",
    "    return final\n",
    "method = 'bonferroni'\n",
    "method = 'fdr_bh'\n",
    "p_values = [.08, .001, .003, .05, .06,  .088]\n",
    "p_adj = sm.multipletests(p_values, method = method)\n",
    "print(p_adj)\n",
    "print(fdr(p_values))"
   ]
  },
  {
   "cell_type": "code",
   "execution_count": 115,
   "metadata": {},
   "outputs": [
    {
     "data": {
      "text/plain": [
       "(array([False, False, False]),\n",
       " array([0.09166667, 0.09166667, 0.09166667]),\n",
       " 0.016952427508441503,\n",
       " 0.016666666666666666)"
      ]
     },
     "execution_count": 115,
     "metadata": {},
     "output_type": "execute_result"
    }
   ],
   "source": [
    "method = 'bonferroni'\n",
    "method = 'fdr_by'\n",
    "p_adjusted = multipletests([.05, .05, .05], method=method)\n",
    "p_adjusted"
   ]
  }
 ],
 "metadata": {
  "kernelspec": {
   "display_name": "Python 3",
   "language": "python",
   "name": "python3"
  },
  "language_info": {
   "codemirror_mode": {
    "name": "ipython",
    "version": 3
   },
   "file_extension": ".py",
   "mimetype": "text/x-python",
   "name": "python",
   "nbconvert_exporter": "python",
   "pygments_lexer": "ipython3",
   "version": "3.6.9"
  }
 },
 "nbformat": 4,
 "nbformat_minor": 4
}
