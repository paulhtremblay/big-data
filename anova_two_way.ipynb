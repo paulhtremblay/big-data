{
 "cells": [
  {
   "cell_type": "code",
   "execution_count": null,
   "metadata": {},
   "outputs": [],
   "source": [
    "import numpy as np\n",
    "import math\n",
    "import pandas as pd\n",
    "from scipy import stats\n",
    "from statsmodels.stats.multicomp import pairwise_tukeyhsd\n",
    "from statsmodels.stats.multicomp import MultiComparison\n"
   ]
  },
  {
   "cell_type": "code",
   "execution_count": null,
   "metadata": {},
   "outputs": [],
   "source": [
    "from bokeh.io import show\n",
    "from bokeh.plotting import figure\n",
    "from  big_data_tools.bokeh_tools.bar import bar \n",
    "from  big_data_tools.bokeh_tools.histogram import hist \n",
    "from  big_data_tools.bokeh_tools.box_plot import box_plot \n",
    "from  big_data_tools.bokeh_tools.prob_plot import prob_plot \n",
    "from bokeh.layouts import gridplot\n",
    "from bokeh.models import NumeralTickFormatter\n",
    "from bokeh.models import DatetimeTickFormatter"
   ]
  },
  {
   "cell_type": "code",
   "execution_count": null,
   "metadata": {},
   "outputs": [],
   "source": [
    "from statsmodels.graphics.factorplots import interaction_plot\n"
   ]
  },
  {
   "cell_type": "code",
   "execution_count": null,
   "metadata": {
    "scrolled": true
   },
   "outputs": [],
   "source": [
    "def get_data():\n",
    "    path = '/home/henry/Downloads/ToothGrowth.csv'\n",
    "    df = data = pd.read_csv(path)\n",
    "    return df\n",
    "\n",
    "df = get_data()\n",
    "    "
   ]
  },
  {
   "cell_type": "code",
   "execution_count": null,
   "metadata": {},
   "outputs": [],
   "source": [
    "df2 = df.groupby('dose')\n",
    "df2.mean()['len'].index\n",
    "del(df2)"
   ]
  },
  {
   "cell_type": "code",
   "execution_count": null,
   "metadata": {},
   "outputs": [],
   "source": [
    "def get_interaction_plot(df):\n",
    "    grouped = df.groupby(['supp', 'dose'])\n",
    "    y1 = list(grouped.mean()['len']['OJ'])\n",
    "    y2 = list(grouped.mean()['len']['VC'])\n",
    "    x = df['dose'].unique()\n",
    "    p = figure()\n",
    "    p.line(x = x, y = y1)\n",
    "    p.line(x = x, y = y2)\n",
    "    return p\n",
    "p_interaction = get_interaction_plot(df)\n"
   ]
  },
  {
   "cell_type": "code",
   "execution_count": null,
   "metadata": {},
   "outputs": [],
   "source": [
    "def get_degrees_freedom(data):\n",
    "    N = len(data.len)\n",
    "    df_a = len(data.supp.unique()) - 1\n",
    "    df_b = len(data.dose.unique()) - 1\n",
    "    df_axb = df_a*df_b \n",
    "    df_w = N - (len(data.supp.unique())*len(data.dose.unique()))\n",
    "    return df_a, df_b, df_axb, df_w\n",
    "df_a, df_b, df_axb, df_w = get_degrees_freedom(df)"
   ]
  },
  {
   "cell_type": "code",
   "execution_count": null,
   "metadata": {},
   "outputs": [],
   "source": [
    "def get_sum_squares(data):\n",
    "    grand_mean = data['len'].mean()\n",
    "    ssq_a = sum([(data[data.supp ==l].len.mean()-grand_mean)**2 for l in data.supp])\n",
    "    ssq_b = sum([(data[data.dose ==l].len.mean()-grand_mean)**2 for l in data.dose])\n",
    "    ssq_t = sum((data.len - grand_mean)**2)\n",
    "    vc = data[data.supp == 'VC']\n",
    "    oj = data[data.supp == 'OJ']\n",
    "    vc_dose_means = [vc[vc.dose == d].len.mean() for d in vc.dose]\n",
    "    oj_dose_means = [oj[oj.dose == d].len.mean() for d in oj.dose]\n",
    "    ssq_w = sum((oj.len - oj_dose_means)**2) +sum((vc.len - vc_dose_means)**2)\n",
    "    ssq_axb = ssq_t-ssq_a-ssq_b-ssq_w\n",
    "    #my guess here\n",
    "    sse = ssq_w + ssq_axb\n",
    "    print(ssq_t, ssq_a + ssq_b + sse)\n",
    "    return ssq_t, ssq_a, ssq_b, ssq_w, ssq_axb, sse\n",
    "\n",
    "ssq_t, ssq_a, ssq_b, ssq_w, ssq_axb, sse = get_sum_squares(df)"
   ]
  },
  {
   "cell_type": "code",
   "execution_count": null,
   "metadata": {},
   "outputs": [],
   "source": [
    "def get_f_scores(ssq_a,ssq_b, ssq_axb, ssq_w, df_a, df_b, df_axb, df_w):\n",
    "    ms_a = ssq_a/df_a\n",
    "    ms_b = ssq_b/df_b\n",
    "    ms_axb = ssq_axb/df_axb\n",
    "    ms_w = ssq_w/df_w\n",
    "    f_a = ms_a/ms_w\n",
    "    f_b = ms_b/ms_w\n",
    "    f_axb = ms_axb/ms_w\n",
    "    return {'f_a':f_a, 'f_b':f_b, 'f_axb':f_axb}\n",
    "d_fscores = get_f_scores(ssq_a = ssq_a, ssq_b = ssq_b, ssq_axb = ssq_axb, ssq_w = ssq_w,\n",
    "             df_a = df_a, df_b = df_b, df_axb = df_axb, df_w = df_w\n",
    ")"
   ]
  },
  {
   "cell_type": "code",
   "execution_count": 132,
   "metadata": {},
   "outputs": [
    {
     "data": {
      "text/plain": [
       "(0.00023118280977342404, 4.046291195992212e-18, 0.021860268964791103)"
      ]
     },
     "execution_count": 132,
     "metadata": {},
     "output_type": "execute_result"
    }
   ],
   "source": [
    "def get_p_values(f_a, f_b, f_axb):\n",
    "    p_a = stats.f.sf(f_a, df_a, df_w)\n",
    "    p_b = stats.f.sf(f_b, df_b, df_w)\n",
    "    p_axb = stats.f.sf(f_axb, df_axb, df_w)\n",
    "    return p_a, p_b, p_axb\n",
    "get_p_values(f_a = d_fscores['f_a'] , f_b = d_fscores['f_b'], f_axb = d_fscores['f_axb'])"
   ]
  },
  {
   "cell_type": "code",
   "execution_count": null,
   "metadata": {},
   "outputs": [],
   "source": [
    "def func_a():\n",
    "    return {'a':1, 'b':2}\n",
    "def func_b():\n",
    "    return {'c':3}\n",
    "def func_c(a, b, c):\n",
    "    print(a, b, c)\n",
    "def func_d():\n",
    "    return 4, 5, 6\n",
    "a, b = func_a()\n",
    "func_c(**func_a(), **func_b())\n",
    "func_d()\n",
    "func_c(*func_d())"
   ]
  },
  {
   "cell_type": "code",
   "execution_count": null,
   "metadata": {},
   "outputs": [],
   "source": [
    "grid = gridplot([p_interaction], ncols=2)\n",
    "show(grid)"
   ]
  },
  {
   "cell_type": "code",
   "execution_count": null,
   "metadata": {},
   "outputs": [],
   "source": []
  }
 ],
 "metadata": {
  "kernelspec": {
   "display_name": "Python 3",
   "language": "python",
   "name": "python3"
  },
  "language_info": {
   "codemirror_mode": {
    "name": "ipython",
    "version": 3
   },
   "file_extension": ".py",
   "mimetype": "text/x-python",
   "name": "python",
   "nbconvert_exporter": "python",
   "pygments_lexer": "ipython3",
   "version": "3.5.2"
  }
 },
 "nbformat": 4,
 "nbformat_minor": 2
}
