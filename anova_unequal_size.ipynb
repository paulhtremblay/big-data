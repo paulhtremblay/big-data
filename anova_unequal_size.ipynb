{
 "cells": [
  {
   "cell_type": "code",
   "execution_count": 1,
   "metadata": {},
   "outputs": [],
   "source": [
    "import numpy as np\n",
    "import math\n",
    "import pandas as pd\n",
    "from scipy import stats\n",
    "from statsmodels.stats.multicomp import pairwise_tukeyhsd\n",
    "from statsmodels.stats.multicomp import MultiComparison"
   ]
  },
  {
   "cell_type": "code",
   "execution_count": 2,
   "metadata": {},
   "outputs": [],
   "source": [
    "from bokeh.io import show\n",
    "from bokeh.plotting import figure\n",
    "from  big_data_tools.bokeh_tools.bar import bar \n",
    "from  big_data_tools.bokeh_tools.histogram import hist \n",
    "from  big_data_tools.bokeh_tools.box_plot import box_plot \n",
    "from  big_data_tools.bokeh_tools.prob_plot import prob_plot \n",
    "from bokeh.layouts import gridplot\n",
    "from bokeh.models import NumeralTickFormatter\n",
    "from bokeh.models import DatetimeTickFormatter"
   ]
  },
  {
   "cell_type": "code",
   "execution_count": 11,
   "metadata": {},
   "outputs": [],
   "source": [
    "def get_data():\n",
    "    perm_mold = [45.5, 45.3, 45.4, 44.4, 44.6, 43.9, 44.6, 44.0]\n",
    "    die_casting = [44.2, 43.9, 44.7, 44.2, 44, 43.8, 44.6, 43.1]\n",
    "    plast_mold = [46, 45.9, 44.8, 46.2, 45.1, 45.5]\n",
    "    df = pd.DataFrame([perm_mold, die_casting, plast_mold ],  index = ['perm_mold', 'die_casting', 'plast_mold'])\n",
    "    return df\n",
    "data = get_data()"
   ]
  },
  {
   "cell_type": "code",
   "execution_count": 57,
   "metadata": {},
   "outputs": [],
   "source": [
    "d = [list(data.loc['perm_mold']),\n",
    "                list(data.loc['die_casting']), [x for x in data.loc['plast_mold'] if not math.isnan(x)]]\n",
    "p_box = box_plot(list(data.index), data =d )\n",
    "grid = gridplot([p_box, \n",
    "    ],\n",
    "    ncols = 2)\n",
    "show(grid)"
   ]
  },
  {
   "cell_type": "code",
   "execution_count": 42,
   "metadata": {},
   "outputs": [
    {
     "name": "stdout",
     "output_type": "stream",
     "text": [
      "12.56467875418532 0.0003336160734123371\n"
     ]
    }
   ],
   "source": [
    "F, p = stats.f_oneway(data.loc['perm_mold'], data.loc['die_casting'], \n",
    "                      data.loc['plast_mold'].dropna() )\n",
    "print(F,p)"
   ]
  },
  {
   "cell_type": "code",
   "execution_count": 58,
   "metadata": {},
   "outputs": [
    {
     "name": "stdout",
     "output_type": "stream",
     "text": [
      "  Multiple Comparison of Means - Tukey HSD,FWER=0.05 \n",
      "=====================================================\n",
      "   group1     group2   meandiff  lower  upper  reject\n",
      "-----------------------------------------------------\n",
      "die_casting perm_mold    0.65   -0.0634 1.3634 False \n",
      "die_casting plast_mold  1.5208   0.7503 2.2914  True \n",
      " perm_mold  plast_mold  0.8708   0.1003 1.6414  True \n",
      "-----------------------------------------------------\n"
     ]
    }
   ],
   "source": [
    "values = [x for x in data.values.flatten() if not math.isnan(x)]\n",
    "groups = []\n",
    "for i in data.index:\n",
    "    for j in data.loc[i]:\n",
    "        if not math.isnan(j):\n",
    "            groups.append(i)       \n",
    "mc = MultiComparison(values, groups = np.array(groups))\n",
    "result = mc.tukeyhsd()\n",
    "print(result)\n"
   ]
  }
 ],
 "metadata": {
  "kernelspec": {
   "display_name": "Python 3",
   "language": "python",
   "name": "python3"
  },
  "language_info": {
   "codemirror_mode": {
    "name": "ipython",
    "version": 3
   },
   "file_extension": ".py",
   "mimetype": "text/x-python",
   "name": "python",
   "nbconvert_exporter": "python",
   "pygments_lexer": "ipython3",
   "version": "3.8.5"
  }
 },
 "nbformat": 4,
 "nbformat_minor": 2
}
