{
 "cells": [
  {
   "cell_type": "code",
   "execution_count": 8,
   "metadata": {},
   "outputs": [],
   "source": [
    "from pyspark.sql import SparkSession\n",
    "from pyspark import SparkContext\n",
    "from  pyspark.sql import SQLContext\n",
    "from pyspark.sql.types import *\n",
    "\n",
    "\n",
    "import shutil\n",
    "import os\n",
    "\n",
    "import file_creator_streamer\n",
    "\n"
   ]
  },
  {
   "cell_type": "code",
   "execution_count": 9,
   "metadata": {},
   "outputs": [],
   "source": [
    "#Global\n",
    "INPUT1 = \"input_stream_csv1\"\n",
    "INPUT2 = \"input_stream_csv2\"\n",
    "OUTPUT = \"stream_dir\"\n",
    "CHECKPOINT_DIR=\"checkpoint_dir\"\n",
    "#2019-01-23 00:35:00,key1,1\n"
   ]
  },
  {
   "cell_type": "code",
   "execution_count": 10,
   "metadata": {},
   "outputs": [],
   "source": [
    "def create_data():\n",
    "    pass"
   ]
  },
  {
   "cell_type": "code",
   "execution_count": 11,
   "metadata": {},
   "outputs": [],
   "source": [
    "def clean_dirs():\n",
    "    shutil.rmtree(OUTPUT, ignore_errors=True)\n",
    "    shutil.rmtree(CHECKPOINT_DIR,ignore_errors=True)\n",
    "    shutil.rmtree(INPUT1)\n",
    "    shutil.rmtree(INPUT2)\n",
    "    os.mkdir(OUTPUT)\n",
    "    os.mkdir(CHECKPOINT_DIR)\n",
    "    os.mkdir(INPUT1)\n",
    "    os.mkdir(INPUT2)\n",
    "clean_dirs()"
   ]
  },
  {
   "cell_type": "code",
   "execution_count": 12,
   "metadata": {},
   "outputs": [
    {
     "name": "stderr",
     "output_type": "stream",
     "text": [
      "Setting default log level to \"WARN\".\n",
      "To adjust logging level use sc.setLogLevel(newLevel). For SparkR, use setLogLevel(newLevel).\n"
     ]
    }
   ],
   "source": [
    "spark = SparkSession.builder \\\n",
    "             .master(\"local\") \\\n",
    "             .appName(\"stream to csv\")\\\n",
    "             .config(\"spark.some.config.option\", \"some-value\") \\\n",
    "            .getOrCreate()\n"
   ]
  },
  {
   "cell_type": "code",
   "execution_count": 13,
   "metadata": {},
   "outputs": [],
   "source": [
    "dataSchema = StructType([StructField('creation_time',TimestampType(),True),\n",
    "        StructField('key',StringType(),True),\n",
    "        StructField('x',LongType(),True),\n",
    "                        ])"
   ]
  },
  {
   "cell_type": "code",
   "execution_count": 14,
   "metadata": {},
   "outputs": [],
   "source": [
    "streaming1 = spark.readStream.schema(dataSchema).option(\"maxFilesPerTrigger\", 1)\\\n",
    ".csv(INPUT1)\n",
    "spark.conf.set(\"spark.sql.shuffle.partitions\", 5)"
   ]
  },
  {
   "cell_type": "code",
   "execution_count": 15,
   "metadata": {},
   "outputs": [],
   "source": [
    "streaming2 = spark.readStream.schema(dataSchema).option(\"maxFilesPerTrigger\", 1)\\\n",
    ".csv(INPUT2)\n",
    "spark.conf.set(\"spark.sql.shuffle.partitions\", 5)"
   ]
  },
  {
   "cell_type": "code",
   "execution_count": 16,
   "metadata": {},
   "outputs": [
    {
     "name": "stderr",
     "output_type": "stream",
     "text": [
      "/home/henry/Envs3/pyspark_3/lib/python3.8/site-packages/pyspark/sql/dataframe.py:229: FutureWarning: Deprecated in 2.0, use createOrReplaceTempView instead.\n",
      "  warnings.warn(\"Deprecated in 2.0, use createOrReplaceTempView instead.\", FutureWarning)\n"
     ]
    }
   ],
   "source": [
    "streaming1.registerTempTable(\"my_table1\")\n",
    "streaming2.registerTempTable(\"my_table2\")\n"
   ]
  },
  {
   "cell_type": "code",
   "execution_count": 17,
   "metadata": {},
   "outputs": [
    {
     "data": {
      "text/plain": [
       "<pyspark.sql.streaming.StreamingQuery at 0x7f671c2fdb20>"
      ]
     },
     "execution_count": 17,
     "metadata": {},
     "output_type": "execute_result"
    }
   ],
   "source": [
    "spark.sql(\"select t1.creation_time, t1.x as x1, t2.x as x2 from my_table1 t1 inner join my_table2 t2 on t1.key = t2.key\")\\\n",
    ".writeStream.trigger(processingTime='10 seconds')\\\n",
    ".format(\"parquet\")\\\n",
    ".option(\"checkpointLocation\", CHECKPOINT_DIR).outputMode(\"append\")\\\n",
    ".option(\"path\", OUTPUT).start()"
   ]
  },
  {
   "cell_type": "code",
   "execution_count": null,
   "metadata": {},
   "outputs": [],
   "source": [
    "#df = spark.read.parquet(\"stream_dir5/\")\n",
    "#df.registerTempTable(\"result\")\n",
    "#spark.sql(\"\"\"select creation_time, current_timestamp() -\n",
    "#INTERVAL 14 minutes as t from result where creation_time = '2019-01-22 00:03:49'\n",
    "#and creation_time < current_timestamp() - interval 60 minutes\n",
    "#\"\"\").show()\n"
   ]
  },
  {
   "cell_type": "code",
   "execution_count": 23,
   "metadata": {},
   "outputs": [
    {
     "name": "stdout",
     "output_type": "stream",
     "text": [
      "+-------------------+---+---+\n",
      "|      creation_time| x1| x2|\n",
      "+-------------------+---+---+\n",
      "|2024-06-06 17:26:15| 35| 97|\n",
      "|2024-06-06 17:27:15| 19| 97|\n",
      "|2024-06-06 17:24:14|  8|  7|\n",
      "|2024-06-06 17:25:14| 46|  7|\n",
      "+-------------------+---+---+\n",
      "\n"
     ]
    },
    {
     "name": "stderr",
     "output_type": "stream",
     "text": [
      "                                                                                \r"
     ]
    }
   ],
   "source": [
    "df = spark.read.parquet(f\"{OUTPUT}/\")\n",
    "df.registerTempTable(\"result\")\n",
    "spark.sql(\"\"\"select * from result \n",
    "\"\"\").show()"
   ]
  },
  {
   "cell_type": "code",
   "execution_count": null,
   "metadata": {},
   "outputs": [],
   "source": []
  }
 ],
 "metadata": {
  "kernelspec": {
   "display_name": "Python 3 (ipykernel)",
   "language": "python",
   "name": "python3"
  },
  "language_info": {
   "codemirror_mode": {
    "name": "ipython",
    "version": 3
   },
   "file_extension": ".py",
   "mimetype": "text/x-python",
   "name": "python",
   "nbconvert_exporter": "python",
   "pygments_lexer": "ipython3",
   "version": "3.8.10"
  }
 },
 "nbformat": 4,
 "nbformat_minor": 4
}
