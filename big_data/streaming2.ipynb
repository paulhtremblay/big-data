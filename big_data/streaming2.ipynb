{
 "cells": [
  {
   "cell_type": "code",
   "execution_count": 1,
   "metadata": {},
   "outputs": [],
   "source": [
    "from pyspark.sql import SparkSession\n",
    "from pyspark import SparkContext\n",
    "from  pyspark.sql import SQLContext\n",
    "from pyspark.sql.types import *"
   ]
  },
  {
   "cell_type": "code",
   "execution_count": 2,
   "metadata": {},
   "outputs": [],
   "source": [
    "spark = SparkSession.builder \\\n",
    "             .master(\"local\") \\\n",
    "             .appName(\"Word Count\") \\\n",
    "             .config(\"spark.some.config.option\", \"some-value\") \\\n",
    "            .getOrCreate()\n"
   ]
  },
  {
   "cell_type": "code",
   "execution_count": 3,
   "metadata": {},
   "outputs": [],
   "source": [
    "dataSchema = StructType([StructField('Arrival_Time',LongType(),True),\n",
    "                             StructField('Creation_Time',LongType(),True),\n",
    "                             StructField('Device',StringType(),True),\n",
    "                             StructField('Index',LongType(),True),\n",
    "                             StructField('Model',StringType(),True),\n",
    "                             StructField('User',StringType(),True),\n",
    "                             StructField('gt',StringType(),True),\n",
    "                             StructField('x',DoubleType(),True),\n",
    "                             StructField('y',DoubleType(),True),\n",
    "                             StructField('z',DoubleType(),True)\n",
    "                        ])"
   ]
  },
  {
   "cell_type": "code",
   "execution_count": 4,
   "metadata": {},
   "outputs": [],
   "source": [
    "streaming = spark.readStream.schema(dataSchema).option(\"maxFilesPerTrigger\", 1)\\\n",
    ".json( '/home/henry/projects/Spark-The-Definitive-Guide/data/activity-data_small')\n"
   ]
  },
  {
   "cell_type": "code",
   "execution_count": 5,
   "metadata": {},
   "outputs": [],
   "source": [
    "spark.conf.set(\"spark.sql.shuffle.partitions\", 5)"
   ]
  },
  {
   "cell_type": "code",
   "execution_count": 5,
   "metadata": {},
   "outputs": [
    {
     "data": {
      "text/plain": [
       "[<pyspark.sql.streaming.StreamingQuery at 0x7ff89d5af208>]"
      ]
     },
     "execution_count": 5,
     "metadata": {},
     "output_type": "execute_result"
    }
   ],
   "source": [
    "activityCounts = streaming.groupBy(\"gt\").count()\n",
    "activityQuery = activityCounts.writeStream.queryName(\"activty_counts\").format(\"memory\").outputMode(\"complete\").start()\n",
    "#activityQuery.awaitTermination()\n",
    "spark.streams.active"
   ]
  },
  {
   "cell_type": "code",
   "execution_count": 6,
   "metadata": {},
   "outputs": [
    {
     "name": "stdout",
     "output_type": "stream",
     "text": [
      "+----------+-----+\n",
      "|        gt|count|\n",
      "+----------+-----+\n",
      "|  stairsup|20905|\n",
      "|       sit|24620|\n",
      "|     stand|22770|\n",
      "|      walk|26512|\n",
      "|      bike|21594|\n",
      "|stairsdown|18729|\n",
      "|      null|20894|\n",
      "+----------+-----+\n",
      "\n"
     ]
    }
   ],
   "source": [
    "spark.sql(\"select * from activty_counts\").show()\n"
   ]
  },
  {
   "cell_type": "code",
   "execution_count": 9,
   "metadata": {},
   "outputs": [],
   "source": [
    "#activityQuery.stop()\n",
    "del(spark)"
   ]
  },
  {
   "cell_type": "code",
   "execution_count": null,
   "metadata": {},
   "outputs": [],
   "source": []
  }
 ],
 "metadata": {
  "kernelspec": {
   "display_name": "Python 3",
   "language": "python",
   "name": "python3"
  },
  "language_info": {
   "codemirror_mode": {
    "name": "ipython",
    "version": 3
   },
   "file_extension": ".py",
   "mimetype": "text/x-python",
   "name": "python",
   "nbconvert_exporter": "python",
   "pygments_lexer": "ipython3",
   "version": "3.5.2"
  }
 },
 "nbformat": 4,
 "nbformat_minor": 2
}
