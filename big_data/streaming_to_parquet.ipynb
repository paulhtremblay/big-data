{
 "cells": [
  {
   "cell_type": "code",
   "execution_count": 1,
   "metadata": {},
   "outputs": [],
   "source": [
    "from pyspark.sql import SparkSession\n",
    "from pyspark import SparkContext\n",
    "from  pyspark.sql import SQLContext\n",
    "from pyspark.sql.types import *"
   ]
  },
  {
   "cell_type": "code",
   "execution_count": 2,
   "metadata": {},
   "outputs": [],
   "source": [
    "spark = SparkSession.builder \\\n",
    "             .master(\"local\") \\\n",
    "             .appName(\"stream to parquet\") \\\n",
    "             .config(\"spark.some.config.option\", \"some-value\") \\\n",
    "            .getOrCreate()"
   ]
  },
  {
   "cell_type": "code",
   "execution_count": 14,
   "metadata": {},
   "outputs": [],
   "source": [
    "dataSchema = StructType([StructField('Arrival_Time',LongType(),True),\n",
    "                             StructField('Creation_Time',LongType(),True),\n",
    "                             StructField('Device',StringType(),True),\n",
    "                             StructField('Index',LongType(),True),\n",
    "                             StructField('Model',StringType(),True),\n",
    "                             StructField('User',StringType(),True),\n",
    "                             StructField('gt',StringType(),True),\n",
    "                             StructField('x',DoubleType(),True),\n",
    "                             StructField('y',DoubleType(),True),\n",
    "                             StructField('z',DoubleType(),True)\n",
    "                        ])"
   ]
  },
  {
   "cell_type": "code",
   "execution_count": 4,
   "metadata": {},
   "outputs": [],
   "source": [
    "streaming = spark.readStream.schema(dataSchema).option(\"maxFilesPerTrigger\", 1)\\\n",
    ".json( '/home/henry/projects/Spark-The-Definitive-Guide/data/activity-data_small')\n",
    "spark.conf.set(\"spark.sql.shuffle.partitions\", 5)"
   ]
  },
  {
   "cell_type": "code",
   "execution_count": 5,
   "metadata": {},
   "outputs": [],
   "source": [
    "streaming.registerTempTable(\"my_table\")"
   ]
  },
  {
   "cell_type": "code",
   "execution_count": 6,
   "metadata": {},
   "outputs": [
    {
     "data": {
      "text/plain": [
       "<pyspark.sql.streaming.StreamingQuery at 0x7f8e5c29ebe0>"
      ]
     },
     "execution_count": 6,
     "metadata": {},
     "output_type": "execute_result"
    }
   ],
   "source": [
    "spark.sql(\"select * from my_table\").writeStream.format(\"parquet\")\\\n",
    ".option(\"checkpointLocation\", \"checkpoint_parquet1\").outputMode(\"append\")\\\n",
    ".option(\"path\", \"stream_dir_parquet1\").start()"
   ]
  },
  {
   "cell_type": "code",
   "execution_count": 8,
   "metadata": {},
   "outputs": [
    {
     "data": {
      "text/plain": [
       "True"
      ]
     },
     "execution_count": 8,
     "metadata": {},
     "output_type": "execute_result"
    }
   ],
   "source": [
    "import os\n",
    "p = '/home/henry/projects/big-data/big_data/stream_dir_parquet1/'\n",
    "os.path.isdir(p)"
   ]
  },
  {
   "cell_type": "code",
   "execution_count": 9,
   "metadata": {},
   "outputs": [],
   "source": [
    "streaming2 = spark.readStream.schema(dataSchema).option(\"maxFilesPerTrigger\", 1)\\\n",
    ".parquet('/home/henry/projects/big-data/big_data/stream_dir_parquet1')\n"
   ]
  },
  {
   "cell_type": "code",
   "execution_count": 11,
   "metadata": {},
   "outputs": [],
   "source": [
    "del(streaming2)"
   ]
  },
  {
   "cell_type": "code",
   "execution_count": 13,
   "metadata": {},
   "outputs": [
    {
     "name": "stdout",
     "output_type": "stream",
     "text": [
      "+--------+\n",
      "|count(1)|\n",
      "+--------+\n",
      "|  546084|\n",
      "+--------+\n",
      "\n"
     ]
    }
   ],
   "source": [
    "df = spark.read.parquet('/home/henry/projects/big-data/big_data/stream_dir_parquet1')\n",
    "df.createOrReplaceTempView(\"my_table2\")\n",
    "spark.sql(\"SELECT count(*) from my_table2\").show()\n"
   ]
  },
  {
   "cell_type": "code",
   "execution_count": null,
   "metadata": {},
   "outputs": [],
   "source": [
    "\"\"\"If you add a filel to /home/henry/projects/Spark-The-Definitive-Guide/data/activity-data_small\n",
    "and then run the above cell, you will get a different count\"\"\""
   ]
  }
 ],
 "metadata": {
  "kernelspec": {
   "display_name": "Python 3",
   "language": "python",
   "name": "python3"
  },
  "language_info": {
   "codemirror_mode": {
    "name": "ipython",
    "version": 3
   },
   "file_extension": ".py",
   "mimetype": "text/x-python",
   "name": "python",
   "nbconvert_exporter": "python",
   "pygments_lexer": "ipython3",
   "version": "3.5.2"
  }
 },
 "nbformat": 4,
 "nbformat_minor": 2
}
