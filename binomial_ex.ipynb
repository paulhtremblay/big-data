{
 "cells": [
  {
   "cell_type": "code",
   "execution_count": 1,
   "metadata": {},
   "outputs": [],
   "source": [
    "from scipy.stats import binom\n"
   ]
  },
  {
   "cell_type": "code",
   "execution_count": 46,
   "metadata": {},
   "outputs": [
    {
     "data": {
      "text/plain": [
       "0.9375"
      ]
     },
     "execution_count": 46,
     "metadata": {},
     "output_type": "execute_result"
    }
   ],
   "source": [
    "#probability a coin will be ??\n",
    "binom.cdf(n= 4, k = 3, p = .5)\n",
    "# p(0) + p(1) + p(2) = p(3)"
   ]
  },
  {
   "cell_type": "code",
   "execution_count": 47,
   "metadata": {},
   "outputs": [
    {
     "data": {
      "text/plain": [
       "0.3750000000000001"
      ]
     },
     "execution_count": 47,
     "metadata": {},
     "output_type": "execute_result"
    }
   ],
   "source": [
    "binom.pmf(n=4, k =2, p =.5)\n",
    "# p of exactly 2 successes in 4 "
   ]
  },
  {
   "cell_type": "code",
   "execution_count": 45,
   "metadata": {},
   "outputs": [
    {
     "name": "stdout",
     "output_type": "stream",
     "text": [
      "7.0 16.0\n"
     ]
    }
   ],
   "source": [
    "def is_states_sig():\n",
    "    \"\"\"\n",
    "    23 states. success is measured as the rate going down. \n",
    "    \"\"\"\n",
    "    found_lower = False\n",
    "    found_upper= False\n",
    "    lower, upper= None, None\n",
    "    for k in range(24):\n",
    "        p = binom.cdf(n= 23, k = k, p = .5)\n",
    "        if p > .05/2 and not found_lower:\n",
    "            lower = k\n",
    "            found_lower = True\n",
    "        if p > 1 - .05/2 and not found_upper:\n",
    "            upper = k\n",
    "            found_upper = True\n",
    "    return lower, upper\n",
    "is_states_sig()\n",
    "# is the same as\n",
    "lower, upper = binom.interval(.95, 23, .5)\n",
    "print(lower, upper)\n",
    "# only reject if number of success below 7 or above 16\n",
    "\n"
   ]
  },
  {
   "cell_type": "code",
   "execution_count": 37,
   "metadata": {},
   "outputs": [
    {
     "data": {
      "text/plain": [
       "(7.0, 16.0)"
      ]
     },
     "execution_count": 37,
     "metadata": {},
     "output_type": "execute_result"
    }
   ],
   "source": [
    "\n"
   ]
  }
 ],
 "metadata": {
  "kernelspec": {
   "display_name": "Python 3",
   "language": "python",
   "name": "python3"
  },
  "language_info": {
   "codemirror_mode": {
    "name": "ipython",
    "version": 3
   },
   "file_extension": ".py",
   "mimetype": "text/x-python",
   "name": "python",
   "nbconvert_exporter": "python",
   "pygments_lexer": "ipython3",
   "version": "3.6.9"
  }
 },
 "nbformat": 4,
 "nbformat_minor": 2
}
