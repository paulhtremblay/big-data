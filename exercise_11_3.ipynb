{
 "cells": [
  {
   "cell_type": "code",
   "execution_count": 13,
   "metadata": {},
   "outputs": [],
   "source": [
    "import numpy as np\n",
    "import math\n",
    "import pandas as pd\n",
    "from scipy import stats\n",
    "from statsmodels.stats.multicomp import pairwise_tukeyhsd\n",
    "from statsmodels.stats.multicomp import MultiComparison\n",
    "from bokeh.io import show\n",
    "from bokeh.plotting import figure\n",
    "from  big_data_tools.bokeh_tools.box_plot import box_plot\n",
    "from bokeh.layouts import gridplot\n"
   ]
  },
  {
   "cell_type": "code",
   "execution_count": 2,
   "metadata": {},
   "outputs": [],
   "source": [
    "def get_sse(*kwargs):\n",
    "    _sse = []\n",
    "    for i in kwargs:\n",
    "        mean = np.mean(i)\n",
    "        _sse.append(sum([(x -mean) * (x -mean) for x in i]))\n",
    "    return sum(_sse)"
   ]
  },
  {
   "cell_type": "code",
   "execution_count": 3,
   "metadata": {},
   "outputs": [],
   "source": [
    "def get_correction_factor(*kwargs):\n",
    "    n = 0 \n",
    "    s = 0\n",
    "    for i in kwargs:\n",
    "        n += len(i)\n",
    "        s += sum(i)\n",
    "    return 1/n * s * s"
   ]
  },
  {
   "cell_type": "code",
   "execution_count": 4,
   "metadata": {},
   "outputs": [],
   "source": [
    "def get_sst(*kwargs):\n",
    "    s2 = 0\n",
    "    for i in kwargs:\n",
    "        for j in i:\n",
    "            s2 += j * j\n",
    "    CF = get_correction_factor(*kwargs)\n",
    "    return s2 - CF"
   ]
  },
  {
   "cell_type": "code",
   "execution_count": 5,
   "metadata": {},
   "outputs": [],
   "source": [
    "def get_sstr(*kwargs):\n",
    "    s2 = 0\n",
    "    for i in kwargs:\n",
    "        s2 += sum(i) * sum(i)\n",
    "    CF = get_correction_factor(*kwargs)\n",
    "    return s2/len(kwargs[0]) - CF"
   ]
  },
  {
   "cell_type": "code",
   "execution_count": 15,
   "metadata": {},
   "outputs": [],
   "source": [
    "def get_data_2():\n",
    "    d1 = [65, 49, 50]\n",
    "    d2 = [53, 51, 48]\n",
    "    d3 = [47, 45, 50]\n",
    "    d4 = [51, 43, 52]\n",
    "    df = pd.DataFrame([d1, d2, d3,d4],  index = ['c1', 'c2', 'c3', 'c4'], \n",
    "                     columns = ['s1', 's2', 's3'])\n",
    "    return df\n",
    "\n",
    "def box_ex2():\n",
    "    d = get_data_2()\n",
    "    p_box1 = box_plot(data = d, df_type = \"index\")\n",
    "    p_box2 = box_plot(data = d, df_type = \"columns\")\n",
    "    grid = gridplot([p_box1, p_box2\n",
    "        ],\n",
    "        ncols = 2)\n",
    "    show(grid)\n",
    "\n",
    "box_ex2()"
   ]
  },
  {
   "cell_type": "code",
   "execution_count": null,
   "metadata": {},
   "outputs": [],
   "source": []
  }
 ],
 "metadata": {
  "kernelspec": {
   "display_name": "Python 3",
   "language": "python",
   "name": "python3"
  },
  "language_info": {
   "codemirror_mode": {
    "name": "ipython",
    "version": 3
   },
   "file_extension": ".py",
   "mimetype": "text/x-python",
   "name": "python",
   "nbconvert_exporter": "python",
   "pygments_lexer": "ipython3",
   "version": "3.5.2"
  }
 },
 "nbformat": 4,
 "nbformat_minor": 2
}
