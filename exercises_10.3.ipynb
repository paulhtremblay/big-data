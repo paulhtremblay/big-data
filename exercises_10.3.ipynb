{
 "cells": [
  {
   "cell_type": "code",
   "execution_count": 1,
   "metadata": {},
   "outputs": [],
   "source": [
    "import numpy as np\n",
    "import math\n",
    "import pandas as pd\n",
    "from scipy import stats\n",
    "from statsmodels.stats.multicomp import pairwise_tukeyhsd\n",
    "from statsmodels.stats.multicomp import MultiComparison"
   ]
  },
  {
   "cell_type": "code",
   "execution_count": 2,
   "metadata": {},
   "outputs": [],
   "source": [
    "from bokeh.io import show\n",
    "from bokeh.plotting import figure\n",
    "from  big_data_tools.bokeh_tools.bar import bar \n",
    "from  big_data_tools.bokeh_tools.histogram import hist \n",
    "from  big_data_tools.bokeh_tools.box_plot import box_plot \n",
    "from  big_data_tools.bokeh_tools.prob_plot import prob_plot \n",
    "from bokeh.layouts import gridplot\n",
    "from bokeh.models import NumeralTickFormatter\n",
    "from bokeh.models import DatetimeTickFormatter"
   ]
  },
  {
   "cell_type": "code",
   "execution_count": 38,
   "metadata": {},
   "outputs": [],
   "source": [
    "def get_data():\n",
    "    t1 = [59.5, 53.3, 56.8, 63.1, 58.7]\n",
    "    t2 = [55.2, 59.1, 52.8, 54.1]\n",
    "    t3 = [51.7, 48.8, 53.9, 49]\n",
    "    t4 = [44.5, 48.5, 41, 47.3, 46.1]\n",
    "    df = pd.DataFrame([t1, t2, t3, t4],  index = ['t1', 't2', 't3', 't4'])\n",
    "    return df\n",
    "data = get_data()"
   ]
  },
  {
   "cell_type": "code",
   "execution_count": 47,
   "metadata": {},
   "outputs": [],
   "source": [
    "def get_values(data):\n",
    "     return [x for x in data.values.flatten() if not math.isnan(x)]\n",
    "def get_groups(data):\n",
    "    groups = []\n",
    "    for i in data.index:\n",
    "        for j in data.loc[i]:\n",
    "            if not math.isnan(j):\n",
    "                groups.append(i)\n",
    "    return groups\n"
   ]
  },
  {
   "cell_type": "code",
   "execution_count": 28,
   "metadata": {},
   "outputs": [],
   "source": [
    "def get_treatments_box(data):\n",
    "    _data = []\n",
    "    for i in data.index:\n",
    "        _data.append(list(data.loc[i].dropna()))\n",
    "    return _data"
   ]
  },
  {
   "cell_type": "code",
   "execution_count": 49,
   "metadata": {},
   "outputs": [],
   "source": [
    "p_box = box_plot(list(data.index), data =get_treatments_box(data)\n",
    "                )\n",
    "grid = gridplot([p_box, \n",
    "    ],\n",
    "    ncols = 2)\n",
    "show(grid)"
   ]
  },
  {
   "cell_type": "code",
   "execution_count": 44,
   "metadata": {},
   "outputs": [
    {
     "data": {
      "text/plain": [
       "6.211174441234936e-05"
      ]
     },
     "execution_count": 44,
     "metadata": {},
     "output_type": "execute_result"
    }
   ],
   "source": [
    "F, p = stats.f_oneway(*get_treatments_box(data) )\n",
    "p"
   ]
  },
  {
   "cell_type": "code",
   "execution_count": 48,
   "metadata": {},
   "outputs": [
    {
     "name": "stdout",
     "output_type": "stream",
     "text": [
      "Multiple Comparison of Means - Tukey HSD,FWER=0.05\n",
      "=============================================\n",
      "group1 group2 meandiff  lower   upper  reject\n",
      "---------------------------------------------\n",
      "  t1     t2    -2.98    -8.819  2.859  False \n",
      "  t1     t3    -7.43   -13.269  -1.591  True \n",
      "  t1     t4    -12.8   -18.305  -7.295  True \n",
      "  t2     t3    -4.45   -10.6048 1.7048 False \n",
      "  t2     t4    -9.82   -15.659  -3.981  True \n",
      "  t3     t4    -5.37   -11.209  0.469  False \n",
      "---------------------------------------------\n"
     ]
    }
   ],
   "source": [
    "mc = MultiComparison(get_values(data), groups = get_groups(data))\n",
    "result = mc.tukeyhsd()\n",
    "print(result)"
   ]
  },
  {
   "cell_type": "code",
   "execution_count": null,
   "metadata": {},
   "outputs": [],
   "source": []
  }
 ],
 "metadata": {
  "kernelspec": {
   "display_name": "Python 3",
   "language": "python",
   "name": "python3"
  },
  "language_info": {
   "codemirror_mode": {
    "name": "ipython",
    "version": 3
   },
   "file_extension": ".py",
   "mimetype": "text/x-python",
   "name": "python",
   "nbconvert_exporter": "python",
   "pygments_lexer": "ipython3",
   "version": "3.5.2"
  }
 },
 "nbformat": 4,
 "nbformat_minor": 2
}
