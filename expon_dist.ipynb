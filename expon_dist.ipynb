{
 "cells": [
  {
   "cell_type": "code",
   "execution_count": 185,
   "metadata": {},
   "outputs": [],
   "source": [
    "from scipy import stats\n",
    "import random\n",
    "import numpy as np\n",
    "import math\n",
    "from bokeh.plotting  import figure, show"
   ]
  },
  {
   "cell_type": "code",
   "execution_count": 191,
   "metadata": {},
   "outputs": [],
   "source": [
    "dist = list(stats.expon.rvs( size=500))\n",
    "sample_size = 60"
   ]
  },
  {
   "cell_type": "code",
   "execution_count": 196,
   "metadata": {},
   "outputs": [],
   "source": [
    "def do_samples():\n",
    "    samples = []\n",
    "    for i in range(2000):\n",
    "        samples.append(np.mean([random.choice(dist) for _ in range(sample_size)]))\n",
    "    return samples"
   ]
  },
  {
   "cell_type": "code",
   "execution_count": 197,
   "metadata": {},
   "outputs": [],
   "source": [
    "s = do_samples()\n"
   ]
  },
  {
   "cell_type": "code",
   "execution_count": 198,
   "metadata": {},
   "outputs": [
    {
     "name": "stdout",
     "output_type": "stream",
     "text": [
      "0.9643469236923642 0.9625352960245652 0.8969221563710751 0.014583722595139377 0.014948702606184585\n"
     ]
    }
   ],
   "source": [
    "p_var = np.var(dist)\n",
    "p_mu = np.mean(dist)\n",
    "s_var = np.var(s)\n",
    "s_mu  = np.mean(s)\n",
    "s_exp = np.var(dist)/(sample_size)\n",
    "print(p_mu,  s_mu, p_var, s_var, s_exp)\n",
    "\n",
    "    "
   ]
  },
  {
   "cell_type": "code",
   "execution_count": 199,
   "metadata": {},
   "outputs": [],
   "source": [
    "hist, edges = np.histogram(s, density=True)\n",
    "p = figure()\n",
    "p.quad(top = hist, bottom=0, left=edges[:-1], right=edges[1:], alpha = .4)\n",
    "show(p)"
   ]
  },
  {
   "cell_type": "code",
   "execution_count": null,
   "metadata": {},
   "outputs": [],
   "source": []
  }
 ],
 "metadata": {
  "kernelspec": {
   "display_name": "Python 3",
   "language": "python",
   "name": "python3"
  },
  "language_info": {
   "codemirror_mode": {
    "name": "ipython",
    "version": 3
   },
   "file_extension": ".py",
   "mimetype": "text/x-python",
   "name": "python",
   "nbconvert_exporter": "python",
   "pygments_lexer": "ipython3",
   "version": "3.5.2"
  }
 },
 "nbformat": 4,
 "nbformat_minor": 2
}
