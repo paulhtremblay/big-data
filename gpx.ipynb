{
 "cells": [
  {
   "cell_type": "code",
   "execution_count": 1,
   "metadata": {},
   "outputs": [],
   "source": [
    "import gpxpy\n",
    "import gpxpy.gpx\n",
    "import datetime\n",
    "from geopy.distance import vincenty\n",
    "from geopy.distance import geodesic\n",
    "from dateutil import tz\n",
    "import pytz\n",
    "from pytz import timezone\n",
    "from datetime import timezone as dt_timezone"
   ]
  },
  {
   "cell_type": "code",
   "execution_count": 2,
   "metadata": {},
   "outputs": [],
   "source": [
    "def get_data(path):\n",
    "    with  open(path, 'r') as gpx_file:\n",
    "        gpx = gpxpy.parse(gpx_file)\n",
    "    return gpx\n",
    "gpx_in = get_data('/home/henry/Downloads/track_march_02.gpx')\n"
   ]
  },
  {
   "cell_type": "code",
   "execution_count": 3,
   "metadata": {},
   "outputs": [],
   "source": [
    "def convert_to_local(dt):\n",
    "    return  dt.replace(tzinfo=dt_timezone.utc).astimezone(tz=None)\n",
    "    "
   ]
  },
  {
   "cell_type": "code",
   "execution_count": 22,
   "metadata": {},
   "outputs": [],
   "source": [
    "def get_projected_next(x1, y1, x2, y2):\n",
    "    slope = (y2-y1)/(x2-x1)\n",
    "    intercept = y1 - x1 * slope"
   ]
  },
  {
   "cell_type": "code",
   "execution_count": 23,
   "metadata": {},
   "outputs": [
    {
     "name": "stdout",
     "output_type": "stream",
     "text": [
      "Point at (47.3884734325,-121.3982945401) -> 835.04\n",
      "Point at (47.3884408269,-121.3983355276) -> 837.45\n",
      "4.766193268373313\n",
      "31\n",
      "slope is 1.2570693378775561\n",
      "intercept is -180.96889146092093\n",
      "-121.3983355276 -121.3983355276\n",
      "2019-03-02 17:39:14+00:00\n",
      "2019-03-02 09:39:14-08:00\n",
      "0:00:31\n",
      "4.76633482198946\n"
     ]
    }
   ],
   "source": [
    "for track in gpx_in.tracks:\n",
    "    debug = True\n",
    "    for segment in track.segments:\n",
    "        previous = None\n",
    "        for point in segment.points:\n",
    "            print('Point at ({0},{1}) -> {2}'.format(point.latitude, point.longitude, point.elevation))\n",
    "            #print(dir(point))\n",
    "            if previous != None:\n",
    "                print(point.distance_2d(previous)) # in meters\n",
    "                print(point.time_difference(previous)) # in seconds\n",
    "                get_projected_next(previous.latitude, previous.longitude,\n",
    "                                  point.latitude, point.longitude)\n",
    "                if debug:\n",
    "                    print(point.time)\n",
    "                    print(convert_to_local(point.time))\n",
    "                    print(point.time - previous.time)\n",
    "                    print(geodesic((point.latitude, point.longitude), (previous.latitude,previous.longitude)).meters)\n",
    "\n",
    "            if previous != None:\n",
    "                break\n",
    "            previous = point\n",
    "\n"
   ]
  },
  {
   "cell_type": "code",
   "execution_count": null,
   "metadata": {},
   "outputs": [],
   "source": [
    "#gpx = gpxpy.gpx.GPX()\n",
    "gpx_track = gpxpy.gpx.GPXTrack()\n",
    "gpx.tracks.append(gpx_track)\n",
    "\n",
    "# Create first segment in our GPX track:\n",
    "gpx_segment = gpxpy.gpx.GPXTrackSegment()\n",
    "gpx_track.segments.append(gpx_segment)\n",
    "gpx_segment.points.append(gpxpy.gpx.GPXTrackPoint(2.1234, 5.1234, elevation=1234))\n",
    "gpx_segment.points.append(gpxpy.gpx.GPXTrackPoint(2.1235, 5.1235, elevation=1235))\n",
    "gpx_segment.points.append(gpxpy.gpx.GPXTrackPoint(2.1236, 5.1236, elevation=1236))\n",
    "with open('out_temp.gpx', 'w') as write_obj:\n",
    "    write_obj.write(gpx.to_xml())"
   ]
  },
  {
   "cell_type": "code",
   "execution_count": 6,
   "metadata": {},
   "outputs": [],
   "source": [
    "def copy_track():\n",
    "    gpx_out = gpxpy.gpx.GPX()\n",
    "    gpx_track = gpxpy.gpx.GPXTrack()\n",
    "    gpx_out.tracks.append(gpx_track)\n",
    "\n",
    "    # Create first segment in our GPX track:\n",
    "    gpx_segment = gpxpy.gpx.GPXTrackSegment()\n",
    "    gpx_track.segments.append(gpx_segment)\n",
    "    for track in gpx_in.tracks:\n",
    "        for segment in track.segments:\n",
    "            previous = None\n",
    "            for point in segment.points:\n",
    "                gpx_segment.points.append(gpxpy.gpx.GPXTrackPoint(point.latitude, point.longitude, elevation=point.elevation))\n",
    "                if previous != None:\n",
    "                    pass\n",
    "                previous = point\n",
    "    \n",
    "copy_track()"
   ]
  },
  {
   "cell_type": "code",
   "execution_count": null,
   "metadata": {},
   "outputs": [],
   "source": []
  }
 ],
 "metadata": {
  "kernelspec": {
   "display_name": "Python 3",
   "language": "python",
   "name": "python3"
  },
  "language_info": {
   "codemirror_mode": {
    "name": "ipython",
    "version": 3
   },
   "file_extension": ".py",
   "mimetype": "text/x-python",
   "name": "python",
   "nbconvert_exporter": "python",
   "pygments_lexer": "ipython3",
   "version": "3.6.8"
  }
 },
 "nbformat": 4,
 "nbformat_minor": 2
}
