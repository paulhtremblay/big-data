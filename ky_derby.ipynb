{
 "cells": [
  {
   "cell_type": "code",
   "execution_count": 1,
   "metadata": {},
   "outputs": [
    {
     "data": {
      "text/plain": [
       "'Odds'"
      ]
     },
     "execution_count": 1,
     "metadata": {},
     "output_type": "execute_result"
    }
   ],
   "source": [
    "\"\"\"Odds\"\"\""
   ]
  },
  {
   "cell_type": "code",
   "execution_count": 2,
   "metadata": {},
   "outputs": [],
   "source": [
    "raw_data = \"\"\"\n",
    "Maximum Security 4-1 \n",
    "Improbable 9-2\n",
    "Tacitus 5-1 \n",
    "Game Winner 6-1 \n",
    "Roadster 9-1 \n",
    "Code of Honor 12-1 \n",
    "By My Standards 15-1 \n",
    "Win Win Win 15-1 \n",
    "War of Will 17-1 \n",
    "Vekoma 22-1 \n",
    "Cutting Humor 25-1 \n",
    "Gray Magician 31-1 \n",
    "Tax 37-1 \n",
    "Long Range Toddy 49-1 \n",
    "Master Fencer 50-1 \n",
    "Spinoff 51-1 \n",
    "Plus Que Parfait 55-1 \n",
    "Country House 64-1 \n",
    "Bodexpress 99-1\n",
    "\n",
    "\"\"\""
   ]
  },
  {
   "cell_type": "code",
   "execution_count": 29,
   "metadata": {},
   "outputs": [
    {
     "name": "stdout",
     "output_type": "stream",
     "text": [
      "[('Maximum Security', 4, 1), ('Improbable', 9, 2), ('Tacitus', 5, 1), ('Game Winner', 6, 1), ('Roadster', 9, 1), ('Code of Honor', 12, 1), ('By My Standards', 15, 1), ('Win Win Win', 15, 1), ('War of Will', 17, 1), ('Vekoma', 22, 1), ('Cutting Humor', 25, 1), ('Gray Magician', 31, 1), ('Tax', 37, 1), ('Long Range Toddy', 49, 1), ('Master Fencer', 50, 1), ('Spinoff', 51, 1), ('Plus Que Parfait', 55, 1), ('Country House', 64, 1), ('Bodexpress', 99, 1)]\n"
     ]
    }
   ],
   "source": [
    "data = []\n",
    "data_split = raw_data.split('\\n')\n",
    "for i in data_split:\n",
    "    fields = i.strip().split()\n",
    "    if len(fields) == 0:\n",
    "        continue\n",
    "    name = ' '.join(fields[0:len(fields) -1])\n",
    "    odds = [int(x) for x in fields[-1].split('-')]\n",
    "    data.append((name, odds[0], odds[1]))\n",
    "print(data)\n"
   ]
  },
  {
   "cell_type": "code",
   "execution_count": 40,
   "metadata": {},
   "outputs": [
    {
     "name": "stdout",
     "output_type": "stream",
     "text": [
      "Maximum Security\t4-1\t0.2\n",
      "Improbable\t\t9-2\t0.18\n",
      "Tacitus\t\t\t5-1\t0.17\n",
      "Game Winner\t\t6-1\t0.14\n",
      "Roadster\t\t9-1\t0.1\n",
      "Code of Honor\t\t12-1\t0.08\n",
      "By My Standards\t\t15-1\t0.06\n",
      "Win Win Win\t\t15-1\t0.06\n",
      "War of Will\t\t17-1\t0.06\n",
      "Vekoma\t\t\t22-1\t0.04\n",
      "Cutting Humor\t\t25-1\t0.04\n",
      "Gray Magician\t\t31-1\t0.03\n",
      "Tax\t\t\t37-1\t0.03\n",
      "Long Range Toddy\t49-1\t0.02\n",
      "Master Fencer\t\t50-1\t0.02\n",
      "Spinoff\t\t\t51-1\t0.02\n",
      "Plus Que Parfait\t55-1\t0.02\n",
      "Country House\t\t64-1\t0.02\n",
      "Bodexpress\t\t99-1\t0.01\n",
      "total \t\t\t\t1.29\n"
     ]
    }
   ],
   "source": [
    "def get_space(x):\n",
    "    if len(x) <= 7:\n",
    "        return '\\t\\t\\t'\n",
    "    if len(x) < 16:\n",
    "        return '\\t\\t'\n",
    "    return '\\t'\n",
    "total_p =0\n",
    "for i in data:\n",
    "    print('{name}{s}{win}-{pay}\\t{prob}'.format(\n",
    "       name = i[0],\n",
    "        win = i[1],\n",
    "        pay = i[2],\n",
    "        prob = round(i[2]/(i[1] + i[2]),2),\n",
    "        s = get_space(i[0])\n",
    "    )\n",
    "         )\n",
    "    total_p += i[2]/(i[1] + i[2])\n",
    "print('total \\t\\t\\t\\t{p}'.format(p=round(total_p,2)))"
   ]
  },
  {
   "cell_type": "code",
   "execution_count": null,
   "metadata": {},
   "outputs": [],
   "source": []
  }
 ],
 "metadata": {
  "kernelspec": {
   "display_name": "Python 3",
   "language": "python",
   "name": "python3"
  },
  "language_info": {
   "codemirror_mode": {
    "name": "ipython",
    "version": 3
   },
   "file_extension": ".py",
   "mimetype": "text/x-python",
   "name": "python",
   "nbconvert_exporter": "python",
   "pygments_lexer": "ipython3",
   "version": "3.5.2"
  }
 },
 "nbformat": 4,
 "nbformat_minor": 2
}
