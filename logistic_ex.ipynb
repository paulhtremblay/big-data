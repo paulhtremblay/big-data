{
 "cells": [
  {
   "cell_type": "code",
   "execution_count": 110,
   "metadata": {},
   "outputs": [],
   "source": [
    "from sklearn.linear_model import LogisticRegression\n",
    "from sklearn.metrics import classification_report\n",
    "from sklearn.metrics import confusion_matrix\n",
    "\n",
    "import pandas as pd\n",
    "\n",
    "import random\n"
   ]
  },
  {
   "cell_type": "code",
   "execution_count": 9,
   "metadata": {},
   "outputs": [],
   "source": [
    "def get_data():\n",
    "    df = pd.read_csv('diabetes.csv')\n",
    "    return df\n"
   ]
  },
  {
   "cell_type": "code",
   "execution_count": 25,
   "metadata": {},
   "outputs": [],
   "source": [
    "def get_stats(cm):\n",
    "    return {'precision 0':round(cm[0][0]/(cm[0][0] + cm[1][0]),2),\n",
    "            'precision 1':round(cm[1][1]/(cm[1][1] + cm[0][1]),2),\n",
    "             'weighted avg': round((cm[0][0] + cm[1][1])/(cm[0][0] + cm[0][1] +  cm[1][0] + cm[1][1]),2),\n",
    "             'correct_1_count':cm[1][1],\n",
    "             'correct_0_count':cm[0][0],\n",
    "             'false_1_count': cm[1][0],\n",
    "             'false_0_count': cm[0][1],\n",
    "            }"
   ]
  },
  {
   "cell_type": "code",
   "execution_count": 120,
   "metadata": {},
   "outputs": [
    {
     "name": "stdout",
     "output_type": "stream",
     "text": [
      "              precision    recall  f1-score   support\n",
      "\n",
      "           0       1.00      0.99      1.00       486\n",
      "           1       0.99      1.00      1.00       514\n",
      "\n",
      "    accuracy                           1.00      1000\n",
      "   macro avg       1.00      1.00      1.00      1000\n",
      "weighted avg       1.00      1.00      1.00      1000\n",
      "\n",
      "{'precision 0': 1.0, 'precision 1': 0.99, 'weighted avg': 1.0, 'correct_1_count': 514, 'correct_0_count': 482, 'false_1_count': 0, 'false_0_count': 4}\n",
      "[[482   4]\n",
      " [  0 514]]\n"
     ]
    }
   ],
   "source": [
    "def with_test_data():\n",
    "    logmodel = LogisticRegression(solver = 'lbfgs', max_iter = 1e5)\n",
    "    X = [random.gauss(0,1) for x in range(1000)]\n",
    "    y = [0 if x < 0 else 1 for x in X]\n",
    "    X = [[x] for x in X]\n",
    "    res = logmodel.fit(X, y)\n",
    "    pred = logmodel.predict(X)\n",
    "    logmodel.score(X, y)\n",
    "    pred = logmodel.predict(X)\n",
    "    report = classification_report(y, pred)\n",
    "    print(report)\n",
    "    cm = confusion_matrix(y, pred)\n",
    "    print(get_stats(cm))\n",
    "    print(cm)\n",
    "with_test_data()\n",
    "\n"
   ]
  },
  {
   "cell_type": "code",
   "execution_count": 122,
   "metadata": {},
   "outputs": [
    {
     "name": "stdout",
     "output_type": "stream",
     "text": [
      "              precision    recall  f1-score   support\n",
      "\n",
      "           0       0.69      0.90      0.78       500\n",
      "           1       0.58      0.26      0.36       268\n",
      "\n",
      "    accuracy                           0.68       768\n",
      "   macro avg       0.64      0.58      0.57       768\n",
      "weighted avg       0.65      0.68      0.64       768\n",
      "\n",
      "{'precision 0': 0.69, 'precision 1': 0.58, 'weighted avg': 0.68, 'correct_1_count': 70, 'correct_0_count': 449, 'false_1_count': 198, 'false_0_count': 51}\n"
     ]
    }
   ],
   "source": [
    "def with_diabetes():\n",
    "    logmodel = LogisticRegression(solver = 'lbfgs', max_iter = 1e5)\n",
    "    X = get_data().filter(['BMI', 'Insulin'])\n",
    "    y = get_data()['Outcome']\n",
    "    res = logmodel.fit(X, y)\n",
    "    pred = logmodel.predict(X)\n",
    "    logmodel.score(X, y)\n",
    "    pred = logmodel.predict(X)\n",
    "    report = classification_report(y, pred)\n",
    "    print(report)\n",
    "    cm = confusion_matrix(y, pred)\n",
    "    print(get_stats(cm))\n",
    "with_diabetes()\n",
    "\n"
   ]
  }
 ],
 "metadata": {
  "kernelspec": {
   "display_name": "Python 3",
   "language": "python",
   "name": "python3"
  },
  "language_info": {
   "codemirror_mode": {
    "name": "ipython",
    "version": 3
   },
   "file_extension": ".py",
   "mimetype": "text/x-python",
   "name": "python",
   "nbconvert_exporter": "python",
   "pygments_lexer": "ipython3",
   "version": "3.6.9"
  }
 },
 "nbformat": 4,
 "nbformat_minor": 2
}
