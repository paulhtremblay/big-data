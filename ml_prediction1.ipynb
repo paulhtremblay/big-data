{
 "cells": [
  {
   "cell_type": "code",
   "execution_count": null,
   "metadata": {},
   "outputs": [],
   "source": [
    "import numpy as np\n",
    "import pandas as pd\n",
    "import datetime\n",
    "import pytz"
   ]
  },
  {
   "cell_type": "code",
   "execution_count": null,
   "metadata": {},
   "outputs": [],
   "source": [
    "#Bokeh\n",
    "from bokeh.io import show\n",
    "from bokeh.plotting import figure\n",
    "from  big_data_tools.bokeh_tools.bar import bar \n",
    "from  big_data_tools.bokeh_tools.histogram import hist \n",
    "from  big_data_tools.bokeh_tools.box_plot import box_plot \n",
    "from  big_data_tools.bokeh_tools.prob_plot import prob_plot \n",
    "from bokeh.layouts import gridplot\n",
    "from bokeh.models import NumeralTickFormatter\n",
    "from bokeh.models import DatetimeTickFormatter"
   ]
  },
  {
   "cell_type": "code",
   "execution_count": null,
   "metadata": {},
   "outputs": [],
   "source": [
    "from sklearn.linear_model import LinearRegression\n",
    "from sklearn.model_selection import train_test_split\n",
    "from sklearn import ensemble"
   ]
  },
  {
   "cell_type": "code",
   "execution_count": null,
   "metadata": {},
   "outputs": [],
   "source": [
    "def get_data(path):\n",
    "    def convert_date(x):\n",
    "        return datetime.datetime.strptime(x[0:8], '%Y%m%d').replace(tzinfo=pytz.utc)\n",
    "    d= pd.read_csv(path)\n",
    "    d['date'] = d['date'].map(convert_date)\n",
    "    return d\n",
    "housing_data = get_data('/Users/a6002538/Downloads/kc_house_data.csv')\n",
    "housing_data.head()"
   ]
  },
  {
   "cell_type": "code",
   "execution_count": null,
   "metadata": {},
   "outputs": [],
   "source": [
    "housing_data.describe()"
   ]
  },
  {
   "cell_type": "code",
   "execution_count": null,
   "metadata": {},
   "outputs": [],
   "source": [
    "def make_histogram(data):\n",
    "    return hist(data)\n",
    "p_housing_hist = make_histogram(housing_data['bedrooms'])"
   ]
  },
  {
   "cell_type": "code",
   "execution_count": null,
   "metadata": {},
   "outputs": [],
   "source": [
    "def make_floors_price_scatter(data):\n",
    "    p = figure()\n",
    "    p.circle(x=data.floors, y = data.price)\n",
    "    return p\n",
    "p_floors_price = make_floors_price_scatter(housing_data)"
   ]
  },
  {
   "cell_type": "code",
   "execution_count": null,
   "metadata": {},
   "outputs": [],
   "source": [
    "reg = LinearRegression()\n",
    "labels = housing_data['price']\n",
    "conv_dates = [1 if values.year == 2014 else 0 for values in housing_data.date ]\n",
    "housing_data['date'] = conv_dates\n",
    "train1 = housing_data.drop(['id', 'price'],axis=1)"
   ]
  },
  {
   "cell_type": "code",
   "execution_count": null,
   "metadata": {},
   "outputs": [],
   "source": [
    "def make_pred_graphs(true_data, pred):\n",
    "    p_hist = hist(true_data - pred)\n",
    "    p_scatter = figure()\n",
    "    p_scatter.circle(x = true_data, y = pred)\n",
    "    max_y = max(max(pred), max(true_data))\n",
    "    p_scatter.line(x = [0, max_y], y = [0, max_y])\n",
    "    return p_hist, p_scatter"
   ]
  },
  {
   "cell_type": "code",
   "execution_count": null,
   "metadata": {},
   "outputs": [],
   "source": [
    "x_train , x_test , y_train , y_test = train_test_split(train1 , labels , test_size = 0.10,random_state =2)\n",
    "reg.fit(x_train,y_train)\n",
    "LinearRegression(copy_X=True, fit_intercept=True, n_jobs=1, normalize=False)\n",
    "reg.score(x_test,y_test)\n",
    "#print(reg.coef_)\n",
    "pred1 = reg.predict(train1)\n",
    "housing_data['price'] - pred1\n",
    "p_pred_hist, p_pred_scatter = make_pred_graphs(housing_data['price'], pred1)\n",
    "\n"
   ]
  },
  {
   "cell_type": "code",
   "execution_count": 80,
   "metadata": {},
   "outputs": [],
   "source": [
    "clf = ensemble.GradientBoostingRegressor(n_estimators = 400, max_depth = 5, min_samples_split = 2,\n",
    "          learning_rate = 0.1, loss = 'ls')\n",
    "clf.fit(x_train, y_train)\n",
    "clf.score(x_test,y_test)\n",
    "\n"
   ]
  },
  {
   "cell_type": "code",
   "execution_count": 97,
   "metadata": {},
   "outputs": [
    {
     "name": "stdout",
     "output_type": "stream",
     "text": [
      "['_SUPPORTED_LOSS', '__abstractmethods__', '__class__', '__delattr__', '__dict__', '__dir__', '__doc__', '__eq__', '__format__', '__ge__', '__getattribute__', '__getitem__', '__getstate__', '__gt__', '__hash__', '__init__', '__init_subclass__', '__iter__', '__le__', '__len__', '__lt__', '__module__', '__ne__', '__new__', '__reduce__', '__reduce_ex__', '__repr__', '__setattr__', '__setstate__', '__sizeof__', '__str__', '__subclasshook__', '__weakref__', '_abc_cache', '_abc_negative_cache', '_abc_negative_cache_version', '_abc_registry', '_check_initialized', '_check_params', '_clear_state', '_estimator_type', '_fit_stage', '_fit_stages', '_get_param_names', '_get_tags', '_init_state', '_is_initialized', '_make_estimator', '_raw_predict', '_raw_predict_init', '_required_parameters', '_resize_state', '_rng', '_staged_raw_predict', '_validate_estimator', '_validate_y', 'alpha', 'apply', 'criterion', 'estimators_', 'feature_importances_', 'fit', 'get_params', 'init', 'init_', 'learning_rate', 'loss', 'loss_', 'max_depth', 'max_features', 'max_features_', 'max_leaf_nodes', 'min_impurity_decrease', 'min_impurity_split', 'min_samples_leaf', 'min_samples_split', 'min_weight_fraction_leaf', 'n_classes_', 'n_estimators', 'n_estimators_', 'n_features_', 'n_iter_no_change', 'predict', 'presort', 'random_state', 'score', 'set_params', 'staged_predict', 'subsample', 'tol', 'train_score_', 'validation_fraction', 'verbose', 'warm_start']\n"
     ]
    },
    {
     "ename": "TypeError",
     "evalue": "__call__() missing 2 required positional arguments: 'y' and 'raw_predictions'",
     "output_type": "error",
     "traceback": [
      "\u001b[0;31m---------------------------------------------------------------------------\u001b[0m",
      "\u001b[0;31mTypeError\u001b[0m                                 Traceback (most recent call last)",
      "\u001b[0;32m<ipython-input-97-7d22b5bcc7d5>\u001b[0m in \u001b[0;36m<module>\u001b[0;34m\u001b[0m\n\u001b[1;32m      1\u001b[0m \u001b[0mparams\u001b[0m \u001b[0;34m=\u001b[0m \u001b[0mclf\u001b[0m\u001b[0;34m.\u001b[0m\u001b[0mget_params\u001b[0m\u001b[0;34m(\u001b[0m\u001b[0;34m)\u001b[0m\u001b[0;34m\u001b[0m\u001b[0m\n\u001b[1;32m      2\u001b[0m \u001b[0mprint\u001b[0m\u001b[0;34m(\u001b[0m\u001b[0mdir\u001b[0m\u001b[0;34m(\u001b[0m\u001b[0mclf\u001b[0m\u001b[0;34m)\u001b[0m\u001b[0;34m)\u001b[0m\u001b[0;34m\u001b[0m\u001b[0m\n\u001b[0;32m----> 3\u001b[0;31m \u001b[0mprint\u001b[0m\u001b[0;34m(\u001b[0m\u001b[0mclf\u001b[0m\u001b[0;34m.\u001b[0m\u001b[0mloss_\u001b[0m\u001b[0;34m(\u001b[0m\u001b[0;34m)\u001b[0m\u001b[0;34m)\u001b[0m\u001b[0;34m\u001b[0m\u001b[0m\n\u001b[0m",
      "\u001b[0;31mTypeError\u001b[0m: __call__() missing 2 required positional arguments: 'y' and 'raw_predictions'"
     ]
    }
   ],
   "source": [
    "params = clf.get_params()\n",
    "print(dir(clf))\n",
    "print(clf.loss_())"
   ]
  },
  {
   "cell_type": "code",
   "execution_count": 91,
   "metadata": {},
   "outputs": [
    {
     "name": "stdout",
     "output_type": "stream",
     "text": [
      "(2150000.0, 1131671.2507917702, 1018328.7492082298)\n",
      "(2850000.0, 1746700.7244163202, 1103299.2755836798)\n",
      "(2110000.0, 1062502.561884071, 1047497.438115929)\n"
     ]
    }
   ],
   "source": [
    "pred2 = clf.predict(train1)\n",
    "#[x for x in pred2]\n",
    "p_pred_hist2, p_pred_scatter2 = make_pred_graphs(housing_data['price'], [x for x in pred2])\n"
   ]
  },
  {
   "cell_type": "code",
   "execution_count": 85,
   "metadata": {},
   "outputs": [],
   "source": [
    "#all graphs\n",
    "grid = gridplot([p_housing_hist,\n",
    "    p_floors_price, p_pred_hist,\n",
    "    p_pred_scatter, p_pred_hist2, \n",
    "                 p_pred_scatter2,\n",
    "    ],\n",
    "    ncols = 2)\n",
    "show(grid)"
   ]
  },
  {
   "cell_type": "code",
   "execution_count": null,
   "metadata": {},
   "outputs": [],
   "source": []
  }
 ],
 "metadata": {
  "kernelspec": {
   "display_name": "Python 3",
   "language": "python",
   "name": "python3"
  },
  "language_info": {
   "codemirror_mode": {
    "name": "ipython",
    "version": 3
   },
   "file_extension": ".py",
   "mimetype": "text/x-python",
   "name": "python",
   "nbconvert_exporter": "python",
   "pygments_lexer": "ipython3",
   "version": "3.6.5"
  }
 },
 "nbformat": 4,
 "nbformat_minor": 2
}
