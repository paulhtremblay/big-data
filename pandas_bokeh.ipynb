{
 "cells": [
  {
   "cell_type": "code",
   "execution_count": null,
   "metadata": {},
   "outputs": [],
   "source": [
    "import csv\n",
    "import pandas\n",
    "from bokeh.plotting import figure, output_file, show\n",
    "from bokeh.models import ColumnDataSource"
   ]
  },
  {
   "cell_type": "code",
   "execution_count": null,
   "metadata": {},
   "outputs": [],
   "source": [
    "def get_data():\n",
    "    url = \"https://raw.githubusercontent.com/jbrownlee/Datasets/master/iris.csv\"\n",
    "    names = ['sepal-length', 'sepal-width', 'petal-length', 'petal-width', 'class']\n",
    "    return pandas.read_csv(url, names=names)\n",
    "df = get_data()\n"
   ]
  },
  {
   "cell_type": "code",
   "execution_count": null,
   "metadata": {},
   "outputs": [],
   "source": [
    "def explore_data():\n",
    "    print(df.shape)\n",
    "    print(df.head(20))\n",
    "    print(df.describe())\n",
    "    print(df.groupby('class').size())\n",
    "    #dataset.plot(kind='box', subplots=True, layout=(2,2), sharex=False, sharey=False)\n",
    "explore_data()"
   ]
  },
  {
   "cell_type": "code",
   "execution_count": null,
   "metadata": {},
   "outputs": [],
   "source": [
    "def make_graph1():\n",
    "    sample = df.sample(50)\n",
    "    source = ColumnDataSource(sample)\n",
    "    p = figure()\n",
    "    p.circle(x='sepal-length', y='sepal-width',\n",
    "         source=source,\n",
    "         size=10, color='green')\n",
    "    return p\n",
    "p = make_graph1()\n",
    "show(p)"
   ]
  },
  {
   "cell_type": "code",
   "execution_count": null,
   "metadata": {},
   "outputs": [],
   "source": []
  }
 ],
 "metadata": {
  "kernelspec": {
   "display_name": "Python 3",
   "language": "python",
   "name": "python3"
  },
  "language_info": {
   "codemirror_mode": {
    "name": "ipython",
    "version": 3
   },
   "file_extension": ".py",
   "mimetype": "text/x-python",
   "name": "python",
   "nbconvert_exporter": "python",
   "pygments_lexer": "ipython3",
   "version": "3.6.5"
  }
 },
 "nbformat": 4,
 "nbformat_minor": 2
}
