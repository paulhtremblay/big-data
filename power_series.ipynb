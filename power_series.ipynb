{
 "cells": [
  {
   "cell_type": "code",
   "execution_count": 44,
   "metadata": {},
   "outputs": [],
   "source": [
    "# estimate sample size via power analysis\n",
    "from statsmodels.stats.power import TTestIndPower\n",
    "import math\n",
    "import numpy as np\n",
    "from bokeh.io import show\n",
    "from bokeh.plotting import figure\n",
    "from bokeh.layouts import gridplot\n"
   ]
  },
  {
   "cell_type": "code",
   "execution_count": null,
   "metadata": {},
   "outputs": [],
   "source": [
    "\"\"\"effect is standardized effect size, \n",
    "difference between the two means divided by the standard deviation. \n",
    "effect_size has to be positive.\n",
    "\"\"\""
   ]
  },
  {
   "cell_type": "code",
   "execution_count": 5,
   "metadata": {},
   "outputs": [
    {
     "name": "stdout",
     "output_type": "stream",
     "text": [
      "Sample Size: 17.331\n"
     ]
    }
   ],
   "source": [
    "effect = 0.8\n",
    "alpha = 0.05\n",
    "power = 0.9\n",
    "# perform power analysis\n",
    "analysis = TTestIndPower()\n",
    "result = analysis.solve_power(effect, nobs1=None, ratio=20.0, alpha=alpha)\n",
    "print('Sample Size: %.3f' % result)"
   ]
  },
  {
   "cell_type": "code",
   "execution_count": 42,
   "metadata": {},
   "outputs": [],
   "source": [
    "\"\"\"page 321 or stats, #17\"\"\"\n",
    "n=16\n",
    "sample_sizes = np.array(range(5, 100))\n",
    "sigma = 1500\n",
    "mu = 30000\n",
    "alt_mu = 31000\n",
    "std = sigma\n",
    "effect = (alt_mu - mu)/std\n",
    "alpha = .01\n",
    "analysis = TTestIndPower()\n",
    "alternative = 'larger'\n",
    "result = analysis.solve_power(effect_size=effect, nobs1=sample_sizes, ratio=1.0, alpha=alpha, alternative=alternative)\n",
    "beta = 1 - result"
   ]
  },
  {
   "cell_type": "code",
   "execution_count": 46,
   "metadata": {},
   "outputs": [],
   "source": [
    "p = figure(title = \"power series\")\n",
    "p.line(sample_sizes, beta)\n",
    "show(p)"
   ]
  }
 ],
 "metadata": {
  "kernelspec": {
   "display_name": "Python 3",
   "language": "python",
   "name": "python3"
  },
  "language_info": {
   "codemirror_mode": {
    "name": "ipython",
    "version": 3
   },
   "file_extension": ".py",
   "mimetype": "text/x-python",
   "name": "python",
   "nbconvert_exporter": "python",
   "pygments_lexer": "ipython3",
   "version": "3.5.2"
  }
 },
 "nbformat": 4,
 "nbformat_minor": 2
}
