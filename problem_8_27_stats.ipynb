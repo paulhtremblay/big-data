{
 "cells": [
  {
   "cell_type": "code",
   "execution_count": 27,
   "metadata": {},
   "outputs": [],
   "source": [
    "from scipy import stats\n",
    "import numpy as np\n",
    "import math"
   ]
  },
  {
   "cell_type": "code",
   "execution_count": 28,
   "metadata": {},
   "outputs": [],
   "source": [
    "from bokeh.io import show\n",
    "from bokeh.plotting import figure\n",
    "from  big_data_tools.bokeh_tools.bar import bar\n",
    "from  big_data_tools.bokeh_tools.histogram import hist\n",
    "from  big_data_tools.bokeh_tools.box_plot import box_plot\n",
    "from  big_data_tools.bokeh_tools.prob_plot import prob_plot\n",
    "from bokeh.layouts import gridplot\n",
    "from bokeh.models import NumeralTickFormatter\n"
   ]
  },
  {
   "cell_type": "code",
   "execution_count": 29,
   "metadata": {},
   "outputs": [],
   "source": [
    "data = [1.38, .44, 1.09, .75, .66, 1.28, .51,\n",
    "       .39, .70, .46, .54, .83, .58, .64,\n",
    "       1.3, .57, .43, .62, 1.0, 1.05, .82, \n",
    "       1.1, .65, .99, .56, .56, .64, .45,\n",
    "       .82, 1.06, .41, .58, .66, .54, .83, \n",
    "        .59, .51, 1.04, .85, .45, .52, .58,\n",
    "        1.11, .34, 1.25, .38, 1.44, 1.28, .51\n",
    "       ]"
   ]
  },
  {
   "cell_type": "code",
   "execution_count": 30,
   "metadata": {},
   "outputs": [],
   "source": [
    "p_box = box_plot(cats= ['a'], data = [data])\n",
    "p_qq_normal = prob_plot(data, 'norm')\n",
    "grid = gridplot([p_box,  p_qq_normal,],\n",
    "     ncols = 2,)\n",
    "show(grid)\n",
    "\n"
   ]
  },
  {
   "cell_type": "code",
   "execution_count": 31,
   "metadata": {},
   "outputs": [
    {
     "data": {
      "text/plain": [
       "DescribeResult(nobs=49, minmax=(0.34, 1.44), mean=0.7497959183673469, variance=0.09148537414965985, skewness=0.7211947291456807, kurtosis=-0.6667114521324997)"
      ]
     },
     "execution_count": 31,
     "metadata": {},
     "output_type": "execute_result"
    }
   ],
   "source": [
    "stats.describe(data)"
   ]
  },
  {
   "cell_type": "code",
   "execution_count": 32,
   "metadata": {},
   "outputs": [
    {
     "name": "stdout",
     "output_type": "stream",
     "text": [
      "-5.850513923009232 0.29936320030629343\n"
     ]
    }
   ],
   "source": [
    "needed_z = stats.norm.ppf(.05)\n",
    "std = math.sqrt(np.var(data))\n",
    "std_sample = std/math.sqrt(49)\n",
    "z_score = (np.mean(data)- 1)/std_sample\n",
    "print(z_score, std)"
   ]
  },
  {
   "cell_type": "code",
   "execution_count": 33,
   "metadata": {},
   "outputs": [
    {
     "name": "stdout",
     "output_type": "stream",
     "text": [
      "0.8201400106244336\n"
     ]
    }
   ],
   "source": [
    "upper = np.mean(data) + needed_z * -1 * std_sample\n",
    "print(upper)"
   ]
  }
 ],
 "metadata": {
  "kernelspec": {
   "display_name": "Python 3",
   "language": "python",
   "name": "python3"
  },
  "language_info": {
   "codemirror_mode": {
    "name": "ipython",
    "version": 3
   },
   "file_extension": ".py",
   "mimetype": "text/x-python",
   "name": "python",
   "nbconvert_exporter": "python",
   "pygments_lexer": "ipython3",
   "version": "3.5.2"
  }
 },
 "nbformat": 4,
 "nbformat_minor": 2
}
