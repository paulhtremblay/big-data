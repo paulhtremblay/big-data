{
 "cells": [
  {
   "cell_type": "code",
   "execution_count": 40,
   "metadata": {},
   "outputs": [],
   "source": [
    "import numpy as np\n",
    "from scipy.stats import t as t_stat_func\n",
    "import math\n",
    "from  scipy.stats import ttest_ind, ttest_ind_from_stats\n",
    "from  big_data_tools.bokeh_tools.box_plot import box_plot\n",
    "from bokeh.io import show"
   ]
  },
  {
   "cell_type": "code",
   "execution_count": 35,
   "metadata": {},
   "outputs": [],
   "source": [
    "def get_dof_samples(a,b):\n",
    "    return get_dof(a.var(ddof=1), b.var(ddof=1), a.size, b.size)"
   ]
  },
  {
   "cell_type": "code",
   "execution_count": 33,
   "metadata": {},
   "outputs": [],
   "source": [
    "def get_dof( s1, s2, n, m):\n",
    "    return math.floor((s1/m + s2/n)**2 / (s1**2/(n**2*(n-1)) + s2**2/(n**2*(n-1))))"
   ]
  },
  {
   "cell_type": "code",
   "execution_count": 47,
   "metadata": {},
   "outputs": [],
   "source": [
    "def get_ci(s1, s2, m, n, confidence_interval):\n",
    "    assert confidence_interval > 0 and confidence_interval < 1\n",
    "    dof_25 = get_dof(s1=s1, s2 = s2, m =m, n=n)\n",
    "    #t_value\n",
    "    t_value = t_stat_func.cdf((1-confidence_interval)/2, df = dof_25)\n",
    "    end1 = x_bar - y_bar - t_value * math.sqrt(s1**2/m + s2**2/n)\n",
    "    end2 = x_bar - y_bar + t_value * math.sqrt(s1**2/m + s2**2/n)\n",
    "    return end1, end2"
   ]
  },
  {
   "cell_type": "code",
   "execution_count": 18,
   "metadata": {},
   "outputs": [
    {
     "name": "stdout",
     "output_type": "stream",
     "text": [
      "0.013119697835676262\n"
     ]
    }
   ],
   "source": [
    "#21\n",
    "m = 8\n",
    "x_bar = 1.71\n",
    "s1 = .53\n",
    "n = 10\n",
    "y_bar = 2.53\n",
    "s2 = .87\n",
    "t_stat_21, p_val_21 = ttest_ind_from_stats(x_bar, s1, m, y_bar, s2, n, equal_var=False)\n",
    "# one sided\n",
    "print(p_val_21/2)"
   ]
  },
  {
   "cell_type": "code",
   "execution_count": 20,
   "metadata": {},
   "outputs": [],
   "source": [
    "#23\n",
    "data_23_h = [1.2, .9, .7, 1.0, 1.7, 1.7, 1.1, .9, 1.7,\n",
    "           1.9, 1,3, 2.1, 1.6, 1.8, 1.4, 1.3, 1.9, 1.6, \n",
    "           .8, 2.0, 1.7, 1.6, 2.3, 2.0\n",
    "    \n",
    "]\n",
    "data_23_p = [1.6, 1.5, 1.1, 2.1, 1.5, 1.3, 1.0, 2.6\n",
    "    \n",
    "]"
   ]
  },
  {
   "cell_type": "code",
   "execution_count": 22,
   "metadata": {},
   "outputs": [],
   "source": [
    " p_23 = box_plot(['h', 'p'], [data_23_h, data_23_p])\n"
   ]
  },
  {
   "cell_type": "code",
   "execution_count": 24,
   "metadata": {},
   "outputs": [],
   "source": [
    "show(p_23)"
   ]
  },
  {
   "cell_type": "code",
   "execution_count": 27,
   "metadata": {},
   "outputs": [
    {
     "name": "stdout",
     "output_type": "stream",
     "text": [
      "0.8865234294979571\n"
     ]
    }
   ],
   "source": [
    "t_23, p_23 = ttest_ind(data_23_h, data_23_p, equal_var=False)\n",
    "print(p_23)"
   ]
  },
  {
   "cell_type": "code",
   "execution_count": 57,
   "metadata": {},
   "outputs": [
    {
     "name": "stdout",
     "output_type": "stream",
     "text": [
      "p values is 0.078\n",
      "CI of difference with 95% is (2.3, 4.1)\n"
     ]
    }
   ],
   "source": [
    "#25\n",
    "def prob_25():\n",
    "    x_bar = 91.5\n",
    "    y_bar = 88.3\n",
    "    s1 = 5.5\n",
    "    s2 = 7.8\n",
    "    n = 28\n",
    "    m = 31\n",
    "    t_stat, p_val = ttest_ind_from_stats(x_bar, s1, m, y_bar, s2, n, equal_var=False)\n",
    "    print('p values is {p}'.format(p = round(p_val,3)))\n",
    "    # do confidence interval\n",
    "    end1, end2 = get_ci(s1, s2, m, n, .95)\n",
    "    print('CI of difference with 95% is ({end1}, {end2})'.format(end1 =round(end1,2), end2=round(end2,2)))\n",
    "prob_25()"
   ]
  },
  {
   "cell_type": "code",
   "execution_count": null,
   "metadata": {},
   "outputs": [],
   "source": []
  }
 ],
 "metadata": {
  "kernelspec": {
   "display_name": "Python 3",
   "language": "python",
   "name": "python3"
  },
  "language_info": {
   "codemirror_mode": {
    "name": "ipython",
    "version": 3
   },
   "file_extension": ".py",
   "mimetype": "text/x-python",
   "name": "python",
   "nbconvert_exporter": "python",
   "pygments_lexer": "ipython3",
   "version": "3.5.2"
  }
 },
 "nbformat": 4,
 "nbformat_minor": 2
}
