{
 "cells": [
  {
   "cell_type": "code",
   "execution_count": 29,
   "metadata": {},
   "outputs": [],
   "source": [
    "from scipy.stats import ttest_rel\n",
    "import numpy as np\n",
    "from  big_data_tools.bokeh_tools.prob_plot import prob_plot\n",
    "from bokeh.io import show\n",
    "import math\n",
    "from scipy.stats import t\n"
   ]
  },
  {
   "cell_type": "code",
   "execution_count": 58,
   "metadata": {},
   "outputs": [],
   "source": [
    "#CI\n",
    "def ci(d, confidence_interval):\n",
    "    sd = math.sqrt(np.var(d))\n",
    "    mean = np.mean(d)\n",
    "    mean_e = sd/math.sqrt(len(d))\n",
    "    t_score = abs(t.ppf((1- confidence_interval)/2, len(d) -1))\n",
    "    lower = mean - t_score * mean_e\n",
    "    upper = mean + t_score * mean_e\n",
    "    return (lower, upper)\n"
   ]
  },
  {
   "cell_type": "code",
   "execution_count": 55,
   "metadata": {},
   "outputs": [
    {
     "name": "stdout",
     "output_type": "stream",
     "text": [
      "Ttest_relResult(statistic=-3.0, pvalue=0.05766888562243731)\n"
     ]
    }
   ],
   "source": [
    "data1 = [1, 2, 3, 4]\n",
    "data2 = [2, 3, 4, 4]\n",
    "result = ttest_rel(data1, data2)\n",
    "print(result)"
   ]
  },
  {
   "cell_type": "code",
   "execution_count": 15,
   "metadata": {},
   "outputs": [
    {
     "name": "stdout",
     "output_type": "stream",
     "text": [
      "[  11  164  225   -9  169  442 -312   69  137  157  -54  350  452  540]\n",
      "Ttest_relResult(statistic=2.7415814446290696, pvalue=0.01680596867871186)\n"
     ]
    }
   ],
   "source": [
    "def problem_39():\n",
    "    data1=[1509, 1418, 1561, 1556, 2169, 1760, 1098, 1198, 1479, 1281, 1414, 1954, 2174, 2058, ]\n",
    "    data2 = [1498, 1254, 1336, 1565, 2000, 1318, 1410, 1129, 1342, 1124, 1468, 1604, 1722, 1518]\n",
    "    data3 =  np.array(data1) - np.array(data2)\n",
    "    print(data3)\n",
    "    p = prob_plot(data3, 'norm')\n",
    "    show(p)\n",
    "    result = ttest_rel(data1, data2)\n",
    "    print(result)\n",
    "problem_39()\n",
    "# p value is .0168 so reject the null hypothesis"
   ]
  },
  {
   "cell_type": "code",
   "execution_count": 59,
   "metadata": {},
   "outputs": [
    {
     "name": "stdout",
     "output_type": "stream",
     "text": [
      "(-0.5589892238086903, -0.2888895640700976)\n"
     ]
    }
   ],
   "source": [
    "def problem_37():\n",
    "    data1 = [.07, .08, .09, .12, .12, .12, .13, .14, .15, \n",
    "             .15, .17, .17, .18, .18, .18, .18, .19, \n",
    "             .2, .22, .22, .23, .23, .25, .26, .28, \n",
    "             .28, .29, .34, .39, .4, .45, .54, .62]\n",
    "    data2 = [.29, .68, .47, .54, .97, .35, .49, .84, .86, \n",
    "             .28, .32, .32, 1.55, .66, .29, .21, 1.02,\n",
    "             1.59, .9, .52, .12, .54, .88, .49, 1.24, \n",
    "             .48, .27, .37, 1.26, .7, .76, .99, .36]\n",
    "    data3 = np.array(data1) - np.array(data2)\n",
    "    p = prob_plot(data3, 'norm')\n",
    "    #show(p)\n",
    "    print(ci(data3, .95))\n",
    "problem_37()"
   ]
  },
  {
   "cell_type": "code",
   "execution_count": null,
   "metadata": {},
   "outputs": [],
   "source": []
  }
 ],
 "metadata": {
  "kernelspec": {
   "display_name": "Python 3",
   "language": "python",
   "name": "python3"
  },
  "language_info": {
   "codemirror_mode": {
    "name": "ipython",
    "version": 3
   },
   "file_extension": ".py",
   "mimetype": "text/x-python",
   "name": "python",
   "nbconvert_exporter": "python",
   "pygments_lexer": "ipython3",
   "version": "3.5.2"
  }
 },
 "nbformat": 4,
 "nbformat_minor": 2
}
