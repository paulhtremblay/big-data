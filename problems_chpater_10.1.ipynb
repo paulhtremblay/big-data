{
 "cells": [
  {
   "cell_type": "code",
   "execution_count": 40,
   "metadata": {},
   "outputs": [],
   "source": [
    "from scipy import stats\n",
    "import pandas as pd\n",
    "from bokeh.plotting import figure\n",
    "from  big_data_tools.bokeh_tools.box_plot import box_plot\n",
    "from bokeh.layouts import gridplot\n",
    "from bokeh.io import show\n",
    "import copy"
   ]
  },
  {
   "cell_type": "code",
   "execution_count": 5,
   "metadata": {},
   "outputs": [],
   "source": [
    "data = [1, 2, 3, 4]\n",
    "df1 = pd.DataFrame(data, columns = ['x'])"
   ]
  },
  {
   "cell_type": "code",
   "execution_count": 34,
   "metadata": {},
   "outputs": [],
   "source": [
    "data = [[655.5, 788.3, 734.3, 721.4, 679.1, 699.4],\n",
    "       [789.2, 772.5, 786.9, 686.1, 732.1, 774.8],\n",
    "        [737.1, 639.0, 696.3, 671.7, 717.2, 727.2],\n",
    "        [535.1, 628.7, 542.4, 559.0, 586.9, 520.0]\n",
    "        ]\n",
    "df1 = pd.DataFrame(data, index=['t1', 't2', 't3' , 't4'])"
   ]
  },
  {
   "cell_type": "code",
   "execution_count": 37,
   "metadata": {},
   "outputs": [],
   "source": [
    "F, p = stats.f_oneway(df1.loc['t1'], df1.loc['t2'], df1.loc['t3'], df1.loc['t4'])"
   ]
  },
  {
   "cell_type": "code",
   "execution_count": 38,
   "metadata": {},
   "outputs": [
    {
     "name": "stdout",
     "output_type": "stream",
     "text": [
      "25.090591163038347 5.53181171462144e-07\n",
      "3372.1000000000004\n"
     ]
    }
   ],
   "source": [
    "print(F, p)\n",
    "print(sum(df1.loc['t4']))"
   ]
  },
  {
   "cell_type": "code",
   "execution_count": 39,
   "metadata": {},
   "outputs": [],
   "source": [
    "p_box = box_plot(list(df1.index), [df1.loc['t1'], df1.loc['t2'], df1.loc['t3'], df1.loc['t4']])\n",
    "grid = gridplot([p_box], ncols = 2)\n",
    "show(grid)\n",
    "                 "
   ]
  },
  {
   "cell_type": "code",
   "execution_count": 41,
   "metadata": {},
   "outputs": [],
   "source": [
    "df2 = copy.deepcopy(df1)"
   ]
  },
  {
   "cell_type": "code",
   "execution_count": 44,
   "metadata": {},
   "outputs": [],
   "source": [
    "df2.loc['t4'] += 20"
   ]
  },
  {
   "cell_type": "code",
   "execution_count": 47,
   "metadata": {},
   "outputs": [
    {
     "name": "stdout",
     "output_type": "stream",
     "text": [
      "19.74895167682299 3.4045796031903476e-06\n"
     ]
    }
   ],
   "source": [
    "F, p = stats.f_oneway(df2.loc['t1'], df2.loc['t2'], df2.loc['t3'], df2.loc['t4'])\n",
    "print(F,p)"
   ]
  },
  {
   "cell_type": "code",
   "execution_count": null,
   "metadata": {},
   "outputs": [],
   "source": []
  }
 ],
 "metadata": {
  "kernelspec": {
   "display_name": "Python 3",
   "language": "python",
   "name": "python3"
  },
  "language_info": {
   "codemirror_mode": {
    "name": "ipython",
    "version": 3
   },
   "file_extension": ".py",
   "mimetype": "text/x-python",
   "name": "python",
   "nbconvert_exporter": "python",
   "pygments_lexer": "ipython3",
   "version": "3.5.2"
  }
 },
 "nbformat": 4,
 "nbformat_minor": 2
}
