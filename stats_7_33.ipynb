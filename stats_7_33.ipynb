{
 "cells": [
  {
   "cell_type": "code",
   "execution_count": 24,
   "metadata": {},
   "outputs": [],
   "source": [
    "import math\n",
    "import numpy as np\n",
    "from bokeh.plotting  import figure, show\n",
    "from bokeh.layouts import gridplot\n",
    "from  big_data_tools.bokeh_tools.histogram import hist\n",
    "from  big_data_tools.bokeh_tools.box_plot import box_plot\n",
    "from  big_data_tools.bokeh_tools.prob_plot import prob_plot\n",
    "from scipy import stats\n"
   ]
  },
  {
   "cell_type": "code",
   "execution_count": 3,
   "metadata": {},
   "outputs": [],
   "source": [
    "data = [418, 421, 421, 422, 425, 427, 431, \n",
    "        434, 437, 439, 446, 447, 448, 453, \n",
    "        454, 463, 465\n",
    "    \n",
    "]"
   ]
  },
  {
   "cell_type": "code",
   "execution_count": 6,
   "metadata": {},
   "outputs": [],
   "source": [
    "p_his = hist(data)\n",
    "p_box = box_plot(cats = ['d'], data = [data])\n",
    "p_prob = prob_plot(data, 'norm')"
   ]
  },
  {
   "cell_type": "code",
   "execution_count": 8,
   "metadata": {},
   "outputs": [],
   "source": [
    "grid = gridplot([p_his, p_box,\n",
    "      p_prob\n",
    "      ],\n",
    "      ncols = 2, height=500, width = 500)\n",
    "show(grid)\n"
   ]
  },
  {
   "cell_type": "code",
   "execution_count": 23,
   "metadata": {},
   "outputs": [
    {
     "data": {
      "text/plain": [
       "2.583487185267472"
      ]
     },
     "execution_count": 23,
     "metadata": {},
     "output_type": "execute_result"
    }
   ],
   "source": [
    "stats.t.isf(q = .5, df = len(data) - 1)\n",
    "stats.t.ppf(q = .99, df=len(data) -1)"
   ]
  },
  {
   "cell_type": "code",
   "execution_count": 39,
   "metadata": {},
   "outputs": [],
   "source": [
    "def conf_int(x_bar, s, n, percent, verbose = False):\n",
    "    assert percent >0 and percent <=1, 'percent must be between 0 and 1'\n",
    "    alpha = (1-percent)/2\n",
    "    t_score = stats.t.ppf(q=alpha, df = n-1 ) * -1\n",
    "    if verbose:\n",
    "        print('t score is {t_score}'.format(t_score = t_score))\n",
    "    the_range = (t_score * s)/math.sqrt(n)\n",
    "    lower = x_bar - the_range\n",
    "    upper = x_bar + the_range\n",
    "    return (lower, upper)"
   ]
  },
  {
   "cell_type": "code",
   "execution_count": 40,
   "metadata": {},
   "outputs": [
    {
     "name": "stdout",
     "output_type": "stream",
     "text": [
      "t score is 2.1199052992210112\n",
      "(430.7401916552298, 445.8480436388879)\n"
     ]
    }
   ],
   "source": [
    "conf = conf_int(x_bar = np.mean(data), s = math.sqrt(np.var(data)), n = len(data),\n",
    "                percent = .95, verbose = True)\n",
    "print(conf)\n"
   ]
  },
  {
   "cell_type": "code",
   "execution_count": 36,
   "metadata": {},
   "outputs": [
    {
     "name": "stdout",
     "output_type": "stream",
     "text": [
      "(-2.1199052992210112, 2.1199052992210112)\n"
     ]
    }
   ],
   "source": [
    "inter = stats.t.interval(alpha = .95, df = len(data) - 1)\n",
    "print(inter)"
   ]
  },
  {
   "cell_type": "code",
   "execution_count": 51,
   "metadata": {},
   "outputs": [
    {
     "name": "stdout",
     "output_type": "stream",
     "text": [
      "(1.7247182429207857, 1.7247182429207857)\n"
     ]
    }
   ],
   "source": [
    "def get_t_score(alpha, df):\n",
    "    t1 = stats.t.ppf(q = (1 -alpha), df=df) * -1\n",
    "    t2 = stats.t.interval(alpha = 1 - (1-alpha) * 2, df=df)[1]\n",
    "    return t1, t2\n",
    "print(get_t_score(.95, 20))"
   ]
  },
  {
   "cell_type": "code",
   "execution_count": null,
   "metadata": {},
   "outputs": [],
   "source": []
  }
 ],
 "metadata": {
  "kernelspec": {
   "display_name": "Python 3",
   "language": "python",
   "name": "python3"
  },
  "language_info": {
   "codemirror_mode": {
    "name": "ipython",
    "version": 3
   },
   "file_extension": ".py",
   "mimetype": "text/x-python",
   "name": "python",
   "nbconvert_exporter": "python",
   "pygments_lexer": "ipython3",
   "version": "3.5.2"
  }
 },
 "nbformat": 4,
 "nbformat_minor": 2
}
