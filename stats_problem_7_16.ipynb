{
 "cells": [
  {
   "cell_type": "code",
   "execution_count": 1,
   "metadata": {},
   "outputs": [],
   "source": [
    "import numpy as np\n",
    "from bokeh.plotting  import figure, show\n",
    "from bokeh.layouts import gridplot\n",
    "from collections import OrderedDict\n",
    "from scipy.stats import probplot"
   ]
  },
  {
   "cell_type": "code",
   "execution_count": 2,
   "metadata": {},
   "outputs": [],
   "source": [
    "def get_quantiles(data):\n",
    "    # data is a list of lists\n",
    "    final = []\n",
    "    for i in data:\n",
    "        q1 = np.percentile(i, 25)\n",
    "        q2 = np.percentile(i, 50)\n",
    "        q3 = np.percentile(i, 75)\n",
    "        iqr = q3 - q1\n",
    "        final.append((q1 - 1.5*iqr, q3 + 1.5*iqr,q1, q2,  q3,  [x for x in i if x < q1 - (1.5 * iqr) or x >q3 + (1.5 * iqr)  ]))\n",
    "    return final\n",
    "\n",
    "\n",
    "def make_box_raw(p, cats, upper, lower, q1, q2, q3, out):\n",
    "    p.segment(cats, lower, cats, upper)\n",
    "    p.vbar(cats, 0.7, q1, q2, fill_color=\"#E08E79\", line_color=\"black\")\n",
    "    p.vbar(cats, 0.7, q2, q3, fill_color=\"#3B8686\", line_color=\"black\")\n",
    "    p.rect(cats, lower, 0.2, 0.01, line_color=\"black\")\n",
    "    p.rect(cats, upper, 0.2, 0.01, line_color=\"black\")\n",
    "    for k, v in out.items():\n",
    "        for point in v:\n",
    "            p.circle([k], [point], size=6, color=\"#F38630\", fill_alpha=0.6)\n",
    "    return p\n",
    "\n",
    "def zip_data(cats, data):\n",
    "    zip_data = list(zip(*data))\n",
    "    outs = OrderedDict()\n",
    "    for counter, i in enumerate(cats):\n",
    "        if len(zip_data[5][counter]) != 0:\n",
    "            outs[i] = zip_data[5][counter]\n",
    "    return zip_data, outs\n",
    "\n",
    "def box_plot(cats, data, p = None):\n",
    "    \"\"\"\n",
    "    cats: a list of labels\n",
    "    data: a list of lists\n",
    "    Example:\n",
    "    cats = ['a', 'b']\n",
    "    data = [[1, 2, 3], [4, 5, 6]]\n",
    "\n",
    "    Returns: p, the figure()\n",
    "    \"\"\"\n",
    "    assert len(cats) == len(data)\n",
    "    assert isinstance(cats, list)\n",
    "    assert isinstance(data, list)\n",
    "    if not p:\n",
    "        p = figure(tools=\"save\", background_fill_color=\"#EFE8E2\", x_range=cats)\n",
    "    f, outs = zip_data(cats, get_quantiles(data))\n",
    "    return make_box_raw(p, cats, f[0], f[1], f[2], f[3], f[4], outs)"
   ]
  },
  {
   "cell_type": "code",
   "execution_count": 3,
   "metadata": {},
   "outputs": [],
   "source": [
    " def make_qq_plot(nums):\n",
    "    series1 = probplot(nums, dist=\"norm\")\n",
    "    p = figure(title=\"Normal QQ-Plot\", background_fill_color=\"#E8DDCB\")\n",
    "    x = series1[0][0]\n",
    "    y = series1[0][1]\n",
    "    slope = series1[1][0]\n",
    "    intercept = series1[1][1]\n",
    "    y2 = [z * slope + intercept for z in x]\n",
    "    p.scatter(series1[0][0],series1[0][1], fill_color=\"red\")\n",
    "    p.line(x,y2, line_width =2)\n",
    "    return p\n"
   ]
  },
  {
   "cell_type": "code",
   "execution_count": 4,
   "metadata": {},
   "outputs": [],
   "source": [
    "data = [62, 50, 53, 57, 41, 53, 55, 61, 59, 64, 50, 53, 64, 62, 50, 68, \n",
    "       54, 55, 57, 50, 55, 50, 56, 55, 46, 55, 53, 54, 52, 47, 47, 55,\n",
    "       57, 48, 63, 57, 57, 55, 53, 59, 53, 52, 50, 55, 60, 50, 56, 58]"
   ]
  },
  {
   "cell_type": "code",
   "execution_count": 5,
   "metadata": {},
   "outputs": [
    {
     "data": {
      "text/html": [
       "<div style=\"display: table;\"><div style=\"display: table-row;\"><div style=\"display: table-cell;\"><b title=\"bokeh.models.renderers.GlyphRenderer\">GlyphRenderer</b>(</div><div style=\"display: table-cell;\">id&nbsp;=&nbsp;'1038', <span id=\"1041\" style=\"cursor: pointer;\">&hellip;)</span></div></div><div class=\"1040\" style=\"display: none;\"><div style=\"display: table-cell;\"></div><div style=\"display: table-cell;\">data_source&nbsp;=&nbsp;ColumnDataSource(id='1035', ...),</div></div><div class=\"1040\" style=\"display: none;\"><div style=\"display: table-cell;\"></div><div style=\"display: table-cell;\">glyph&nbsp;=&nbsp;Quad(id='1036', ...),</div></div><div class=\"1040\" style=\"display: none;\"><div style=\"display: table-cell;\"></div><div style=\"display: table-cell;\">hover_glyph&nbsp;=&nbsp;None,</div></div><div class=\"1040\" style=\"display: none;\"><div style=\"display: table-cell;\"></div><div style=\"display: table-cell;\">js_event_callbacks&nbsp;=&nbsp;{},</div></div><div class=\"1040\" style=\"display: none;\"><div style=\"display: table-cell;\"></div><div style=\"display: table-cell;\">js_property_callbacks&nbsp;=&nbsp;{},</div></div><div class=\"1040\" style=\"display: none;\"><div style=\"display: table-cell;\"></div><div style=\"display: table-cell;\">level&nbsp;=&nbsp;'glyph',</div></div><div class=\"1040\" style=\"display: none;\"><div style=\"display: table-cell;\"></div><div style=\"display: table-cell;\">muted&nbsp;=&nbsp;False,</div></div><div class=\"1040\" style=\"display: none;\"><div style=\"display: table-cell;\"></div><div style=\"display: table-cell;\">muted_glyph&nbsp;=&nbsp;None,</div></div><div class=\"1040\" style=\"display: none;\"><div style=\"display: table-cell;\"></div><div style=\"display: table-cell;\">name&nbsp;=&nbsp;None,</div></div><div class=\"1040\" style=\"display: none;\"><div style=\"display: table-cell;\"></div><div style=\"display: table-cell;\">nonselection_glyph&nbsp;=&nbsp;Quad(id='1037', ...),</div></div><div class=\"1040\" style=\"display: none;\"><div style=\"display: table-cell;\"></div><div style=\"display: table-cell;\">selection_glyph&nbsp;=&nbsp;None,</div></div><div class=\"1040\" style=\"display: none;\"><div style=\"display: table-cell;\"></div><div style=\"display: table-cell;\">subscribed_events&nbsp;=&nbsp;[],</div></div><div class=\"1040\" style=\"display: none;\"><div style=\"display: table-cell;\"></div><div style=\"display: table-cell;\">tags&nbsp;=&nbsp;[],</div></div><div class=\"1040\" style=\"display: none;\"><div style=\"display: table-cell;\"></div><div style=\"display: table-cell;\">view&nbsp;=&nbsp;CDSView(id='1039', ...),</div></div><div class=\"1040\" style=\"display: none;\"><div style=\"display: table-cell;\"></div><div style=\"display: table-cell;\">visible&nbsp;=&nbsp;True,</div></div><div class=\"1040\" style=\"display: none;\"><div style=\"display: table-cell;\"></div><div style=\"display: table-cell;\">x_range_name&nbsp;=&nbsp;'default',</div></div><div class=\"1040\" style=\"display: none;\"><div style=\"display: table-cell;\"></div><div style=\"display: table-cell;\">y_range_name&nbsp;=&nbsp;'default')</div></div></div>\n",
       "<script>\n",
       "(function() {\n",
       "  var expanded = false;\n",
       "  var ellipsis = document.getElementById(\"1041\");\n",
       "  ellipsis.addEventListener(\"click\", function() {\n",
       "    var rows = document.getElementsByClassName(\"1040\");\n",
       "    for (var i = 0; i < rows.length; i++) {\n",
       "      var el = rows[i];\n",
       "      el.style.display = expanded ? \"none\" : \"table-row\";\n",
       "    }\n",
       "    ellipsis.innerHTML = expanded ? \"&hellip;)\" : \"&lsaquo;&lsaquo;&lsaquo;\";\n",
       "    expanded = !expanded;\n",
       "  });\n",
       "})();\n",
       "</script>\n"
      ],
      "text/plain": [
       "GlyphRenderer(id='1038', ...)"
      ]
     },
     "execution_count": 5,
     "metadata": {},
     "output_type": "execute_result"
    }
   ],
   "source": [
    "hist, edges = np.histogram(data, density=True)\n",
    "p1 = figure()\n",
    "p1.quad(top = hist, bottom=0, left=edges[:-1], right=edges[1:], alpha = .4)                                                                                       "
   ]
  },
  {
   "cell_type": "code",
   "execution_count": 6,
   "metadata": {},
   "outputs": [],
   "source": [
    "cats = ['d']\n",
    "data_ = [data]\n",
    "p2 = box_plot(cats, data_)"
   ]
  },
  {
   "cell_type": "code",
   "execution_count": 7,
   "metadata": {},
   "outputs": [],
   "source": [
    "p3 = make_qq_plot(data)"
   ]
  },
  {
   "cell_type": "code",
   "execution_count": 8,
   "metadata": {},
   "outputs": [],
   "source": [
    "grid = gridplot([p1, p2, p3], ncols = 2,\n",
    "    )\n",
    "show(grid)"
   ]
  },
  {
   "cell_type": "code",
   "execution_count": null,
   "metadata": {},
   "outputs": [],
   "source": []
  }
 ],
 "metadata": {
  "kernelspec": {
   "display_name": "Python 3",
   "language": "python",
   "name": "python3"
  },
  "language_info": {
   "codemirror_mode": {
    "name": "ipython",
    "version": 3
   },
   "file_extension": ".py",
   "mimetype": "text/x-python",
   "name": "python",
   "nbconvert_exporter": "python",
   "pygments_lexer": "ipython3",
   "version": "3.5.2"
  }
 },
 "nbformat": 4,
 "nbformat_minor": 2
}
