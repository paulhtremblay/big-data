{
 "cells": [
  {
   "cell_type": "code",
   "execution_count": 1,
   "metadata": {},
   "outputs": [],
   "source": [
    "from bokeh.plotting import figure\n",
    "from bokeh.io import show\n",
    "from bokeh.io import output_notebook\n",
    "import statsmodels.api as sm\n",
    "import random\n",
    "from bokeh.layouts import gridplot"
   ]
  },
  {
   "cell_type": "code",
   "execution_count": 45,
   "metadata": {},
   "outputs": [],
   "source": [
    "import pandas as pd\n",
    "import numpy as np"
   ]
  },
  {
   "cell_type": "code",
   "execution_count": 2,
   "metadata": {},
   "outputs": [
    {
     "data": {
      "text/html": [
       "\n",
       "    <div class=\"bk-root\">\n",
       "        <a href=\"https://bokeh.org\" target=\"_blank\" class=\"bk-logo bk-logo-small bk-logo-notebook\"></a>\n",
       "        <span id=\"1001\">Loading BokehJS ...</span>\n",
       "    </div>"
      ]
     },
     "metadata": {},
     "output_type": "display_data"
    },
    {
     "data": {
      "application/javascript": [
       "\n",
       "(function(root) {\n",
       "  function now() {\n",
       "    return new Date();\n",
       "  }\n",
       "\n",
       "  var force = true;\n",
       "\n",
       "  if (typeof root._bokeh_onload_callbacks === \"undefined\" || force === true) {\n",
       "    root._bokeh_onload_callbacks = [];\n",
       "    root._bokeh_is_loading = undefined;\n",
       "  }\n",
       "\n",
       "  var JS_MIME_TYPE = 'application/javascript';\n",
       "  var HTML_MIME_TYPE = 'text/html';\n",
       "  var EXEC_MIME_TYPE = 'application/vnd.bokehjs_exec.v0+json';\n",
       "  var CLASS_NAME = 'output_bokeh rendered_html';\n",
       "\n",
       "  /**\n",
       "   * Render data to the DOM node\n",
       "   */\n",
       "  function render(props, node) {\n",
       "    var script = document.createElement(\"script\");\n",
       "    node.appendChild(script);\n",
       "  }\n",
       "\n",
       "  /**\n",
       "   * Handle when an output is cleared or removed\n",
       "   */\n",
       "  function handleClearOutput(event, handle) {\n",
       "    var cell = handle.cell;\n",
       "\n",
       "    var id = cell.output_area._bokeh_element_id;\n",
       "    var server_id = cell.output_area._bokeh_server_id;\n",
       "    // Clean up Bokeh references\n",
       "    if (id != null && id in Bokeh.index) {\n",
       "      Bokeh.index[id].model.document.clear();\n",
       "      delete Bokeh.index[id];\n",
       "    }\n",
       "\n",
       "    if (server_id !== undefined) {\n",
       "      // Clean up Bokeh references\n",
       "      var cmd = \"from bokeh.io.state import curstate; print(curstate().uuid_to_server['\" + server_id + \"'].get_sessions()[0].document.roots[0]._id)\";\n",
       "      cell.notebook.kernel.execute(cmd, {\n",
       "        iopub: {\n",
       "          output: function(msg) {\n",
       "            var id = msg.content.text.trim();\n",
       "            if (id in Bokeh.index) {\n",
       "              Bokeh.index[id].model.document.clear();\n",
       "              delete Bokeh.index[id];\n",
       "            }\n",
       "          }\n",
       "        }\n",
       "      });\n",
       "      // Destroy server and session\n",
       "      var cmd = \"import bokeh.io.notebook as ion; ion.destroy_server('\" + server_id + \"')\";\n",
       "      cell.notebook.kernel.execute(cmd);\n",
       "    }\n",
       "  }\n",
       "\n",
       "  /**\n",
       "   * Handle when a new output is added\n",
       "   */\n",
       "  function handleAddOutput(event, handle) {\n",
       "    var output_area = handle.output_area;\n",
       "    var output = handle.output;\n",
       "\n",
       "    // limit handleAddOutput to display_data with EXEC_MIME_TYPE content only\n",
       "    if ((output.output_type != \"display_data\") || (!output.data.hasOwnProperty(EXEC_MIME_TYPE))) {\n",
       "      return\n",
       "    }\n",
       "\n",
       "    var toinsert = output_area.element.find(\".\" + CLASS_NAME.split(' ')[0]);\n",
       "\n",
       "    if (output.metadata[EXEC_MIME_TYPE][\"id\"] !== undefined) {\n",
       "      toinsert[toinsert.length - 1].firstChild.textContent = output.data[JS_MIME_TYPE];\n",
       "      // store reference to embed id on output_area\n",
       "      output_area._bokeh_element_id = output.metadata[EXEC_MIME_TYPE][\"id\"];\n",
       "    }\n",
       "    if (output.metadata[EXEC_MIME_TYPE][\"server_id\"] !== undefined) {\n",
       "      var bk_div = document.createElement(\"div\");\n",
       "      bk_div.innerHTML = output.data[HTML_MIME_TYPE];\n",
       "      var script_attrs = bk_div.children[0].attributes;\n",
       "      for (var i = 0; i < script_attrs.length; i++) {\n",
       "        toinsert[toinsert.length - 1].firstChild.setAttribute(script_attrs[i].name, script_attrs[i].value);\n",
       "        toinsert[toinsert.length - 1].firstChild.textContent = bk_div.children[0].textContent\n",
       "      }\n",
       "      // store reference to server id on output_area\n",
       "      output_area._bokeh_server_id = output.metadata[EXEC_MIME_TYPE][\"server_id\"];\n",
       "    }\n",
       "  }\n",
       "\n",
       "  function register_renderer(events, OutputArea) {\n",
       "\n",
       "    function append_mime(data, metadata, element) {\n",
       "      // create a DOM node to render to\n",
       "      var toinsert = this.create_output_subarea(\n",
       "        metadata,\n",
       "        CLASS_NAME,\n",
       "        EXEC_MIME_TYPE\n",
       "      );\n",
       "      this.keyboard_manager.register_events(toinsert);\n",
       "      // Render to node\n",
       "      var props = {data: data, metadata: metadata[EXEC_MIME_TYPE]};\n",
       "      render(props, toinsert[toinsert.length - 1]);\n",
       "      element.append(toinsert);\n",
       "      return toinsert\n",
       "    }\n",
       "\n",
       "    /* Handle when an output is cleared or removed */\n",
       "    events.on('clear_output.CodeCell', handleClearOutput);\n",
       "    events.on('delete.Cell', handleClearOutput);\n",
       "\n",
       "    /* Handle when a new output is added */\n",
       "    events.on('output_added.OutputArea', handleAddOutput);\n",
       "\n",
       "    /**\n",
       "     * Register the mime type and append_mime function with output_area\n",
       "     */\n",
       "    OutputArea.prototype.register_mime_type(EXEC_MIME_TYPE, append_mime, {\n",
       "      /* Is output safe? */\n",
       "      safe: true,\n",
       "      /* Index of renderer in `output_area.display_order` */\n",
       "      index: 0\n",
       "    });\n",
       "  }\n",
       "\n",
       "  // register the mime type if in Jupyter Notebook environment and previously unregistered\n",
       "  if (root.Jupyter !== undefined) {\n",
       "    var events = require('base/js/events');\n",
       "    var OutputArea = require('notebook/js/outputarea').OutputArea;\n",
       "\n",
       "    if (OutputArea.prototype.mime_types().indexOf(EXEC_MIME_TYPE) == -1) {\n",
       "      register_renderer(events, OutputArea);\n",
       "    }\n",
       "  }\n",
       "\n",
       "  \n",
       "  if (typeof (root._bokeh_timeout) === \"undefined\" || force === true) {\n",
       "    root._bokeh_timeout = Date.now() + 5000;\n",
       "    root._bokeh_failed_load = false;\n",
       "  }\n",
       "\n",
       "  var NB_LOAD_WARNING = {'data': {'text/html':\n",
       "     \"<div style='background-color: #fdd'>\\n\"+\n",
       "     \"<p>\\n\"+\n",
       "     \"BokehJS does not appear to have successfully loaded. If loading BokehJS from CDN, this \\n\"+\n",
       "     \"may be due to a slow or bad network connection. Possible fixes:\\n\"+\n",
       "     \"</p>\\n\"+\n",
       "     \"<ul>\\n\"+\n",
       "     \"<li>re-rerun `output_notebook()` to attempt to load from CDN again, or</li>\\n\"+\n",
       "     \"<li>use INLINE resources instead, as so:</li>\\n\"+\n",
       "     \"</ul>\\n\"+\n",
       "     \"<code>\\n\"+\n",
       "     \"from bokeh.resources import INLINE\\n\"+\n",
       "     \"output_notebook(resources=INLINE)\\n\"+\n",
       "     \"</code>\\n\"+\n",
       "     \"</div>\"}};\n",
       "\n",
       "  function display_loaded() {\n",
       "    var el = document.getElementById(\"1001\");\n",
       "    if (el != null) {\n",
       "      el.textContent = \"BokehJS is loading...\";\n",
       "    }\n",
       "    if (root.Bokeh !== undefined) {\n",
       "      if (el != null) {\n",
       "        el.textContent = \"BokehJS \" + root.Bokeh.version + \" successfully loaded.\";\n",
       "      }\n",
       "    } else if (Date.now() < root._bokeh_timeout) {\n",
       "      setTimeout(display_loaded, 100)\n",
       "    }\n",
       "  }\n",
       "\n",
       "\n",
       "  function run_callbacks() {\n",
       "    try {\n",
       "      root._bokeh_onload_callbacks.forEach(function(callback) {\n",
       "        if (callback != null)\n",
       "          callback();\n",
       "      });\n",
       "    } finally {\n",
       "      delete root._bokeh_onload_callbacks\n",
       "    }\n",
       "    console.debug(\"Bokeh: all callbacks have finished\");\n",
       "  }\n",
       "\n",
       "  function load_libs(css_urls, js_urls, callback) {\n",
       "    if (css_urls == null) css_urls = [];\n",
       "    if (js_urls == null) js_urls = [];\n",
       "\n",
       "    root._bokeh_onload_callbacks.push(callback);\n",
       "    if (root._bokeh_is_loading > 0) {\n",
       "      console.debug(\"Bokeh: BokehJS is being loaded, scheduling callback at\", now());\n",
       "      return null;\n",
       "    }\n",
       "    if (js_urls == null || js_urls.length === 0) {\n",
       "      run_callbacks();\n",
       "      return null;\n",
       "    }\n",
       "    console.debug(\"Bokeh: BokehJS not loaded, scheduling load and callback at\", now());\n",
       "    root._bokeh_is_loading = css_urls.length + js_urls.length;\n",
       "\n",
       "    function on_load() {\n",
       "      root._bokeh_is_loading--;\n",
       "      if (root._bokeh_is_loading === 0) {\n",
       "        console.debug(\"Bokeh: all BokehJS libraries/stylesheets loaded\");\n",
       "        run_callbacks()\n",
       "      }\n",
       "    }\n",
       "\n",
       "    function on_error() {\n",
       "      console.error(\"failed to load \" + url);\n",
       "    }\n",
       "\n",
       "    for (var i = 0; i < css_urls.length; i++) {\n",
       "      var url = css_urls[i];\n",
       "      const element = document.createElement(\"link\");\n",
       "      element.onload = on_load;\n",
       "      element.onerror = on_error;\n",
       "      element.rel = \"stylesheet\";\n",
       "      element.type = \"text/css\";\n",
       "      element.href = url;\n",
       "      console.debug(\"Bokeh: injecting link tag for BokehJS stylesheet: \", url);\n",
       "      document.body.appendChild(element);\n",
       "    }\n",
       "\n",
       "    const hashes = {\"https://cdn.bokeh.org/bokeh/release/bokeh-2.2.1.min.js\": \"qkRvDQVAIfzsJo40iRBbxt6sttt0hv4lh74DG7OK4MCHv4C5oohXYoHUM5W11uqS\", \"https://cdn.bokeh.org/bokeh/release/bokeh-widgets-2.2.1.min.js\": \"Sb7Mr06a9TNlet/GEBeKaf5xH3eb6AlCzwjtU82wNPyDrnfoiVl26qnvlKjmcAd+\", \"https://cdn.bokeh.org/bokeh/release/bokeh-tables-2.2.1.min.js\": \"HaJ15vgfmcfRtB4c4YBOI4f1MUujukqInOWVqZJZZGK7Q+ivud0OKGSTn/Vm2iso\"};\n",
       "\n",
       "    for (var i = 0; i < js_urls.length; i++) {\n",
       "      var url = js_urls[i];\n",
       "      var element = document.createElement('script');\n",
       "      element.onload = on_load;\n",
       "      element.onerror = on_error;\n",
       "      element.async = false;\n",
       "      element.src = url;\n",
       "      if (url in hashes) {\n",
       "        element.crossOrigin = \"anonymous\";\n",
       "        element.integrity = \"sha384-\" + hashes[url];\n",
       "      }\n",
       "      console.debug(\"Bokeh: injecting script tag for BokehJS library: \", url);\n",
       "      document.head.appendChild(element);\n",
       "    }\n",
       "  };\n",
       "\n",
       "  function inject_raw_css(css) {\n",
       "    const element = document.createElement(\"style\");\n",
       "    element.appendChild(document.createTextNode(css));\n",
       "    document.body.appendChild(element);\n",
       "  }\n",
       "\n",
       "  \n",
       "  var js_urls = [\"https://cdn.bokeh.org/bokeh/release/bokeh-2.2.1.min.js\", \"https://cdn.bokeh.org/bokeh/release/bokeh-widgets-2.2.1.min.js\", \"https://cdn.bokeh.org/bokeh/release/bokeh-tables-2.2.1.min.js\"];\n",
       "  var css_urls = [];\n",
       "  \n",
       "\n",
       "  var inline_js = [\n",
       "    function(Bokeh) {\n",
       "      Bokeh.set_log_level(\"info\");\n",
       "    },\n",
       "    function(Bokeh) {\n",
       "    \n",
       "    \n",
       "    }\n",
       "  ];\n",
       "\n",
       "  function run_inline_js() {\n",
       "    \n",
       "    if (root.Bokeh !== undefined || force === true) {\n",
       "      \n",
       "    for (var i = 0; i < inline_js.length; i++) {\n",
       "      inline_js[i].call(root, root.Bokeh);\n",
       "    }\n",
       "    if (force === true) {\n",
       "        display_loaded();\n",
       "      }} else if (Date.now() < root._bokeh_timeout) {\n",
       "      setTimeout(run_inline_js, 100);\n",
       "    } else if (!root._bokeh_failed_load) {\n",
       "      console.log(\"Bokeh: BokehJS failed to load within specified timeout.\");\n",
       "      root._bokeh_failed_load = true;\n",
       "    } else if (force !== true) {\n",
       "      var cell = $(document.getElementById(\"1001\")).parents('.cell').data().cell;\n",
       "      cell.output_area.append_execute_result(NB_LOAD_WARNING)\n",
       "    }\n",
       "\n",
       "  }\n",
       "\n",
       "  if (root._bokeh_is_loading === 0) {\n",
       "    console.debug(\"Bokeh: BokehJS loaded, going straight to plotting\");\n",
       "    run_inline_js();\n",
       "  } else {\n",
       "    load_libs(css_urls, js_urls, function() {\n",
       "      console.debug(\"Bokeh: BokehJS plotting callback run at\", now());\n",
       "      run_inline_js();\n",
       "    });\n",
       "  }\n",
       "}(window));"
      ],
      "application/vnd.bokehjs_load.v0+json": "\n(function(root) {\n  function now() {\n    return new Date();\n  }\n\n  var force = true;\n\n  if (typeof root._bokeh_onload_callbacks === \"undefined\" || force === true) {\n    root._bokeh_onload_callbacks = [];\n    root._bokeh_is_loading = undefined;\n  }\n\n  \n\n  \n  if (typeof (root._bokeh_timeout) === \"undefined\" || force === true) {\n    root._bokeh_timeout = Date.now() + 5000;\n    root._bokeh_failed_load = false;\n  }\n\n  var NB_LOAD_WARNING = {'data': {'text/html':\n     \"<div style='background-color: #fdd'>\\n\"+\n     \"<p>\\n\"+\n     \"BokehJS does not appear to have successfully loaded. If loading BokehJS from CDN, this \\n\"+\n     \"may be due to a slow or bad network connection. Possible fixes:\\n\"+\n     \"</p>\\n\"+\n     \"<ul>\\n\"+\n     \"<li>re-rerun `output_notebook()` to attempt to load from CDN again, or</li>\\n\"+\n     \"<li>use INLINE resources instead, as so:</li>\\n\"+\n     \"</ul>\\n\"+\n     \"<code>\\n\"+\n     \"from bokeh.resources import INLINE\\n\"+\n     \"output_notebook(resources=INLINE)\\n\"+\n     \"</code>\\n\"+\n     \"</div>\"}};\n\n  function display_loaded() {\n    var el = document.getElementById(\"1001\");\n    if (el != null) {\n      el.textContent = \"BokehJS is loading...\";\n    }\n    if (root.Bokeh !== undefined) {\n      if (el != null) {\n        el.textContent = \"BokehJS \" + root.Bokeh.version + \" successfully loaded.\";\n      }\n    } else if (Date.now() < root._bokeh_timeout) {\n      setTimeout(display_loaded, 100)\n    }\n  }\n\n\n  function run_callbacks() {\n    try {\n      root._bokeh_onload_callbacks.forEach(function(callback) {\n        if (callback != null)\n          callback();\n      });\n    } finally {\n      delete root._bokeh_onload_callbacks\n    }\n    console.debug(\"Bokeh: all callbacks have finished\");\n  }\n\n  function load_libs(css_urls, js_urls, callback) {\n    if (css_urls == null) css_urls = [];\n    if (js_urls == null) js_urls = [];\n\n    root._bokeh_onload_callbacks.push(callback);\n    if (root._bokeh_is_loading > 0) {\n      console.debug(\"Bokeh: BokehJS is being loaded, scheduling callback at\", now());\n      return null;\n    }\n    if (js_urls == null || js_urls.length === 0) {\n      run_callbacks();\n      return null;\n    }\n    console.debug(\"Bokeh: BokehJS not loaded, scheduling load and callback at\", now());\n    root._bokeh_is_loading = css_urls.length + js_urls.length;\n\n    function on_load() {\n      root._bokeh_is_loading--;\n      if (root._bokeh_is_loading === 0) {\n        console.debug(\"Bokeh: all BokehJS libraries/stylesheets loaded\");\n        run_callbacks()\n      }\n    }\n\n    function on_error() {\n      console.error(\"failed to load \" + url);\n    }\n\n    for (var i = 0; i < css_urls.length; i++) {\n      var url = css_urls[i];\n      const element = document.createElement(\"link\");\n      element.onload = on_load;\n      element.onerror = on_error;\n      element.rel = \"stylesheet\";\n      element.type = \"text/css\";\n      element.href = url;\n      console.debug(\"Bokeh: injecting link tag for BokehJS stylesheet: \", url);\n      document.body.appendChild(element);\n    }\n\n    const hashes = {\"https://cdn.bokeh.org/bokeh/release/bokeh-2.2.1.min.js\": \"qkRvDQVAIfzsJo40iRBbxt6sttt0hv4lh74DG7OK4MCHv4C5oohXYoHUM5W11uqS\", \"https://cdn.bokeh.org/bokeh/release/bokeh-widgets-2.2.1.min.js\": \"Sb7Mr06a9TNlet/GEBeKaf5xH3eb6AlCzwjtU82wNPyDrnfoiVl26qnvlKjmcAd+\", \"https://cdn.bokeh.org/bokeh/release/bokeh-tables-2.2.1.min.js\": \"HaJ15vgfmcfRtB4c4YBOI4f1MUujukqInOWVqZJZZGK7Q+ivud0OKGSTn/Vm2iso\"};\n\n    for (var i = 0; i < js_urls.length; i++) {\n      var url = js_urls[i];\n      var element = document.createElement('script');\n      element.onload = on_load;\n      element.onerror = on_error;\n      element.async = false;\n      element.src = url;\n      if (url in hashes) {\n        element.crossOrigin = \"anonymous\";\n        element.integrity = \"sha384-\" + hashes[url];\n      }\n      console.debug(\"Bokeh: injecting script tag for BokehJS library: \", url);\n      document.head.appendChild(element);\n    }\n  };\n\n  function inject_raw_css(css) {\n    const element = document.createElement(\"style\");\n    element.appendChild(document.createTextNode(css));\n    document.body.appendChild(element);\n  }\n\n  \n  var js_urls = [\"https://cdn.bokeh.org/bokeh/release/bokeh-2.2.1.min.js\", \"https://cdn.bokeh.org/bokeh/release/bokeh-widgets-2.2.1.min.js\", \"https://cdn.bokeh.org/bokeh/release/bokeh-tables-2.2.1.min.js\"];\n  var css_urls = [];\n  \n\n  var inline_js = [\n    function(Bokeh) {\n      Bokeh.set_log_level(\"info\");\n    },\n    function(Bokeh) {\n    \n    \n    }\n  ];\n\n  function run_inline_js() {\n    \n    if (root.Bokeh !== undefined || force === true) {\n      \n    for (var i = 0; i < inline_js.length; i++) {\n      inline_js[i].call(root, root.Bokeh);\n    }\n    if (force === true) {\n        display_loaded();\n      }} else if (Date.now() < root._bokeh_timeout) {\n      setTimeout(run_inline_js, 100);\n    } else if (!root._bokeh_failed_load) {\n      console.log(\"Bokeh: BokehJS failed to load within specified timeout.\");\n      root._bokeh_failed_load = true;\n    } else if (force !== true) {\n      var cell = $(document.getElementById(\"1001\")).parents('.cell').data().cell;\n      cell.output_area.append_execute_result(NB_LOAD_WARNING)\n    }\n\n  }\n\n  if (root._bokeh_is_loading === 0) {\n    console.debug(\"Bokeh: BokehJS loaded, going straight to plotting\");\n    run_inline_js();\n  } else {\n    load_libs(css_urls, js_urls, function() {\n      console.debug(\"Bokeh: BokehJS plotting callback run at\", now());\n      run_inline_js();\n    });\n  }\n}(window));"
     },
     "metadata": {},
     "output_type": "display_data"
    }
   ],
   "source": [
    "output_notebook()"
   ]
  },
  {
   "cell_type": "code",
   "execution_count": 13,
   "metadata": {},
   "outputs": [],
   "source": [
    "def get_data():\n",
    "    path= '/home/henry/projects/covid19/stringency.txt'\n",
    "    df = pd.read_csv(path)\n",
    "    return df\n"
   ]
  },
  {
   "cell_type": "code",
   "execution_count": 18,
   "metadata": {},
   "outputs": [],
   "source": [
    "def resample(l):\n",
    "    final = []\n",
    "    for i in range(len(l)):\n",
    "        final.append(random.choice(l))\n",
    "    return final\n"
   ]
  },
  {
   "cell_type": "code",
   "execution_count": 72,
   "metadata": {},
   "outputs": [],
   "source": [
    "def graph1():\n",
    "    df = get_data()\n",
    "    x = df.x.tolist()\n",
    "    y = df.y.tolist()\n",
    "    p = figure()\n",
    "    p.circle(x = x, y = y)\n",
    "    X = list(zip(*[x]))\n",
    "    xm = sm.add_constant(X)\n",
    "    model = sm.OLS(y, xm) \n",
    "    result = model.fit()\n",
    "    y_hat2 = [x * result.params[1] + result.params[0] for x in x]\n",
    "    y_hat = result.predict(xm)\n",
    "    p.line(x = x, y = y_hat)\n",
    "    p.line(x = x, y = y_hat2)\n",
    "    return p\n"
   ]
  },
  {
   "cell_type": "code",
   "execution_count": 26,
   "metadata": {},
   "outputs": [],
   "source": [
    "def graph2(x,y):\n",
    "    p = figure()\n",
    "    p.circle(x = x, y = y)\n",
    "    X = list(zip(*[x]))\n",
    "    xm = sm.add_constant(X)\n",
    "    model = sm.OLS(y, xm) \n",
    "    result = model.fit()\n",
    "    y_hat2 = [x * result.params[1] + result.params[0] for x in x]\n",
    "    y_hat = result.predict(xm)\n",
    "    p.line(x = x, y = y_hat)\n",
    "    p.line(x = x, y = y_hat2)\n",
    "    return p"
   ]
  },
  {
   "cell_type": "code",
   "execution_count": 53,
   "metadata": {},
   "outputs": [],
   "source": [
    "def get_slope(x,y):\n",
    "    X = list(zip(*[x]))\n",
    "    xm = sm.add_constant(X)\n",
    "    model = sm.OLS(y, xm) \n",
    "    result = model.fit()\n",
    "    slope = result.params[1]\n",
    "    b = result.params[0]\n",
    "    return slope\n"
   ]
  },
  {
   "cell_type": "code",
   "execution_count": 17,
   "metadata": {},
   "outputs": [
    {
     "data": {
      "text/plain": [
       "-0.4573714674838268"
      ]
     },
     "execution_count": 17,
     "metadata": {},
     "output_type": "execute_result"
    }
   ],
   "source": [
    "df = get_data()\n",
    "x = df.x.tolist()\n",
    "y = df.y.tolist()\n",
    "get_slope(x,y)"
   ]
  },
  {
   "cell_type": "code",
   "execution_count": 22,
   "metadata": {},
   "outputs": [],
   "source": [
    "def get_pairs():\n",
    "    df = get_data()\n",
    "    x = df.x.tolist()\n",
    "    y = df.y.tolist()\n",
    "    points = []\n",
    "    for counter, i in enumerate(x):\n",
    "        points.append((i, y[counter]))\n",
    "    return points\n"
   ]
  },
  {
   "cell_type": "code",
   "execution_count": 42,
   "metadata": {},
   "outputs": [
    {
     "data": {
      "text/html": [
       "\n",
       "\n",
       "\n",
       "\n",
       "\n",
       "\n",
       "  <div class=\"bk-root\" id=\"86f1efb3-3097-4bd5-ae6f-8d2ad3d89cd0\" data-root-id=\"4298\"></div>\n"
      ]
     },
     "metadata": {},
     "output_type": "display_data"
    },
    {
     "data": {
      "application/javascript": [
       "(function(root) {\n",
       "  function embed_document(root) {\n",
       "    \n",
       "  var docs_json = {\"55018aa5-daea-4f70-ad2c-d89f0e0612df\":{\"roots\":{\"references\":[{\"attributes\":{\"below\":[{\"id\":\"4307\"}],\"center\":[{\"id\":\"4310\"},{\"id\":\"4314\"}],\"left\":[{\"id\":\"4311\"}],\"renderers\":[{\"id\":\"4332\"},{\"id\":\"4337\"},{\"id\":\"4342\"}],\"title\":{\"id\":\"4527\"},\"toolbar\":{\"id\":\"4322\"},\"x_range\":{\"id\":\"4299\"},\"x_scale\":{\"id\":\"4303\"},\"y_range\":{\"id\":\"4301\"},\"y_scale\":{\"id\":\"4305\"}},\"id\":\"4298\",\"subtype\":\"Figure\",\"type\":\"Plot\"},{\"attributes\":{\"data_source\":{\"id\":\"4329\"},\"glyph\":{\"id\":\"4330\"},\"hover_glyph\":null,\"muted_glyph\":null,\"nonselection_glyph\":{\"id\":\"4331\"},\"selection_glyph\":null,\"view\":{\"id\":\"4333\"}},\"id\":\"4332\",\"type\":\"GlyphRenderer\"},{\"attributes\":{},\"id\":\"4532\",\"type\":\"UnionRenderers\"},{\"attributes\":{\"axis\":{\"id\":\"4307\"},\"ticker\":null},\"id\":\"4310\",\"type\":\"Grid\"},{\"attributes\":{\"source\":{\"id\":\"4329\"}},\"id\":\"4333\",\"type\":\"CDSView\"},{\"attributes\":{},\"id\":\"4308\",\"type\":\"BasicTicker\"},{\"attributes\":{\"bottom_units\":\"screen\",\"fill_alpha\":0.5,\"fill_color\":\"lightgrey\",\"left_units\":\"screen\",\"level\":\"overlay\",\"line_alpha\":1.0,\"line_color\":\"black\",\"line_dash\":[4,4],\"line_width\":2,\"right_units\":\"screen\",\"top_units\":\"screen\"},\"id\":\"4321\",\"type\":\"BoxAnnotation\"},{\"attributes\":{\"formatter\":{\"id\":\"4528\"},\"ticker\":{\"id\":\"4308\"}},\"id\":\"4307\",\"type\":\"LinearAxis\"},{\"attributes\":{},\"id\":\"4530\",\"type\":\"BasicTickFormatter\"},{\"attributes\":{},\"id\":\"4535\",\"type\":\"Selection\"},{\"attributes\":{\"fill_color\":{\"value\":\"#1f77b4\"},\"line_color\":{\"value\":\"#1f77b4\"},\"x\":{\"field\":\"x\"},\"y\":{\"field\":\"y\"}},\"id\":\"4330\",\"type\":\"Circle\"},{\"attributes\":{},\"id\":\"4533\",\"type\":\"Selection\"},{\"attributes\":{},\"id\":\"4301\",\"type\":\"DataRange1d\"},{\"attributes\":{},\"id\":\"4536\",\"type\":\"UnionRenderers\"},{\"attributes\":{},\"id\":\"4534\",\"type\":\"UnionRenderers\"},{\"attributes\":{},\"id\":\"4528\",\"type\":\"BasicTickFormatter\"},{\"attributes\":{\"active_drag\":\"auto\",\"active_inspect\":\"auto\",\"active_multi\":null,\"active_scroll\":\"auto\",\"active_tap\":\"auto\",\"tools\":[{\"id\":\"4315\"},{\"id\":\"4316\"},{\"id\":\"4317\"},{\"id\":\"4318\"},{\"id\":\"4319\"},{\"id\":\"4320\"}]},\"id\":\"4322\",\"type\":\"Toolbar\"},{\"attributes\":{\"text\":\"\"},\"id\":\"4527\",\"type\":\"Title\"},{\"attributes\":{\"data\":{\"x\":[57.5,56.0,60.0,66.0,47.0,55.0,61.0,49.0,47.0,49.0,59.0,66.0,46.0,73.0,56.0,61.0,60.0,66.0,61.0,54.0,56.0,56.0,83.0,55.0,57.5,49.0,56.0,57.5,64.0,61.0,62.0,46.0,67.5,56.0,59.0,83.0,55.0,42.0,66.0,83.0,59.0,60.0,49.0,63.0,59.0,56.0,66.0,66.0,47.0],\"y\":{\"__ndarray__\":\"GqxHZuV6NEAemGSLcHc1QL4iwn391TJAYOWc0qHHLUAyIBJqs2I7QHQ1zU7NHzZAZoVZuqAtMkCC5UDj+RE6QDIgEmqzYjtAguVA4/kROkAWwCpBWn4zQGDlnNKhxy1Air16LRALPECYSuQij5IkQB6YZItwdzVAZoVZuqAtMkC+IsJ9/dUyQGDlnNKhxy1AZoVZuqAtMkDM0jUSKsg2QB6YZItwdzVAHphki3B3NUDw/t96P60NQHQ1zU7NHzZAGqxHZuV6NECC5UDj+RE6QB6YZItwdzVAGqxHZuV6NEBgrR9wijQwQGaFWbqgLTJAEOjw9kOFMUCKvXotEAs8QFwNY4iLzitAHphki3B3NUAWwCpBWn4zQPD+33o/rQ1AdDXNTs0fNkDoMh07g6w+QGDlnNKhxy1A8P7fej+tDUAWwCpBWn4zQL4iwn391TJAguVA4/kROkC4Sogz59wwQBbAKkFafjNAHphki3B3NUBg5ZzSocctQGDlnNKhxy1AMiASarNiO0A=\",\"dtype\":\"float64\",\"order\":\"little\",\"shape\":[49]}},\"selected\":{\"id\":\"4535\"},\"selection_policy\":{\"id\":\"4534\"}},\"id\":\"4334\",\"type\":\"ColumnDataSource\"},{\"attributes\":{},\"id\":\"4320\",\"type\":\"HelpTool\"},{\"attributes\":{\"data\":{\"x\":[57.5,56.0,60.0,66.0,47.0,55.0,61.0,49.0,47.0,49.0,59.0,66.0,46.0,73.0,56.0,61.0,60.0,66.0,61.0,54.0,56.0,56.0,83.0,55.0,57.5,49.0,56.0,57.5,64.0,61.0,62.0,46.0,67.5,56.0,59.0,83.0,55.0,42.0,66.0,83.0,59.0,60.0,49.0,63.0,59.0,56.0,66.0,66.0,47.0],\"y\":[20.48006285905658,21.466561042842038,18.835899219414152,14.88990648427233,27.385550145554767,22.124226498699002,18.17823376355718,26.070219233840824,27.385550145554767,26.070219233840824,19.493564675271124,14.88990648427233,28.043215601411738,10.286248293273545,21.466561042842038,18.17823376355718,18.835899219414152,14.88990648427233,18.17823376355718,22.781891954555974,21.466561042842038,21.466561042842038,3.7095937347038372,22.124226498699002,20.48006285905658,26.070219233840824,21.466561042842038,20.48006285905658,16.205237395986273,18.17823376355718,17.520568307700216,28.043215601411738,13.90340830048688,21.466561042842038,19.493564675271124,3.7095937347038372,22.124226498699002,30.673877424839617,14.88990648427233,3.7095937347038372,19.493564675271124,18.835899219414152,26.070219233840824,16.862902851843245,19.493564675271124,21.466561042842038,14.88990648427233,14.88990648427233,27.385550145554767]},\"selected\":{\"id\":\"4537\"},\"selection_policy\":{\"id\":\"4536\"}},\"id\":\"4339\",\"type\":\"ColumnDataSource\"},{\"attributes\":{},\"id\":\"4319\",\"type\":\"ResetTool\"},{\"attributes\":{\"line_alpha\":0.1,\"line_color\":\"#1f77b4\",\"x\":{\"field\":\"x\"},\"y\":{\"field\":\"y\"}},\"id\":\"4336\",\"type\":\"Line\"},{\"attributes\":{\"data_source\":{\"id\":\"4334\"},\"glyph\":{\"id\":\"4335\"},\"hover_glyph\":null,\"muted_glyph\":null,\"nonselection_glyph\":{\"id\":\"4336\"},\"selection_glyph\":null,\"view\":{\"id\":\"4338\"}},\"id\":\"4337\",\"type\":\"GlyphRenderer\"},{\"attributes\":{},\"id\":\"4318\",\"type\":\"SaveTool\"},{\"attributes\":{\"overlay\":{\"id\":\"4321\"}},\"id\":\"4317\",\"type\":\"BoxZoomTool\"},{\"attributes\":{\"source\":{\"id\":\"4334\"}},\"id\":\"4338\",\"type\":\"CDSView\"},{\"attributes\":{\"line_color\":\"#1f77b4\",\"x\":{\"field\":\"x\"},\"y\":{\"field\":\"y\"}},\"id\":\"4335\",\"type\":\"Line\"},{\"attributes\":{},\"id\":\"4316\",\"type\":\"WheelZoomTool\"},{\"attributes\":{},\"id\":\"4303\",\"type\":\"LinearScale\"},{\"attributes\":{},\"id\":\"4315\",\"type\":\"PanTool\"},{\"attributes\":{\"data\":{\"x\":[57.5,56.0,60.0,66.0,47.0,55.0,61.0,49.0,47.0,49.0,59.0,66.0,46.0,73.0,56.0,61.0,60.0,66.0,61.0,54.0,56.0,56.0,83.0,55.0,57.5,49.0,56.0,57.5,64.0,61.0,62.0,46.0,67.5,56.0,59.0,83.0,55.0,42.0,66.0,83.0,59.0,60.0,49.0,63.0,59.0,56.0,66.0,66.0,47.0],\"y\":[26.0,21.0,26.0,8.0,35.0,28.0,20.0,19.0,35.0,25.0,17.0,19.0,32.0,8.0,21.0,26.0,15.0,4.0,20.0,24.0,21.0,11.0,7.5,19.0,26.0,25.0,11.0,26.0,20.0,17.0,13.0,32.0,16.0,21.0,22.0,7.5,28.0,27.0,4.0,7.5,17.0,15.0,19.0,16.0,22.0,11.0,8.0,23.0,35.0]},\"selected\":{\"id\":\"4533\"},\"selection_policy\":{\"id\":\"4532\"}},\"id\":\"4329\",\"type\":\"ColumnDataSource\"},{\"attributes\":{\"line_alpha\":0.1,\"line_color\":\"#1f77b4\",\"x\":{\"field\":\"x\"},\"y\":{\"field\":\"y\"}},\"id\":\"4341\",\"type\":\"Line\"},{\"attributes\":{\"data_source\":{\"id\":\"4339\"},\"glyph\":{\"id\":\"4340\"},\"hover_glyph\":null,\"muted_glyph\":null,\"nonselection_glyph\":{\"id\":\"4341\"},\"selection_glyph\":null,\"view\":{\"id\":\"4343\"}},\"id\":\"4342\",\"type\":\"GlyphRenderer\"},{\"attributes\":{},\"id\":\"4305\",\"type\":\"LinearScale\"},{\"attributes\":{\"fill_alpha\":{\"value\":0.1},\"fill_color\":{\"value\":\"#1f77b4\"},\"line_alpha\":{\"value\":0.1},\"line_color\":{\"value\":\"#1f77b4\"},\"x\":{\"field\":\"x\"},\"y\":{\"field\":\"y\"}},\"id\":\"4331\",\"type\":\"Circle\"},{\"attributes\":{},\"id\":\"4537\",\"type\":\"Selection\"},{\"attributes\":{\"source\":{\"id\":\"4339\"}},\"id\":\"4343\",\"type\":\"CDSView\"},{\"attributes\":{\"axis\":{\"id\":\"4311\"},\"dimension\":1,\"ticker\":null},\"id\":\"4314\",\"type\":\"Grid\"},{\"attributes\":{\"line_color\":\"#1f77b4\",\"x\":{\"field\":\"x\"},\"y\":{\"field\":\"y\"}},\"id\":\"4340\",\"type\":\"Line\"},{\"attributes\":{},\"id\":\"4312\",\"type\":\"BasicTicker\"},{\"attributes\":{},\"id\":\"4299\",\"type\":\"DataRange1d\"},{\"attributes\":{\"formatter\":{\"id\":\"4530\"},\"ticker\":{\"id\":\"4312\"}},\"id\":\"4311\",\"type\":\"LinearAxis\"}],\"root_ids\":[\"4298\"]},\"title\":\"Bokeh Application\",\"version\":\"2.2.1\"}};\n",
       "  var render_items = [{\"docid\":\"55018aa5-daea-4f70-ad2c-d89f0e0612df\",\"root_ids\":[\"4298\"],\"roots\":{\"4298\":\"86f1efb3-3097-4bd5-ae6f-8d2ad3d89cd0\"}}];\n",
       "  root.Bokeh.embed.embed_items_notebook(docs_json, render_items);\n",
       "\n",
       "  }\n",
       "  if (root.Bokeh !== undefined) {\n",
       "    embed_document(root);\n",
       "  } else {\n",
       "    var attempts = 0;\n",
       "    var timer = setInterval(function(root) {\n",
       "      if (root.Bokeh !== undefined) {\n",
       "        clearInterval(timer);\n",
       "        embed_document(root);\n",
       "      } else {\n",
       "        attempts++;\n",
       "        if (attempts > 100) {\n",
       "          clearInterval(timer);\n",
       "          console.log(\"Bokeh: ERROR: Unable to run BokehJS code because BokehJS library is missing\");\n",
       "        }\n",
       "      }\n",
       "    }, 10, root)\n",
       "  }\n",
       "})(window);"
      ],
      "application/vnd.bokehjs_exec.v0+json": ""
     },
     "metadata": {
      "application/vnd.bokehjs_exec.v0+json": {
       "id": "4298"
      }
     },
     "output_type": "display_data"
    }
   ],
   "source": [
    "def ex_graph():\n",
    "    pairs = get_pairs()\n",
    "    resample_pairs = resample(pairs)\n",
    "    x = [x[0] for x in resample_pairs]\n",
    "    y = [x[1] for x in resample_pairs]\n",
    "    p = graph2(x = x, y = y)\n",
    "    return p\n",
    "    \n",
    "show(ex_graph())"
   ]
  },
  {
   "cell_type": "code",
   "execution_count": 63,
   "metadata": {},
   "outputs": [],
   "source": [
    "def prune(n = 3):\n",
    "    pairs = get_pairs()\n",
    "    sort_pairs = sorted(pairs, key = lambda x: x[1])\n",
    "    return sort_pairs[n:-n]\n",
    "    \n",
    "\n",
    "    "
   ]
  },
  {
   "cell_type": "code",
   "execution_count": 68,
   "metadata": {},
   "outputs": [
    {
     "name": "stdout",
     "output_type": "stream",
     "text": [
      "-0.4572515952251057 -0.0124272211537872\n"
     ]
    }
   ],
   "source": [
    "def get_slopes(pairs):\n",
    "    slopes = []\n",
    "    test = resample(pairs)\n",
    "    for i in range(1000):\n",
    "        resample_pairs = resample(pairs)\n",
    "        x = [x[0] for x in resample_pairs]\n",
    "        y = [x[1] for x in resample_pairs]\n",
    "        slopes.append(get_slope(x,y)) \n",
    "    lower = np.percentile(slopes, 2.5)\n",
    "    upper = np.percentile(slopes, 97.5)\n",
    "    print(lower, upper)\n",
    "\n",
    "get_slopes(prune(n=4))\n"
   ]
  },
  {
   "cell_type": "code",
   "execution_count": 71,
   "metadata": {},
   "outputs": [
    {
     "data": {
      "text/html": [
       "\n",
       "\n",
       "\n",
       "\n",
       "\n",
       "\n",
       "  <div class=\"bk-root\" id=\"532ea106-aa4f-4d38-a89a-c8386d5d22ec\" data-root-id=\"30055\"></div>\n"
      ]
     },
     "metadata": {},
     "output_type": "display_data"
    },
    {
     "data": {
      "application/javascript": [
       "(function(root) {\n",
       "  function embed_document(root) {\n",
       "    \n",
       "  var docs_json = {\"b136b889-ed45-4636-b3d0-51af41a39df6\":{\"roots\":{\"references\":[{\"attributes\":{\"below\":[{\"id\":\"30064\"}],\"center\":[{\"id\":\"30067\"},{\"id\":\"30071\"}],\"left\":[{\"id\":\"30068\"}],\"renderers\":[{\"id\":\"30089\"},{\"id\":\"30094\"},{\"id\":\"30099\"}],\"title\":{\"id\":\"30323\"},\"toolbar\":{\"id\":\"30079\"},\"x_range\":{\"id\":\"30056\"},\"x_scale\":{\"id\":\"30060\"},\"y_range\":{\"id\":\"30058\"},\"y_scale\":{\"id\":\"30062\"}},\"id\":\"30055\",\"subtype\":\"Figure\",\"type\":\"Plot\"},{\"attributes\":{\"data_source\":{\"id\":\"30086\"},\"glyph\":{\"id\":\"30087\"},\"hover_glyph\":null,\"muted_glyph\":null,\"nonselection_glyph\":{\"id\":\"30088\"},\"selection_glyph\":null,\"view\":{\"id\":\"30090\"}},\"id\":\"30089\",\"type\":\"GlyphRenderer\"},{\"attributes\":{\"source\":{\"id\":\"30091\"}},\"id\":\"30095\",\"type\":\"CDSView\"},{\"attributes\":{\"fill_alpha\":{\"value\":0.1},\"fill_color\":{\"value\":\"#1f77b4\"},\"line_alpha\":{\"value\":0.1},\"line_color\":{\"value\":\"#1f77b4\"},\"x\":{\"field\":\"x\"},\"y\":{\"field\":\"y\"}},\"id\":\"30088\",\"type\":\"Circle\"},{\"attributes\":{\"data\":{\"x\":[73.0,65.0,56.0,47.0,62.0,72.0,57.5,60.0,70.0,63.0,67.5,60.0,59.0,61.0,61.0,65.0,65.0,65.0,49.0,55.0,66.0,64.0,57.0,61.0,64.0,48.0,58.0,56.0,56.0,59.0,64.0,81.0,49.0,66.0,54.0,49.0,57.5,60.0,60.0,61.0,42.0],\"y\":[16.133902578429236,17.87054704151021,19.824272062476307,21.777997083442408,18.521788715165577,16.35098313631436,19.498651225648626,18.955949830935822,16.7851442520846,18.304708157280455,17.327845646797407,18.955949830935822,19.17303038882094,18.738869273050696,18.738869273050696,17.87054704151021,17.87054704151021,17.87054704151021,21.343835967672163,20.04135262036143,17.65346648362509,18.087627599395333,19.607191504591185,18.738869273050696,18.087627599395333,21.560916525557282,19.390110946706066,19.824272062476307,19.824272062476307,19.17303038882094,18.087627599395333,14.397258115348261,21.343835967672163,17.65346648362509,20.258433178246552,21.343835967672163,19.498651225648626,18.955949830935822,18.955949830935822,18.738869273050696,22.863399872868015]},\"selected\":{\"id\":\"30333\"},\"selection_policy\":{\"id\":\"30332\"}},\"id\":\"30096\",\"type\":\"ColumnDataSource\"},{\"attributes\":{\"bottom_units\":\"screen\",\"fill_alpha\":0.5,\"fill_color\":\"lightgrey\",\"left_units\":\"screen\",\"level\":\"overlay\",\"line_alpha\":1.0,\"line_color\":\"black\",\"line_dash\":[4,4],\"line_width\":2,\"right_units\":\"screen\",\"top_units\":\"screen\"},\"id\":\"30078\",\"type\":\"BoxAnnotation\"},{\"attributes\":{\"line_alpha\":0.1,\"line_color\":\"#1f77b4\",\"x\":{\"field\":\"x\"},\"y\":{\"field\":\"y\"}},\"id\":\"30098\",\"type\":\"Line\"},{\"attributes\":{\"data_source\":{\"id\":\"30096\"},\"glyph\":{\"id\":\"30097\"},\"hover_glyph\":null,\"muted_glyph\":null,\"nonselection_glyph\":{\"id\":\"30098\"},\"selection_glyph\":null,\"view\":{\"id\":\"30100\"}},\"id\":\"30099\",\"type\":\"GlyphRenderer\"},{\"attributes\":{\"source\":{\"id\":\"30096\"}},\"id\":\"30100\",\"type\":\"CDSView\"},{\"attributes\":{},\"id\":\"30073\",\"type\":\"WheelZoomTool\"},{\"attributes\":{\"text\":\"\"},\"id\":\"30323\",\"type\":\"Title\"},{\"attributes\":{\"line_color\":\"#1f77b4\",\"x\":{\"field\":\"x\"},\"y\":{\"field\":\"y\"}},\"id\":\"30097\",\"type\":\"Line\"},{\"attributes\":{\"line_alpha\":0.1,\"line_color\":\"#1f77b4\",\"x\":{\"field\":\"x\"},\"y\":{\"field\":\"y\"}},\"id\":\"30093\",\"type\":\"Line\"},{\"attributes\":{\"line_color\":\"#1f77b4\",\"x\":{\"field\":\"x\"},\"y\":{\"field\":\"y\"}},\"id\":\"30092\",\"type\":\"Line\"},{\"attributes\":{},\"id\":\"30326\",\"type\":\"BasicTickFormatter\"},{\"attributes\":{},\"id\":\"30072\",\"type\":\"PanTool\"},{\"attributes\":{\"data_source\":{\"id\":\"30091\"},\"glyph\":{\"id\":\"30092\"},\"hover_glyph\":null,\"muted_glyph\":null,\"nonselection_glyph\":{\"id\":\"30093\"},\"selection_glyph\":null,\"view\":{\"id\":\"30095\"}},\"id\":\"30094\",\"type\":\"GlyphRenderer\"},{\"attributes\":{},\"id\":\"30328\",\"type\":\"UnionRenderers\"},{\"attributes\":{\"formatter\":{\"id\":\"30326\"},\"ticker\":{\"id\":\"30069\"}},\"id\":\"30068\",\"type\":\"LinearAxis\"},{\"attributes\":{},\"id\":\"30329\",\"type\":\"Selection\"},{\"attributes\":{},\"id\":\"30069\",\"type\":\"BasicTicker\"},{\"attributes\":{},\"id\":\"30060\",\"type\":\"LinearScale\"},{\"attributes\":{},\"id\":\"30330\",\"type\":\"UnionRenderers\"},{\"attributes\":{\"overlay\":{\"id\":\"30078\"}},\"id\":\"30074\",\"type\":\"BoxZoomTool\"},{\"attributes\":{},\"id\":\"30331\",\"type\":\"Selection\"},{\"attributes\":{\"axis\":{\"id\":\"30068\"},\"dimension\":1,\"ticker\":null},\"id\":\"30071\",\"type\":\"Grid\"},{\"attributes\":{},\"id\":\"30332\",\"type\":\"UnionRenderers\"},{\"attributes\":{},\"id\":\"30075\",\"type\":\"SaveTool\"},{\"attributes\":{\"fill_color\":{\"value\":\"#1f77b4\"},\"line_color\":{\"value\":\"#1f77b4\"},\"x\":{\"field\":\"x\"},\"y\":{\"field\":\"y\"}},\"id\":\"30087\",\"type\":\"Circle\"},{\"attributes\":{\"data\":{\"x\":[73.0,65.0,56.0,47.0,62.0,72.0,57.5,60.0,70.0,63.0,67.5,60.0,59.0,61.0,61.0,65.0,65.0,65.0,49.0,55.0,66.0,64.0,57.0,61.0,64.0,48.0,58.0,56.0,56.0,59.0,64.0,81.0,49.0,66.0,54.0,49.0,57.5,60.0,60.0,61.0,42.0],\"y\":[8.0,10.0,11.0,13.0,13.0,13.0,15.0,15.0,15.0,16.0,16.0,17.0,17.0,17.0,17.0,17.0,17.0,17.0,19.0,19.0,19.0,19.0,20.0,20.0,20.0,21.0,21.0,21.0,21.0,22.0,22.0,22.0,23.0,23.0,24.0,25.0,26.0,26.0,26.0,26.0,27.0]},\"selected\":{\"id\":\"30329\"},\"selection_policy\":{\"id\":\"30328\"}},\"id\":\"30086\",\"type\":\"ColumnDataSource\"},{\"attributes\":{},\"id\":\"30076\",\"type\":\"ResetTool\"},{\"attributes\":{},\"id\":\"30333\",\"type\":\"Selection\"},{\"attributes\":{\"axis\":{\"id\":\"30064\"},\"ticker\":null},\"id\":\"30067\",\"type\":\"Grid\"},{\"attributes\":{\"formatter\":{\"id\":\"30324\"},\"ticker\":{\"id\":\"30065\"}},\"id\":\"30064\",\"type\":\"LinearAxis\"},{\"attributes\":{},\"id\":\"30324\",\"type\":\"BasicTickFormatter\"},{\"attributes\":{},\"id\":\"30062\",\"type\":\"LinearScale\"},{\"attributes\":{},\"id\":\"30077\",\"type\":\"HelpTool\"},{\"attributes\":{\"data\":{\"x\":[73.0,65.0,56.0,47.0,62.0,72.0,57.5,60.0,70.0,63.0,67.5,60.0,59.0,61.0,61.0,65.0,65.0,65.0,49.0,55.0,66.0,64.0,57.0,61.0,64.0,48.0,58.0,56.0,56.0,59.0,64.0,81.0,49.0,66.0,54.0,49.0,57.5,60.0,60.0,61.0,42.0],\"y\":{\"__ndarray__\":\"IjR7cEciMEB56sAr3N4xQJtXb34D0zNAvsQd0SrHNUDaDvvxk4UyQO3q4wfaWTBAa0VSm6d/M0BwfMwgufQyQIJYtTb/yDBAD1iSWgFOMkB+ITux7VMxQHB8zCC59DJAOjM1uEssM0CkxWOJJr0yQKTFY4kmvTJAeerAK9zeMUB56sAr3N4xQHnqwCvc3jFAKFdMogVYNUBmDtgVlgo0QK4zWJRJpzFARKEpw24WMkDQoAbncJszQKTFY4kmvTJARKEpw24WMkDyDbU5mI81QAbqnU/eYzNAm1dvfgPTM0CbV29+A9MzQDozNbhLLDNARKEpw24WMkCW+2pqZcssQChXTKIFWDVArjNYlEmnMUAxxUCtKEI0QChXTKIFWDVAa0VSm6d/M0BwfMwgufQyQHB8zCC59DJApMVjiSa9MkC0VinGB902QA==\",\"dtype\":\"float64\",\"order\":\"little\",\"shape\":[41]}},\"selected\":{\"id\":\"30331\"},\"selection_policy\":{\"id\":\"30330\"}},\"id\":\"30091\",\"type\":\"ColumnDataSource\"},{\"attributes\":{},\"id\":\"30056\",\"type\":\"DataRange1d\"},{\"attributes\":{\"active_drag\":\"auto\",\"active_inspect\":\"auto\",\"active_multi\":null,\"active_scroll\":\"auto\",\"active_tap\":\"auto\",\"tools\":[{\"id\":\"30072\"},{\"id\":\"30073\"},{\"id\":\"30074\"},{\"id\":\"30075\"},{\"id\":\"30076\"},{\"id\":\"30077\"}]},\"id\":\"30079\",\"type\":\"Toolbar\"},{\"attributes\":{},\"id\":\"30065\",\"type\":\"BasicTicker\"},{\"attributes\":{},\"id\":\"30058\",\"type\":\"DataRange1d\"},{\"attributes\":{\"source\":{\"id\":\"30086\"}},\"id\":\"30090\",\"type\":\"CDSView\"}],\"root_ids\":[\"30055\"]},\"title\":\"Bokeh Application\",\"version\":\"2.2.1\"}};\n",
       "  var render_items = [{\"docid\":\"b136b889-ed45-4636-b3d0-51af41a39df6\",\"root_ids\":[\"30055\"],\"roots\":{\"30055\":\"532ea106-aa4f-4d38-a89a-c8386d5d22ec\"}}];\n",
       "  root.Bokeh.embed.embed_items_notebook(docs_json, render_items);\n",
       "\n",
       "  }\n",
       "  if (root.Bokeh !== undefined) {\n",
       "    embed_document(root);\n",
       "  } else {\n",
       "    var attempts = 0;\n",
       "    var timer = setInterval(function(root) {\n",
       "      if (root.Bokeh !== undefined) {\n",
       "        clearInterval(timer);\n",
       "        embed_document(root);\n",
       "      } else {\n",
       "        attempts++;\n",
       "        if (attempts > 100) {\n",
       "          clearInterval(timer);\n",
       "          console.log(\"Bokeh: ERROR: Unable to run BokehJS code because BokehJS library is missing\");\n",
       "        }\n",
       "      }\n",
       "    }, 10, root)\n",
       "  }\n",
       "})(window);"
      ],
      "application/vnd.bokehjs_exec.v0+json": ""
     },
     "metadata": {
      "application/vnd.bokehjs_exec.v0+json": {
       "id": "30055"
      }
     },
     "output_type": "display_data"
    }
   ],
   "source": [
    "def ex_graph_with_prune(prune_n = 3):\n",
    "    pairs = prune(n = prune_n)\n",
    "    x = [x[0] for x in pairs]\n",
    "    y = [x[1] for x in pairs]\n",
    "    p = graph2(x = x, y = y)\n",
    "    return p\n",
    "    \n",
    "show(ex_graph_with_prune(4))"
   ]
  },
  {
   "cell_type": "code",
   "execution_count": 85,
   "metadata": {},
   "outputs": [
    {
     "name": "stdout",
     "output_type": "stream",
     "text": [
      "60.58163265306123 18.785714285714285\n",
      "42.0 83.0\n"
     ]
    },
    {
     "data": {
      "text/html": [
       "\n",
       "\n",
       "\n",
       "\n",
       "\n",
       "\n",
       "  <div class=\"bk-root\" id=\"156b445f-c14b-4ca0-921c-75e79f1e6c94\" data-root-id=\"34801\"></div>\n"
      ]
     },
     "metadata": {},
     "output_type": "display_data"
    },
    {
     "data": {
      "application/javascript": [
       "(function(root) {\n",
       "  function embed_document(root) {\n",
       "    \n",
       "  var docs_json = {\"e4aba3fd-ddd4-4c13-afeb-78c654060466\":{\"roots\":{\"references\":[{\"attributes\":{\"below\":[{\"id\":\"34810\"}],\"center\":[{\"id\":\"34813\"},{\"id\":\"34817\"}],\"left\":[{\"id\":\"34814\"}],\"renderers\":[{\"id\":\"34835\"},{\"id\":\"34840\"},{\"id\":\"34845\"},{\"id\":\"34850\"},{\"id\":\"34855\"}],\"title\":{\"id\":\"35238\"},\"toolbar\":{\"id\":\"34825\"},\"x_range\":{\"id\":\"34802\"},\"x_scale\":{\"id\":\"34806\"},\"y_range\":{\"id\":\"34804\"},\"y_scale\":{\"id\":\"34808\"}},\"id\":\"34801\",\"subtype\":\"Figure\",\"type\":\"Plot\"},{\"attributes\":{\"data\":{\"x\":[60.58163265306123,60.58163265306123],\"y\":[3.0,35.0]},\"selected\":{\"id\":\"35246\"},\"selection_policy\":{\"id\":\"35245\"}},\"id\":\"34837\",\"type\":\"ColumnDataSource\"},{\"attributes\":{\"data_source\":{\"id\":\"34852\"},\"glyph\":{\"id\":\"34853\"},\"hover_glyph\":null,\"muted_glyph\":null,\"nonselection_glyph\":{\"id\":\"34854\"},\"selection_glyph\":null,\"view\":{\"id\":\"34856\"}},\"id\":\"34855\",\"type\":\"GlyphRenderer\"},{\"attributes\":{\"fill_alpha\":{\"value\":0.1},\"fill_color\":{\"value\":\"#1f77b4\"},\"line_alpha\":{\"value\":0.1},\"line_color\":{\"value\":\"#1f77b4\"},\"x\":{\"field\":\"x\"},\"y\":{\"field\":\"y\"}},\"id\":\"34834\",\"type\":\"Circle\"},{\"attributes\":{\"data\":{\"x\":[42.0,83.0],\"y\":[18.785714285714285,18.785714285714285]},\"selected\":{\"id\":\"35248\"},\"selection_policy\":{\"id\":\"35247\"}},\"id\":\"34842\",\"type\":\"ColumnDataSource\"},{\"attributes\":{\"source\":{\"id\":\"34852\"}},\"id\":\"34856\",\"type\":\"CDSView\"},{\"attributes\":{},\"id\":\"34818\",\"type\":\"PanTool\"},{\"attributes\":{\"axis\":{\"id\":\"34814\"},\"dimension\":1,\"ticker\":null},\"id\":\"34817\",\"type\":\"Grid\"},{\"attributes\":{\"line_alpha\":0.1,\"line_color\":\"red\",\"x\":{\"field\":\"x\"},\"y\":{\"field\":\"y\"}},\"id\":\"34839\",\"type\":\"Line\"},{\"attributes\":{\"data_source\":{\"id\":\"34837\"},\"glyph\":{\"id\":\"34838\"},\"hover_glyph\":null,\"muted_glyph\":null,\"nonselection_glyph\":{\"id\":\"34839\"},\"selection_glyph\":null,\"view\":{\"id\":\"34841\"}},\"id\":\"34840\",\"type\":\"GlyphRenderer\"},{\"attributes\":{},\"id\":\"34819\",\"type\":\"WheelZoomTool\"},{\"attributes\":{\"overlay\":{\"id\":\"34824\"}},\"id\":\"34820\",\"type\":\"BoxZoomTool\"},{\"attributes\":{\"formatter\":{\"id\":\"35241\"},\"ticker\":{\"id\":\"34815\"}},\"id\":\"34814\",\"type\":\"LinearAxis\"},{\"attributes\":{\"source\":{\"id\":\"34837\"}},\"id\":\"34841\",\"type\":\"CDSView\"},{\"attributes\":{\"formatter\":{\"id\":\"35239\"},\"ticker\":{\"id\":\"34811\"}},\"id\":\"34810\",\"type\":\"LinearAxis\"},{\"attributes\":{},\"id\":\"35249\",\"type\":\"UnionRenderers\"},{\"attributes\":{\"line_color\":\"red\",\"x\":{\"field\":\"x\"},\"y\":{\"field\":\"y\"}},\"id\":\"34838\",\"type\":\"Line\"},{\"attributes\":{},\"id\":\"34808\",\"type\":\"LinearScale\"},{\"attributes\":{},\"id\":\"34821\",\"type\":\"SaveTool\"},{\"attributes\":{},\"id\":\"34802\",\"type\":\"DataRange1d\"},{\"attributes\":{\"data\":{\"x\":[42.0,83.0],\"y\":[23.785714285714285,23.785714285714285]},\"selected\":{\"id\":\"35250\"},\"selection_policy\":{\"id\":\"35249\"}},\"id\":\"34847\",\"type\":\"ColumnDataSource\"},{\"attributes\":{},\"id\":\"34822\",\"type\":\"ResetTool\"},{\"attributes\":{},\"id\":\"34823\",\"type\":\"HelpTool\"},{\"attributes\":{\"line_alpha\":0.1,\"line_color\":\"red\",\"x\":{\"field\":\"x\"},\"y\":{\"field\":\"y\"}},\"id\":\"34844\",\"type\":\"Line\"},{\"attributes\":{},\"id\":\"34806\",\"type\":\"LinearScale\"},{\"attributes\":{\"data_source\":{\"id\":\"34842\"},\"glyph\":{\"id\":\"34843\"},\"hover_glyph\":null,\"muted_glyph\":null,\"nonselection_glyph\":{\"id\":\"34844\"},\"selection_glyph\":null,\"view\":{\"id\":\"34846\"}},\"id\":\"34845\",\"type\":\"GlyphRenderer\"},{\"attributes\":{\"fill_color\":{\"value\":\"#1f77b4\"},\"line_color\":{\"value\":\"#1f77b4\"},\"x\":{\"field\":\"x\"},\"y\":{\"field\":\"y\"}},\"id\":\"34833\",\"type\":\"Circle\"},{\"attributes\":{\"active_drag\":\"auto\",\"active_inspect\":\"auto\",\"active_multi\":null,\"active_scroll\":\"auto\",\"active_tap\":\"auto\",\"tools\":[{\"id\":\"34818\"},{\"id\":\"34819\"},{\"id\":\"34820\"},{\"id\":\"34821\"},{\"id\":\"34822\"},{\"id\":\"34823\"}]},\"id\":\"34825\",\"type\":\"Toolbar\"},{\"attributes\":{\"source\":{\"id\":\"34842\"}},\"id\":\"34846\",\"type\":\"CDSView\"},{\"attributes\":{\"line_color\":\"red\",\"x\":{\"field\":\"x\"},\"y\":{\"field\":\"y\"}},\"id\":\"34843\",\"type\":\"Line\"},{\"attributes\":{},\"id\":\"34804\",\"type\":\"DataRange1d\"},{\"attributes\":{},\"id\":\"35250\",\"type\":\"Selection\"},{\"attributes\":{\"axis\":{\"id\":\"34810\"},\"ticker\":null},\"id\":\"34813\",\"type\":\"Grid\"},{\"attributes\":{\"data\":{\"x\":[42.0,83.0],\"y\":[13.785714285714285,13.785714285714285]},\"selected\":{\"id\":\"35252\"},\"selection_policy\":{\"id\":\"35251\"}},\"id\":\"34852\",\"type\":\"ColumnDataSource\"},{\"attributes\":{},\"id\":\"35243\",\"type\":\"UnionRenderers\"},{\"attributes\":{\"bottom_units\":\"screen\",\"fill_alpha\":0.5,\"fill_color\":\"lightgrey\",\"left_units\":\"screen\",\"level\":\"overlay\",\"line_alpha\":1.0,\"line_color\":\"black\",\"line_dash\":[4,4],\"line_width\":2,\"right_units\":\"screen\",\"top_units\":\"screen\"},\"id\":\"34824\",\"type\":\"BoxAnnotation\"},{\"attributes\":{\"line_alpha\":0.1,\"line_color\":\"green\",\"x\":{\"field\":\"x\"},\"y\":{\"field\":\"y\"}},\"id\":\"34849\",\"type\":\"Line\"},{\"attributes\":{},\"id\":\"35244\",\"type\":\"Selection\"},{\"attributes\":{\"data_source\":{\"id\":\"34847\"},\"glyph\":{\"id\":\"34848\"},\"hover_glyph\":null,\"muted_glyph\":null,\"nonselection_glyph\":{\"id\":\"34849\"},\"selection_glyph\":null,\"view\":{\"id\":\"34851\"}},\"id\":\"34850\",\"type\":\"GlyphRenderer\"},{\"attributes\":{\"data_source\":{\"id\":\"34832\"},\"glyph\":{\"id\":\"34833\"},\"hover_glyph\":null,\"muted_glyph\":null,\"nonselection_glyph\":{\"id\":\"34834\"},\"selection_glyph\":null,\"view\":{\"id\":\"34836\"}},\"id\":\"34835\",\"type\":\"GlyphRenderer\"},{\"attributes\":{},\"id\":\"35245\",\"type\":\"UnionRenderers\"},{\"attributes\":{},\"id\":\"35252\",\"type\":\"Selection\"},{\"attributes\":{},\"id\":\"35247\",\"type\":\"UnionRenderers\"},{\"attributes\":{\"source\":{\"id\":\"34847\"}},\"id\":\"34851\",\"type\":\"CDSView\"},{\"attributes\":{},\"id\":\"35246\",\"type\":\"Selection\"},{\"attributes\":{\"source\":{\"id\":\"34832\"}},\"id\":\"34836\",\"type\":\"CDSView\"},{\"attributes\":{},\"id\":\"35241\",\"type\":\"BasicTickFormatter\"},{\"attributes\":{\"line_color\":\"green\",\"x\":{\"field\":\"x\"},\"y\":{\"field\":\"y\"}},\"id\":\"34848\",\"type\":\"Line\"},{\"attributes\":{},\"id\":\"35248\",\"type\":\"Selection\"},{\"attributes\":{\"line_color\":\"green\",\"x\":{\"field\":\"x\"},\"y\":{\"field\":\"y\"}},\"id\":\"34853\",\"type\":\"Line\"},{\"attributes\":{},\"id\":\"35251\",\"type\":\"UnionRenderers\"},{\"attributes\":{},\"id\":\"34811\",\"type\":\"BasicTicker\"},{\"attributes\":{},\"id\":\"34815\",\"type\":\"BasicTicker\"},{\"attributes\":{},\"id\":\"35239\",\"type\":\"BasicTickFormatter\"},{\"attributes\":{\"line_alpha\":0.1,\"line_color\":\"green\",\"x\":{\"field\":\"x\"},\"y\":{\"field\":\"y\"}},\"id\":\"34854\",\"type\":\"Line\"},{\"attributes\":{\"text\":\"\"},\"id\":\"35238\",\"type\":\"Title\"},{\"attributes\":{\"data\":{\"x\":[47.0,46.0,42.0,49.0,49.0,48.0,49.0,47.0,54.0,55.0,55.0,56.0,57.5,57.0,58.0,56.0,56.0,57.5,58.0,60.0,60.0,59.0,59.0,60.0,60.0,61.0,62.0,63.0,61.0,61.0,61.0,66.0,66.0,65.0,65.0,65.0,65.0,66.0,64.0,64.0,66.0,70.0,67.5,72.0,73.0,82.0,83.0,81.0,64.0],\"y\":[35.0,32.0,27.0,25.0,23.0,21.0,19.0,13.0,24.0,28.0,19.0,11.0,15.0,20.0,21.0,21.0,21.0,26.0,27.0,15.0,17.0,17.0,22.0,26.0,26.0,26.0,13.0,16.0,17.0,17.0,20.0,4.0,8.0,10.0,17.0,17.0,17.0,19.0,20.0,22.0,23.0,15.0,16.0,13.0,8.0,3.0,7.5,22.0,19.0]},\"selected\":{\"id\":\"35244\"},\"selection_policy\":{\"id\":\"35243\"}},\"id\":\"34832\",\"type\":\"ColumnDataSource\"}],\"root_ids\":[\"34801\"]},\"title\":\"Bokeh Application\",\"version\":\"2.2.1\"}};\n",
       "  var render_items = [{\"docid\":\"e4aba3fd-ddd4-4c13-afeb-78c654060466\",\"root_ids\":[\"34801\"],\"roots\":{\"34801\":\"156b445f-c14b-4ca0-921c-75e79f1e6c94\"}}];\n",
       "  root.Bokeh.embed.embed_items_notebook(docs_json, render_items);\n",
       "\n",
       "  }\n",
       "  if (root.Bokeh !== undefined) {\n",
       "    embed_document(root);\n",
       "  } else {\n",
       "    var attempts = 0;\n",
       "    var timer = setInterval(function(root) {\n",
       "      if (root.Bokeh !== undefined) {\n",
       "        clearInterval(timer);\n",
       "        embed_document(root);\n",
       "      } else {\n",
       "        attempts++;\n",
       "        if (attempts > 100) {\n",
       "          clearInterval(timer);\n",
       "          console.log(\"Bokeh: ERROR: Unable to run BokehJS code because BokehJS library is missing\");\n",
       "        }\n",
       "      }\n",
       "    }, 10, root)\n",
       "  }\n",
       "})(window);"
      ],
      "application/vnd.bokehjs_exec.v0+json": ""
     },
     "metadata": {
      "application/vnd.bokehjs_exec.v0+json": {
       "id": "34801"
      }
     },
     "output_type": "display_data"
    }
   ],
   "source": [
    "def graph3():\n",
    "    df = get_data()\n",
    "    x = df.x.tolist()\n",
    "    y = df.y.tolist()\n",
    "    x_mean = np.mean(x)\n",
    "    y_mean = np.mean(y)\n",
    "    print(x_mean, y_mean)\n",
    "    p = figure()\n",
    "    p.circle(x = x, y = y)\n",
    "    X = list(zip(*[x]))\n",
    "    min_x = min(x)\n",
    "    max_x = max(x)\n",
    "    min_y = min(y)\n",
    "    max_y = max(y)\n",
    "    \n",
    "    print(min_x, max_x)\n",
    "    xm = sm.add_constant(X)\n",
    "    model = sm.OLS(y, xm) \n",
    "    result = model.fit()\n",
    "    y_hat2 = [x * result.params[1] + result.params[0] for x in x]\n",
    "    y_hat = result.predict(xm)\n",
    "    #p.line(x = x, y = y_hat2)\n",
    "    p.line(x = [x_mean, x_mean], y = [min_y, max_y], color = 'red')\n",
    "    p.line(y = [y_mean, y_mean], x = [min_x, max_x], color = 'red')\n",
    "    p.line(x = [min_x, max_x], y = [y_mean + 5, y_mean + 5], color = 'green')\n",
    "    p.line(x = [min_x, max_x], y = [y_mean - 5, y_mean -5], color = 'green')\n",
    "\n",
    "\n",
    "    \n",
    "    return p\n",
    "show(graph3())"
   ]
  }
 ],
 "metadata": {
  "kernelspec": {
   "display_name": "Python 3",
   "language": "python",
   "name": "python3"
  },
  "language_info": {
   "codemirror_mode": {
    "name": "ipython",
    "version": 3
   },
   "file_extension": ".py",
   "mimetype": "text/x-python",
   "name": "python",
   "nbconvert_exporter": "python",
   "pygments_lexer": "ipython3",
   "version": "3.6.9"
  }
 },
 "nbformat": 4,
 "nbformat_minor": 2
}
