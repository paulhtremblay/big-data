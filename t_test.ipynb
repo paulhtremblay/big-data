{
 "cells": [
  {
   "cell_type": "code",
   "execution_count": 66,
   "metadata": {},
   "outputs": [],
   "source": [
    "from  scipy.stats import ttest_ind, ttest_ind_from_stats\n",
    "import numpy as np\n",
    "from scipy.special import stdtr\n",
    "from scipy.stats import t\n",
    "import math"
   ]
  },
  {
   "cell_type": "code",
   "execution_count": 27,
   "metadata": {},
   "outputs": [],
   "source": [
    "a = np.random.randn(40)\n",
    "b = 1*np.random.randn(50)"
   ]
  },
  {
   "cell_type": "code",
   "execution_count": 7,
   "metadata": {},
   "outputs": [],
   "source": [
    "t, p = ttest_ind(a, b, equal_var=False)"
   ]
  },
  {
   "cell_type": "code",
   "execution_count": 16,
   "metadata": {},
   "outputs": [],
   "source": [
    "# manual dof\n",
    "def get_dof(a, b):\n",
    "    abar = a.mean()\n",
    "    avar = a.var(ddof=1)\n",
    "    na = a.size\n",
    "    adof = na - 1\n",
    "    bbar = b.mean()\n",
    "    bvar = b.var(ddof=1)\n",
    "    nb = b.size\n",
    "    bdof = nb - 1\n",
    "    dof = (avar/na + bvar/nb)**2 / (avar**2/(na**2*adof) + bvar**2/(nb**2*bdof))\n",
    "    print(dof)\n",
    "    # t score\n",
    "    tf = (abar - bbar) / np.sqrt(avar/na + bvar/nb)\n",
    "    print(tf)\n",
    "    pf = 2*stdtr(dof, -np.abs(tf))\n",
    "    print(pf)"
   ]
  },
  {
   "cell_type": "code",
   "execution_count": 43,
   "metadata": {},
   "outputs": [
    {
     "name": "stdout",
     "output_type": "stream",
     "text": [
      "85.19531048031159\n",
      "1.4032554162382371\n",
      "0.1641748997546495\n",
      "-1.4032554162382371 0.1641748997546495\n"
     ]
    }
   ],
   "source": [
    "a = abs(np.random.randn(40))\n",
    "b = abs(1.2*np.random.randn(50))\n",
    "get_dof(b,a)\n",
    "t, p = ttest_ind(a, b, equal_var=False)\n",
    "print(t,p)\n"
   ]
  },
  {
   "cell_type": "code",
   "execution_count": 47,
   "metadata": {},
   "outputs": [],
   "source": [
    "# given values\n",
    "mean1 = 115.7\n",
    "mean2 = 129.3\n",
    "nobs1 = 6\n",
    "nobs2 = 6\n",
    "std1 = 5.03\n",
    "std2 = 5.38\n"
   ]
  },
  {
   "cell_type": "code",
   "execution_count": 53,
   "metadata": {},
   "outputs": [
    {
     "name": "stdout",
     "output_type": "stream",
     "text": [
      "Ttest_indResult(statistic=-4.523071737605643, pvalue=0.001103108430796497)\n"
     ]
    }
   ],
   "source": [
    "# test that the means differ by zero\n",
    "result = ttest_ind_from_stats(mean1, std1, nobs1, mean2, std2, nobs2, equal_var=True)\n",
    "print(result)"
   ]
  },
  {
   "cell_type": "code",
   "execution_count": 54,
   "metadata": {},
   "outputs": [
    {
     "name": "stdout",
     "output_type": "stream",
     "text": [
      "Ttest_indResult(statistic=-1.1972836952485546, pvalue=0.25880652155262734)\n"
     ]
    }
   ],
   "source": [
    "# test that the means differ by zero\n",
    "result = ttest_ind_from_stats(mean1 + 10, std1, nobs1, mean2, std2, nobs2, equal_var=True)\n",
    "print(result)"
   ]
  },
  {
   "cell_type": "code",
   "execution_count": 55,
   "metadata": {},
   "outputs": [
    {
     "name": "stdout",
     "output_type": "stream",
     "text": [
      "Ttest_indResult(statistic=-1.1972836952485546, pvalue=0.25880652155262734)\n"
     ]
    }
   ],
   "source": [
    "# test that the means differ by zero\n",
    "result = ttest_ind_from_stats(mean1, std1, nobs1, mean2 - 10, std2, nobs2, equal_var=True)\n",
    "print(result)"
   ]
  },
  {
   "cell_type": "code",
   "execution_count": 63,
   "metadata": {},
   "outputs": [
    {
     "name": "stdout",
     "output_type": "stream",
     "text": [
      "0.9933281724887152\n"
     ]
    }
   ],
   "source": [
    "# get t score\n",
    "y = t.cdf(3, df = 10)\n",
    "print(y)"
   ]
  },
  {
   "cell_type": "code",
   "execution_count": 80,
   "metadata": {},
   "outputs": [
    {
     "name": "stdout",
     "output_type": "stream",
     "text": [
      "0.04262053453288217\n",
      "reject the null hypothesis\n"
     ]
    }
   ],
   "source": [
    "# a sample of size 13 has a mean of 27.923 and standard deviation of 5.619 is this \n",
    "# sample greater than 25\n",
    "x_bar = 27.923\n",
    "h0 = 25\n",
    "s = 5.619\n",
    "n = 13\n",
    "t_val = (x_bar - h0)/(s/math.sqrt(n))\n",
    "p_val = 1 - t.cdf(t_val, df=n-1)\n",
    "print(p_val)\n",
    "if p_val < .05:\n",
    "    print('reject the null hypothesis')\n",
    "else:\n",
    "    print('do not reject hypothesis')\n"
   ]
  },
  {
   "cell_type": "code",
   "execution_count": null,
   "metadata": {},
   "outputs": [],
   "source": []
  }
 ],
 "metadata": {
  "kernelspec": {
   "display_name": "Python 3",
   "language": "python",
   "name": "python3"
  },
  "language_info": {
   "codemirror_mode": {
    "name": "ipython",
    "version": 3
   },
   "file_extension": ".py",
   "mimetype": "text/x-python",
   "name": "python",
   "nbconvert_exporter": "python",
   "pygments_lexer": "ipython3",
   "version": "3.6.9"
  }
 },
 "nbformat": 4,
 "nbformat_minor": 2
}
