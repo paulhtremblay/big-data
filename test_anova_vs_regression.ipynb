{
 "cells": [
  {
   "cell_type": "code",
   "execution_count": 1,
   "metadata": {},
   "outputs": [],
   "source": [
    "import pandas as pd\n",
    "from statsmodels.formula.api import ols\n",
    "from statsmodels.stats.anova import anova_lm\n"
   ]
  },
  {
   "cell_type": "code",
   "execution_count": 2,
   "metadata": {},
   "outputs": [],
   "source": [
    "from bokeh.io import show\n",
    "from bokeh.plotting import figure\n",
    "from  big_data_tools.bokeh_tools.box_plot import box_plot\n",
    "from bokeh.layouts import gridplot\n"
   ]
  },
  {
   "cell_type": "code",
   "execution_count": 3,
   "metadata": {},
   "outputs": [],
   "source": [
    "def get_tooth_data():\n",
    "    path = '/home/henry/Downloads/ToothGrowth.csv'\n",
    "    return pd.read_csv(path)\n"
   ]
  },
  {
   "cell_type": "code",
   "execution_count": 6,
   "metadata": {},
   "outputs": [
    {
     "name": "stdout",
     "output_type": "stream",
     "text": [
      "                      sum_sq    df          F        PR(>F)\n",
      "C(supp)           205.350000   1.0  15.571979  2.311828e-04\n",
      "C(dose)          2426.434333   2.0  91.999965  4.046291e-18\n",
      "C(supp):C(dose)   108.319000   2.0   4.106991  2.186027e-02\n",
      "Residual          712.106000  54.0        NaN           NaN\n"
     ]
    }
   ],
   "source": [
    "def anova():\n",
    "    df = get_tooth_data()\n",
    "    formula = 'len ~ C(supp) + C(dose) + C(supp):C(dose)'\n",
    "    model = ols(formula, df).fit()\n",
    "    aov_table = anova_lm(model, typ=2)\n",
    "    return aov_table\n",
    "print(anova())"
   ]
  },
  {
   "cell_type": "code",
   "execution_count": 5,
   "metadata": {},
   "outputs": [],
   "source": [
    "def box_tooth():\n",
    "    df = get_tooth_data()\n",
    "    p_box1 = box_plot(cats =['oj', 'vj'],\n",
    "                      data = [\n",
    "                       list(df[df.supp == 'OJ'].len),\n",
    "                       list(df[df.supp == 'VC'].len),\n",
    "                          \n",
    "                      ]\n",
    "    )\n",
    "    p_box2 = box_plot(cats =['.5', '1', '2'],\n",
    "                      data = [\n",
    "                       list(df[df.dose == .5].len),\n",
    "                       list(df[df.dose== 1].len),\n",
    "                        list(df[df.dose== 2].len),\n",
    "\n",
    "                          \n",
    "                      ]\n",
    "    )\n",
    "   \n",
    "   \n",
    "    \n",
    "    grid = gridplot([p_box1, p_box2\n",
    "        ],\n",
    "        ncols = 2)\n",
    "    show(grid)\n",
    "box_tooth()\n"
   ]
  },
  {
   "cell_type": "code",
   "execution_count": null,
   "metadata": {},
   "outputs": [],
   "source": [
    "\"\"\"A potentia regression model could be dose + 1/m(supp) \"\"\""
   ]
  }
 ],
 "metadata": {
  "kernelspec": {
   "display_name": "Python 3",
   "language": "python",
   "name": "python3"
  },
  "language_info": {
   "codemirror_mode": {
    "name": "ipython",
    "version": 3
   },
   "file_extension": ".py",
   "mimetype": "text/x-python",
   "name": "python",
   "nbconvert_exporter": "python",
   "pygments_lexer": "ipython3",
   "version": "3.6.8"
  }
 },
 "nbformat": 4,
 "nbformat_minor": 2
}
