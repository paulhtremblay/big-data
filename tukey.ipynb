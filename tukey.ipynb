{
 "cells": [
  {
   "cell_type": "code",
   "execution_count": 1,
   "metadata": {},
   "outputs": [],
   "source": [
    "import numpy as np\n",
    "import math\n",
    "import pandas as pd\n",
    "from scipy import stats\n",
    "from statsmodels.stats.multicomp import pairwise_tukeyhsd\n",
    "from statsmodels.stats.multicomp import MultiComparison"
   ]
  },
  {
   "cell_type": "code",
   "execution_count": null,
   "metadata": {},
   "outputs": [],
   "source": [
    "from bokeh.io import show\n",
    "from bokeh.plotting import figure\n",
    "from  big_data_tools.bokeh_tools.bar import bar \n",
    "from  big_data_tools.bokeh_tools.histogram import hist \n",
    "from  big_data_tools.bokeh_tools.box_plot import box_plot \n",
    "from  big_data_tools.bokeh_tools.prob_plot import prob_plot \n",
    "from bokeh.layouts import gridplot\n",
    "from bokeh.models import NumeralTickFormatter\n",
    "from bokeh.models import DatetimeTickFormatter\n"
   ]
  },
  {
   "cell_type": "code",
   "execution_count": 2,
   "metadata": {},
   "outputs": [],
   "source": [
    "def get_data():\n",
    "    control = [88.6, 73.2, 91.4, 68, 75.2]\n",
    "    t1 = [63, 53.9, 69.2, 50.1, 71.5]\n",
    "    t2 = [44.9, 59.5, 40.2, 56.3, 38.7]\n",
    "    t3 = [31, 39.6, 45.3, 25.2, 22.7]\n",
    "    df = pd.DataFrame([control, t1, t2, t3, ],  index = ['control', 't1', 't2', 't3'])\n",
    "    return df\n",
    "data = get_data()\n"
   ]
  },
  {
   "cell_type": "code",
   "execution_count": null,
   "metadata": {},
   "outputs": [],
   "source": [
    "d = [list(data.loc['control']),\n",
    "                list(data.loc['t1']), list(data.loc['t2']), list(data.loc['t3'])]\n",
    "p_box = box_plot(list(data.index), data =d )\n",
    "grid = gridplot([p_box, \n",
    "    ],\n",
    "    ncols = 2)\n",
    "show(grid)"
   ]
  },
  {
   "cell_type": "code",
   "execution_count": null,
   "metadata": {},
   "outputs": [],
   "source": [
    "F, p = stats.f_oneway(data.loc['control'], data.loc['t1'], data.loc['t2'], data.loc['t3'])\n",
    "print(F,p)"
   ]
  },
  {
   "cell_type": "code",
   "execution_count": 4,
   "metadata": {},
   "outputs": [
    {
     "name": "stdout",
     "output_type": "stream",
     "text": [
      "['control', 'control', 'control', 'control', 'control', 't1', 't1', 't1', 't1', 't1', 't2', 't2', 't2', 't2', 't2', 't3', 't3', 't3', 't3', 't3']\n",
      "[88.6, 73.2, 91.4, 68.0, 75.2, 63.0, 53.9, 69.2, 50.1, 71.5, 44.9, 59.5, 40.2, 56.3, 38.7, 31.0, 39.6, 45.3, 25.2, 22.7]\n"
     ]
    }
   ],
   "source": [
    "groups = []\n",
    "for i in data.index:\n",
    "    for j in data.loc[i]:\n",
    "        groups.append(i)\n",
    "values = []\n",
    "for i in data.index:\n",
    "    for j in data.loc[i]:\n",
    "        values.append(j)\n",
    "print(groups)\n",
    "print(values)\n",
    "mc = MultiComparison(values, groups = np.array(groups))\n",
    "result = mc.tukeyhsd()\n",
    "\n",
    "print(result)\n",
    "#print(mc.groupsunique)"
   ]
  },
  {
   "cell_type": "code",
   "execution_count": null,
   "metadata": {},
   "outputs": [],
   "source": []
  }
 ],
 "metadata": {
  "kernelspec": {
   "display_name": "Python 3",
   "language": "python",
   "name": "python3"
  },
  "language_info": {
   "codemirror_mode": {
    "name": "ipython",
    "version": 3
   },
   "file_extension": ".py",
   "mimetype": "text/x-python",
   "name": "python",
   "nbconvert_exporter": "python",
   "pygments_lexer": "ipython3",
   "version": "3.5.2"
  }
 },
 "nbformat": 4,
 "nbformat_minor": 2
}
