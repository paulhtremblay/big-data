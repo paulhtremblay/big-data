{
 "cells": [
  {
   "cell_type": "code",
   "execution_count": 1,
   "metadata": {},
   "outputs": [],
   "source": [
    "import numpy as np\n",
    "import math\n",
    "import pandas as pd\n",
    "from scipy import stats\n",
    "from statsmodels.stats.multicomp import pairwise_tukeyhsd\n",
    "from statsmodels.stats.multicomp import MultiComparison"
   ]
  },
  {
   "cell_type": "code",
   "execution_count": 2,
   "metadata": {},
   "outputs": [],
   "source": [
    "from bokeh.io import show\n",
    "from bokeh.plotting import figure\n",
    "from  big_data_tools.bokeh_tools.bar import bar \n",
    "from  big_data_tools.bokeh_tools.histogram import hist \n",
    "from  big_data_tools.bokeh_tools.box_plot import box_plot \n",
    "from  big_data_tools.bokeh_tools.prob_plot import prob_plot \n",
    "from bokeh.layouts import gridplot\n",
    "from bokeh.models import NumeralTickFormatter\n",
    "from bokeh.models import DatetimeTickFormatter\n"
   ]
  },
  {
   "cell_type": "code",
   "execution_count": 3,
   "metadata": {},
   "outputs": [],
   "source": [
    "def get_data():\n",
    "    control = [88.6, 73.2, 91.4, 68, 75.2]\n",
    "    t1 = [63, 53.9, 69.2, 50.1, 71.5]\n",
    "    t2 = [44.9, 59.5, 40.2, 56.3, 38.7]\n",
    "    t3 = [31, 39.6, 45.3, 25.2, 22.7]\n",
    "    df = pd.DataFrame([control, t1, t2, t3, ],  index = ['control', 't1', 't2', 't3'])\n",
    "    return df\n",
    "data = get_data()\n"
   ]
  },
  {
   "cell_type": "code",
   "execution_count": 4,
   "metadata": {},
   "outputs": [
    {
     "ename": "TypeError",
     "evalue": "box_plot() got multiple values for argument 'data'",
     "output_type": "error",
     "traceback": [
      "\u001b[0;31m---------------------------------------------------------------------------\u001b[0m",
      "\u001b[0;31mTypeError\u001b[0m                                 Traceback (most recent call last)",
      "\u001b[0;32m<ipython-input-4-387db2e4d0ea>\u001b[0m in \u001b[0;36m<module>\u001b[0;34m\u001b[0m\n\u001b[1;32m      1\u001b[0m d = [list(data.loc['control']),\n\u001b[1;32m      2\u001b[0m                 list(data.loc['t1']), list(data.loc['t2']), list(data.loc['t3'])]\n\u001b[0;32m----> 3\u001b[0;31m \u001b[0mp_box\u001b[0m \u001b[0;34m=\u001b[0m \u001b[0mbox_plot\u001b[0m\u001b[0;34m(\u001b[0m\u001b[0mlist\u001b[0m\u001b[0;34m(\u001b[0m\u001b[0mdata\u001b[0m\u001b[0;34m.\u001b[0m\u001b[0mindex\u001b[0m\u001b[0;34m)\u001b[0m\u001b[0;34m,\u001b[0m \u001b[0mdata\u001b[0m \u001b[0;34m=\u001b[0m\u001b[0md\u001b[0m \u001b[0;34m)\u001b[0m\u001b[0;34m\u001b[0m\u001b[0;34m\u001b[0m\u001b[0m\n\u001b[0m\u001b[1;32m      4\u001b[0m grid = gridplot([p_box, \n\u001b[1;32m      5\u001b[0m     ],\n",
      "\u001b[0;31mTypeError\u001b[0m: box_plot() got multiple values for argument 'data'"
     ]
    }
   ],
   "source": [
    "d = [list(data.loc['control']),\n",
    "                list(data.loc['t1']), list(data.loc['t2']), list(data.loc['t3'])]\n",
    "p_box = box_plot(list(data.index), data =d )\n",
    "grid = gridplot([p_box, \n",
    "    ],\n",
    "    ncols = 2)\n",
    "show(grid)"
   ]
  },
  {
   "cell_type": "code",
   "execution_count": 5,
   "metadata": {},
   "outputs": [
    {
     "name": "stdout",
     "output_type": "stream",
     "text": [
      "21.09222356685044 8.324881697746597e-06\n"
     ]
    }
   ],
   "source": [
    "F, p = stats.f_oneway(data.loc['control'], data.loc['t1'], data.loc['t2'], data.loc['t3'])\n",
    "print(F,p)"
   ]
  },
  {
   "cell_type": "code",
   "execution_count": 6,
   "metadata": {},
   "outputs": [
    {
     "name": "stdout",
     "output_type": "stream",
     "text": [
      "['control', 'control', 'control', 'control', 'control', 't1', 't1', 't1', 't1', 't1', 't2', 't2', 't2', 't2', 't2', 't3', 't3', 't3', 't3', 't3']\n",
      "[88.6, 73.2, 91.4, 68.0, 75.2, 63.0, 53.9, 69.2, 50.1, 71.5, 44.9, 59.5, 40.2, 56.3, 38.7, 31.0, 39.6, 45.3, 25.2, 22.7]\n",
      "Multiple Comparison of Means - Tukey HSD,FWER=0.05\n",
      "================================================\n",
      " group1 group2 meandiff  lower    upper   reject\n",
      "------------------------------------------------\n",
      "control   t1    -17.74  -35.1877 -0.2923   True \n",
      "control   t2    -31.36  -48.8077 -13.9123  True \n",
      "control   t3    -46.52  -63.9677 -29.0723  True \n",
      "   t1     t2    -13.62  -31.0677  3.8277  False \n",
      "   t1     t3    -28.78  -46.2277 -11.3323  True \n",
      "   t2     t3    -15.16  -32.6077  2.2877  False \n",
      "------------------------------------------------\n"
     ]
    }
   ],
   "source": [
    "groups = []\n",
    "for i in data.index:\n",
    "    for j in data.loc[i]:\n",
    "        groups.append(i)\n",
    "values = []\n",
    "for i in data.index:\n",
    "    for j in data.loc[i]:\n",
    "        values.append(j)\n",
    "print(groups)\n",
    "print(values)\n",
    "mc = MultiComparison(values, groups = np.array(groups))\n",
    "result = mc.tukeyhsd()\n",
    "\n",
    "print(result)\n",
    "#print(mc.groupsunique)"
   ]
  },
  {
   "cell_type": "code",
   "execution_count": null,
   "metadata": {},
   "outputs": [],
   "source": []
  }
 ],
 "metadata": {
  "kernelspec": {
   "display_name": "Python 3",
   "language": "python",
   "name": "python3"
  },
  "language_info": {
   "codemirror_mode": {
    "name": "ipython",
    "version": 3
   },
   "file_extension": ".py",
   "mimetype": "text/x-python",
   "name": "python",
   "nbconvert_exporter": "python",
   "pygments_lexer": "ipython3",
   "version": "3.6.8"
  }
 },
 "nbformat": 4,
 "nbformat_minor": 2
}
