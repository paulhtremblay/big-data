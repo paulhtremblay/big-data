{
 "cells": [
  {
   "cell_type": "code",
   "execution_count": 7,
   "metadata": {},
   "outputs": [],
   "source": [
    "from scipy import stats\n",
    "import numpy as np\n",
    "from bokeh.plotting  import figure, show\n"
   ]
  },
  {
   "cell_type": "code",
   "execution_count": 23,
   "metadata": {},
   "outputs": [
    {
     "data": {
      "text/plain": [
       "29.619505647606687"
      ]
     },
     "execution_count": 23,
     "metadata": {},
     "output_type": "execute_result"
    }
   ],
   "source": [
    "c = .7\n",
    "scale = 50\n",
    "x = np.linspace(stats.weibull_min.ppf(0.01, c, scale = scale),\n",
    "    stats.weibull_min.ppf(0.99, c, scale = scale), 100)\n",
    "y =  stats.weibull_min.pdf(x, c, scale = scale)\n",
    "p = figure()\n",
    "p.line(x,y)\n",
    "show(p)\n",
    "stats.weibull_min.ppf(.5, c, scale = scale)"
   ]
  },
  {
   "cell_type": "code",
   "execution_count": 41,
   "metadata": {},
   "outputs": [
    {
     "name": "stdout",
     "output_type": "stream",
     "text": [
      "1.3053444178371876 12.070189747374968 1.0422416652559248e-30\n"
     ]
    }
   ],
   "source": [
    "loc = 10\n",
    "shape = .7\n",
    "scale = 10\n",
    "y = stats.weibull_min.pdf(x, c =shape, loc=loc, scale=scale)\n",
    "shape_hat, loc_hat, scale_hat = stats.weibull_min.fit(y, loc= loc)\n",
    "print(shape_hat, loc_hat, scale_hat)"
   ]
  },
  {
   "cell_type": "code",
   "execution_count": 36,
   "metadata": {},
   "outputs": [],
   "source": [
    "# not try fitting\n",
    "shape, loc, scale = stats.weibull_min.fit(y, loc= loc)"
   ]
  },
  {
   "cell_type": "code",
   "execution_count": 39,
   "metadata": {},
   "outputs": [
    {
     "data": {
      "text/plain": [
       "12.070192360285464"
      ]
     },
     "execution_count": 39,
     "metadata": {},
     "output_type": "execute_result"
    }
   ],
   "source": [
    "loc"
   ]
  }
 ],
 "metadata": {
  "kernelspec": {
   "display_name": "Python 3",
   "language": "python",
   "name": "python3"
  },
  "language_info": {
   "codemirror_mode": {
    "name": "ipython",
    "version": 3
   },
   "file_extension": ".py",
   "mimetype": "text/x-python",
   "name": "python",
   "nbconvert_exporter": "python",
   "pygments_lexer": "ipython3",
   "version": "3.5.2"
  }
 },
 "nbformat": 4,
 "nbformat_minor": 2
}
