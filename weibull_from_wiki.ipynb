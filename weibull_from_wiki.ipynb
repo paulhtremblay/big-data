{
 "cells": [
  {
   "cell_type": "code",
   "execution_count": 49,
   "metadata": {},
   "outputs": [],
   "source": [
    "from scipy import stats\n",
    "import numpy as np\n",
    "import math\n",
    "from scipy.optimize import bisect\n",
    "from bokeh.plotting  import figure, show"
   ]
  },
  {
   "cell_type": "code",
   "execution_count": 50,
   "metadata": {},
   "outputs": [],
   "source": [
    "k = .8\n",
    "lamb = 5\n",
    "rvs = stats.weibull_min.rvs(c=k, loc=0, scale=lamb, size=100)\n"
   ]
  },
  {
   "cell_type": "code",
   "execution_count": 51,
   "metadata": {},
   "outputs": [],
   "source": [
    "#define the functions for k\n",
    "def sum_top(rvs, k):\n",
    "    s = 0\n",
    "    for i in rvs:\n",
    "        s += math.pow(i, k) * math.log(i)\n",
    "    return s\n",
    "    \n",
    "def sum_bottom(rvs, k):\n",
    "    s = 0\n",
    "    for i in rvs:\n",
    "        s += math.pow(i, k)\n",
    "    return s\n",
    "\n",
    "def right_sum(rvs):\n",
    "    s = 0\n",
    "    for i in rvs:\n",
    "        s += math.log(i)\n",
    "    return s/len(rvs)\n",
    "\n",
    "def full_equation(rvs, k):\n",
    "    return sum_top(rvs, k)/sum_bottom(rvs, k) - 1/k - right_sum(rvs)"
   ]
  },
  {
   "cell_type": "code",
   "execution_count": 52,
   "metadata": {},
   "outputs": [],
   "source": [
    "def lamb_fun(rvs, k):\n",
    "    s = 0\n",
    "    for i in rvs:\n",
    "        s += math.pow(i, k)\n",
    "    return s/len(rvs)\n",
    "    "
   ]
  },
  {
   "cell_type": "code",
   "execution_count": 53,
   "metadata": {},
   "outputs": [],
   "source": [
    "# k func\n",
    "k_fun = lambda x: full_equation(rvs = rvs, k= x)\n"
   ]
  },
  {
   "cell_type": "code",
   "execution_count": 54,
   "metadata": {},
   "outputs": [
    {
     "name": "stdout",
     "output_type": "stream",
     "text": [
      "k hat is 0.8284391710360809\n",
      "lambda_hat is 3.9315440556977848\n"
     ]
    }
   ],
   "source": [
    "k_hat = bisect(k_fun, .1, 30)\n",
    "print('k hat is {k_hat}'.format(k_hat = k_hat))\n",
    "lambda_hat = lamb_fun(rvs, k_hat)\n",
    "print('lambda_hat is {lambda_hat}'.format(lambda_hat = lambda_hat))\n"
   ]
  },
  {
   "cell_type": "code",
   "execution_count": null,
   "metadata": {},
   "outputs": [],
   "source": []
  }
 ],
 "metadata": {
  "kernelspec": {
   "display_name": "Python 3",
   "language": "python",
   "name": "python3"
  },
  "language_info": {
   "codemirror_mode": {
    "name": "ipython",
    "version": 3
   },
   "file_extension": ".py",
   "mimetype": "text/x-python",
   "name": "python",
   "nbconvert_exporter": "python",
   "pygments_lexer": "ipython3",
   "version": "3.5.2"
  }
 },
 "nbformat": 4,
 "nbformat_minor": 2
}
